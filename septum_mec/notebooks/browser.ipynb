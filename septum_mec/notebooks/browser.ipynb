{
 "cells": [
  {
   "cell_type": "code",
   "execution_count": 1,
   "metadata": {},
   "outputs": [],
   "source": [
    "import expipe_plugin_cinpla\n",
    "import expipe\n",
    "import os\n",
    "import pathlib"
   ]
  },
  {
   "cell_type": "code",
   "execution_count": 2,
   "metadata": {},
   "outputs": [],
   "source": [
    "from expipe_plugin_cinpla.widgets import browser"
   ]
  },
  {
   "cell_type": "code",
   "execution_count": 3,
   "metadata": {},
   "outputs": [],
   "source": [
    "project_path = os.environ.get(\"SEPTUM_MEC_DATA\")\n",
    "if project_path is None:\n",
    "    raise Exception(\"Need to set `SEPTUM_MEC_DATA` as environment variable first.\")\n",
    "else:\n",
    "    project_path = pathlib.Path(project_path)"
   ]
  },
  {
   "cell_type": "code",
   "execution_count": 4,
   "metadata": {
    "scrolled": false
   },
   "outputs": [
    {
     "name": "stderr",
     "output_type": "stream",
     "text": [
      "10:48:07 [I] klustakwik KlustaKwik2 version 0.2.6\n"
     ]
    },
    {
     "data": {
      "application/vnd.jupyter.widget-view+json": {
       "model_id": "0a28ee511881440eac33e2be0a1e5098",
       "version_major": 2,
       "version_minor": 0
      },
      "text/plain": [
       "Tab(children=(Tab(children=(VBox(children=(HBox(children=(SelectDirectoryButton(description='*Select OpenEphys…"
      ]
     },
     "metadata": {},
     "output_type": "display_data"
    },
    {
     "name": "stdout",
     "output_type": "stream",
     "text": [
      "Missing option  Actions\n"
     ]
    },
    {
     "name": "stderr",
     "output_type": "stream",
     "text": [
      "/home/mikkel/.virtualenvs/expipe/lib/python3.6/site-packages/paramiko/kex_ecdh_nist.py:39: CryptographyDeprecationWarning: encode_point has been deprecated on EllipticCurvePublicNumbers and will be removed in a future version. Please use EllipticCurvePublicKey.public_bytes to obtain both compressed and uncompressed point encoding.\n",
      "  m.add_string(self.Q_C.public_numbers().encode_point())\n",
      "/home/mikkel/.virtualenvs/expipe/lib/python3.6/site-packages/paramiko/kex_ecdh_nist.py:96: CryptographyDeprecationWarning: Support for unsafe construction of public numbers from encoded data will be removed in a future version. Please use EllipticCurvePublicKey.from_encoded_point\n",
      "  self.curve, Q_S_bytes\n",
      "/home/mikkel/.virtualenvs/expipe/lib/python3.6/site-packages/paramiko/kex_ecdh_nist.py:111: CryptographyDeprecationWarning: encode_point has been deprecated on EllipticCurvePublicNumbers and will be removed in a future version. Please use EllipticCurvePublicKey.public_bytes to obtain both compressed and uncompressed point encoding.\n",
      "  hm.add_string(self.Q_C.public_numbers().encode_point())\n"
     ]
    },
    {
     "name": "stdout",
     "output_type": "stream",
     "text": [
      "Invoking remote shell\n",
      "Initializing transfer of \"/home/mikkel/expipe/septum-mec/actions/1849-060319-2/data/main.exdir/acquisition/2\" to \"193.157.210.141\"\n",
      "mkdir process_5624773\n",
      "Packing tar archive\n"
     ]
    },
    {
     "name": "stderr",
     "output_type": "stream",
     "text": [
      "Transferring: b'2.tar':   1%|          | 12.7M/1.54G [00:00<00:12, 127MB/s]"
     ]
    },
    {
     "name": "stdout",
     "output_type": "stream",
     "text": [
      "/home/mikkel/expipe/septum-mec/actions/1849-060319-2/data/main.exdir/acquisition/2.tar\n"
     ]
    },
    {
     "name": "stderr",
     "output_type": "stream",
     "text": [
      "Transferring: b'2.tar': 100%|##########| 1.54G/1.54G [00:13<00:00, 116MB/s]\n",
      "Transferring: b'tetrode_32.prb': 100%|##########| 563/563 [00:00<00:00, 5.84kB/s]\n",
      "Transferring: b'spike_params.yaml': 100%|##########| 268/268 [00:00<00:00, 5.78kB/s]\n"
     ]
    },
    {
     "name": "stdout",
     "output_type": "stream",
     "text": [
      "Making acquisition folder\n",
      "Shell:  mkdir process_5624773/acquisition\n",
      "mkdir process_5624773/acquisition\n",
      "Unpacking tar archive\n",
      "tar -xf process_5624773/acquisition.tar --directory process_5624773/acquisition\n",
      "Deleting tar archives\n",
      "Processing on server\n",
      "expipe process openephys 1849-060319-2 --probe-path process_5624773/probe.prb --sorter klusta --spike-params process_5624773/spike_params.yaml  --acquisition process_5624773/acquisition --exdir-path process_5624773/main.exdir   --ref cmr   --sort-by group  --split-channels half  --ms-before-wf 1 --ms-after-wf 2  --no-mua\n",
      "ore-wf 1 --ms-after-wf 2  --no-muasort-by group  --split-channels half  --ms-befo\n",
      "\n",
      "10:48:50 [I] klustakwik KlustaKwik2 version 0.2.6\n",
      "\n",
      "Loading Open-Ephys: reading settings.xml...\n",
      "\n",
      "Decoding data from  binary  format\n",
      "\n",
      ".dat:  continuous.dat\n",
      "\n",
      "Estimated samples:  20806400  Numchan:  32\n",
      "\n",
      "Active channels:  32\n",
      "\n",
      "Writing filtered and common referenced data\n",
      "\n",
      "Bandpass filter\n",
      "\n",
      "Common median in groups:  [[0, 1, 2, 3, 4, 5, 6, 7, 8, 9, 10, 11, 12, 13, 14, 15], [16, 17, 18, 19, 20, 21, 22, 23, 24, 25, 26, 27, 28, 29, 30, 31]]\n",
      "\n"
     ]
    }
   ],
   "source": [
    "browser.display(project_path)"
   ]
  },
  {
   "cell_type": "code",
   "execution_count": 5,
   "metadata": {},
   "outputs": [
    {
     "data": {
      "application/vnd.jupyter.widget-view+json": {
       "model_id": "cd7d21076e9c4a2a90866306b0dd7f8a",
       "version_major": 2,
       "version_minor": 0
      },
      "text/plain": [
       "Tab(children=(Tab(children=(HBox(children=(Accordion(children=(VBox(children=(Checkbox(value=False, descriptio…"
      ]
     },
     "metadata": {},
     "output_type": "display_data"
    }
   ],
   "source": [
    "b = expipe.Browser(project_path).display()"
   ]
  },
  {
   "cell_type": "code",
   "execution_count": null,
   "metadata": {},
   "outputs": [],
   "source": []
  }
 ],
 "metadata": {
  "kernelspec": {
   "display_name": "Python 3",
   "language": "python",
   "name": "python3"
  },
  "language_info": {
   "codemirror_mode": {
    "name": "ipython",
    "version": 3
   },
   "file_extension": ".py",
   "mimetype": "text/x-python",
   "name": "python",
   "nbconvert_exporter": "python",
   "pygments_lexer": "ipython3",
   "version": "3.6.8"
  }
 },
 "nbformat": 4,
 "nbformat_minor": 2
}
