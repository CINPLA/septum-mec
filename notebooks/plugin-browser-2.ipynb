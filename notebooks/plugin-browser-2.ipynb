{
 "cells": [
  {
   "cell_type": "code",
   "execution_count": 1,
   "metadata": {},
   "outputs": [],
   "source": [
    "%load_ext autoreload\n",
    "%autoreload 2"
   ]
  },
  {
   "cell_type": "code",
   "execution_count": 2,
   "metadata": {},
   "outputs": [
    {
     "name": "stderr",
     "output_type": "stream",
     "text": [
      "13:45:08 [I] klustakwik KlustaKwik2 version 0.2.6\n"
     ]
    }
   ],
   "source": [
    "import expipe_plugin_cinpla\n",
    "import expipe\n",
    "import os\n",
    "import pathlib\n",
    "import warnings\n",
    "warnings.filterwarnings('ignore')"
   ]
  },
  {
   "cell_type": "code",
   "execution_count": 3,
   "metadata": {},
   "outputs": [],
   "source": [
    "from expipe_plugin_cinpla.widgets import browser"
   ]
  },
  {
   "cell_type": "code",
   "execution_count": 4,
   "metadata": {},
   "outputs": [],
   "source": [
    "project_path = os.environ.get(\"SEPTUM_MEC_DATA\")\n",
    "if project_path is None:\n",
    "    raise Exception(\"Need to set `SEPTUM_MEC_DATA` as environment variable first.\")\n",
    "else:\n",
    "    project_path = pathlib.Path(project_path)"
   ]
  },
  {
   "cell_type": "code",
   "execution_count": 5,
   "metadata": {
    "scrolled": false
   },
   "outputs": [
    {
     "data": {
      "application/vnd.jupyter.widget-view+json": {
       "model_id": "c4ba6e02eee14bd497799ff6cb081552",
       "version_major": 2,
       "version_minor": 0
      },
      "text/plain": [
       "Tab(children=(Tab(children=(VBox(children=(HBox(children=(SelectDirectoryButton(description='*Select OpenEphys…"
      ]
     },
     "metadata": {},
     "output_type": "display_data"
    },
    {
     "name": "stdout",
     "output_type": "stream",
     "text": [
      "Changed absolute dat path to: /media/storage/expipe/septum-mec/actions/1833-290519-1/data/main.exdir/processing/electrophysiology/spikesorting/kilosort2/phy/recording.dat\n",
      "Running phy\n",
      "Changed absolute dat path to: /media/storage/expipe/septum-mec/actions/1849-010319-5/data/main.exdir/processing/electrophysiology/spikesorting/kilosort2/phy/recording.dat\n",
      "Running phy\n",
      "Running phy\n",
      "\u001b[33m09:15:54.288 [W] model:339            Whitening matrix is not available.\u001b[0m\n",
      "\n",
      "/media/storage/expipe/septum-mec/actions/1849-010319-5/data/main.exdir/processing/electrophysiology/spikesorting/kilosort2/phy\n",
      "Computing waveform by group for unit 54\n",
      "Computing waveform by group for unit 57\n",
      "Computing waveform by group for unit 78\n",
      "Computing waveform by group for unit 87\n",
      "Computing waveform by group for unit 93\n",
      "Computing waveform by group for unit 99\n",
      "Computing waveform by group for unit 103\n",
      "Computing waveform by group for unit 105\n",
      "Computing waveform by group for unit 107\n",
      "Computing waveform by group for unit 109\n",
      "Computing waveform by group for unit 113\n",
      "Computing waveform by group for unit 117\n",
      "Computing waveform by group for unit 121\n",
      "Computing waveform by group for unit 127\n",
      "Computing waveform by group for unit 137\n",
      "Computing waveform by group for unit 148\n",
      "Computing waveform by group for unit 159\n",
      "Removing channel 0 info\n",
      "Removing channel 1 info\n",
      "Removing channel 2 info\n",
      "Removing channel 3 info\n",
      "Removing channel 4 info\n",
      "Removing channel 5 info\n",
      "Removing channel 6 info\n",
      "Removing channel 7 info\n",
      "Group:  0\n",
      "Unit:  117\n",
      "Saving EventWaveforms\n",
      "Saving Clustering\n",
      "Group:  1\n",
      "Unit:  127\n",
      "Unit:  137\n",
      "Unit:  159\n",
      "Saving EventWaveforms\n",
      "Saving Clustering\n",
      "Group:  2\n",
      "Unit:  78\n",
      "Unit:  93\n",
      "Unit:  103\n",
      "Unit:  121\n",
      "Saving EventWaveforms\n",
      "Saving Clustering\n",
      "Group:  3\n",
      "Unit:  99\n",
      "Unit:  113\n",
      "Unit:  148\n",
      "Saving EventWaveforms\n",
      "Saving Clustering\n",
      "Group:  5\n",
      "Unit:  87\n",
      "Saving EventWaveforms\n",
      "Saving Clustering\n",
      "Group:  6\n",
      "Unit:  105\n",
      "Unit:  107\n",
      "Unit:  109\n",
      "Saving EventWaveforms\n",
      "Saving Clustering\n",
      "Group:  7\n",
      "Unit:  54\n",
      "Unit:  57\n",
      "Saving EventWaveforms\n",
      "Saving Clustering\n",
      "Running phy\n"
     ]
    }
   ],
   "source": [
    "browser.display(project_path)"
   ]
  },
  {
   "cell_type": "code",
   "execution_count": 6,
   "metadata": {},
   "outputs": [
    {
     "data": {
      "application/vnd.jupyter.widget-view+json": {
       "model_id": "bffbf8b29b604d55abf8b6cd1da81ca6",
       "version_major": 2,
       "version_minor": 0
      },
      "text/plain": [
       "Tab(children=(Tab(children=(HBox(children=(Accordion(children=(VBox(children=(Checkbox(value=False, descriptio…"
      ]
     },
     "metadata": {},
     "output_type": "display_data"
    }
   ],
   "source": [
    "b = expipe.Browser(project_path).display()"
   ]
  },
  {
   "cell_type": "code",
   "execution_count": null,
   "metadata": {},
   "outputs": [],
   "source": []
  }
 ],
 "metadata": {
  "kernelspec": {
   "display_name": "Python 3",
   "language": "python",
   "name": "python3"
  },
  "language_info": {
   "codemirror_mode": {
    "name": "ipython",
    "version": 3
   },
   "file_extension": ".py",
   "mimetype": "text/x-python",
   "name": "python",
   "nbconvert_exporter": "python",
   "pygments_lexer": "ipython3",
   "version": "3.6.8"
  }
 },
 "nbformat": 4,
 "nbformat_minor": 2
}
