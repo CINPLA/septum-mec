{
 "cells": [
  {
   "cell_type": "code",
   "execution_count": 1,
   "metadata": {},
   "outputs": [],
   "source": [
    "%load_ext autoreload\n",
    "%autoreload 2"
   ]
  },
  {
   "cell_type": "code",
   "execution_count": 2,
   "metadata": {},
   "outputs": [
    {
     "name": "stderr",
     "output_type": "stream",
     "text": [
      "11:07:18 [I] klustakwik KlustaKwik2 version 0.2.6\n"
     ]
    }
   ],
   "source": [
    "import os\n",
    "import expipe\n",
    "import pathlib\n",
    "import numpy as np\n",
    "import spatial_maps.stats as stats\n",
    "import septum_mec\n",
    "import septum_mec.analysis.data_processing as dp\n",
    "import septum_mec.analysis.registration\n",
    "import head_direction.head as head\n",
    "import spatial_maps as sp\n",
    "import speed_cells.speed as spd\n",
    "import re\n",
    "import joblib\n",
    "import multiprocessing\n",
    "import shutil\n",
    "import psutil\n",
    "import pandas as pd\n",
    "import matplotlib.pyplot as plt\n",
    "from distutils.dir_util import copy_tree\n",
    "from neo import SpikeTrain\n",
    "import scipy\n",
    "\n",
    "from tqdm import tqdm_notebook as tqdm\n",
    "from tqdm._tqdm_notebook import tqdm_notebook\n",
    "tqdm_notebook.pandas()\n",
    "\n",
    "from spike_statistics.core import permutation_resampling\n",
    "\n",
    "from spikewaveform.core import calculate_waveform_features_from_template, cluster_waveform_features\n",
    "\n",
    "from septum_mec.analysis.plotting import violinplot"
   ]
  },
  {
   "cell_type": "code",
   "execution_count": 3,
   "metadata": {},
   "outputs": [],
   "source": [
    "%matplotlib inline\n",
    "color_control = '#4393c3'\n",
    "color_stimulated = '#d6604d'\n",
    "\n",
    "color_bs = '#5aae61'\n",
    "color_ns = '#9970ab'\n",
    "\n",
    "figsize_violin = (1.7, 3)\n",
    "figsize_gen = (4, 3)\n",
    "\n",
    "output_path = pathlib.Path(\"output\") / \"some-analysis\"\n",
    "(output_path / \"statistics\").mkdir(exist_ok=True, parents=True)\n",
    "(output_path / \"figures\").mkdir(exist_ok=True, parents=True)\n",
    "output_path.mkdir(exist_ok=True)"
   ]
  },
  {
   "cell_type": "code",
   "execution_count": 4,
   "metadata": {},
   "outputs": [],
   "source": [
    "data_loader = dp.Data()\n",
    "actions = data_loader.actions\n",
    "project = data_loader.project"
   ]
  },
  {
   "cell_type": "code",
   "execution_count": 7,
   "metadata": {},
   "outputs": [],
   "source": [
    "identify_neurons = actions['identify-neurons']\n",
    "sessions = pd.read_csv(identify_neurons.data_path('sessions'))\n",
    "units = pd.read_csv(identify_neurons.data_path('units'))\n",
    "session_units = pd.merge(sessions, units, on='action')"
   ]
  },
  {
   "cell_type": "code",
   "execution_count": 8,
   "metadata": {},
   "outputs": [],
   "source": [
    "waveform_action = actions['waveform-analysis']\n",
    "waveform_results = pd.read_csv(waveform_action.data_path('results'))"
   ]
  },
  {
   "cell_type": "code",
   "execution_count": 9,
   "metadata": {},
   "outputs": [],
   "source": [
    "stimulus_action = actions['stimulus-response']\n",
    "stimulus_results = pd.read_csv(stimulus_action.data_path('results'))"
   ]
  },
  {
   "cell_type": "code",
   "execution_count": 14,
   "metadata": {},
   "outputs": [
    {
     "data": {
      "text/plain": [
       "1298"
      ]
     },
     "execution_count": 14,
     "metadata": {},
     "output_type": "execute_result"
    }
   ],
   "source": [
    "len(stimulus_results)"
   ]
  },
  {
   "cell_type": "code",
   "execution_count": 10,
   "metadata": {},
   "outputs": [],
   "source": [
    "all_results = session_units.merge(\n",
    "    waveform_results.merge(stimulus_results), how='left')"
   ]
  },
  {
   "cell_type": "code",
   "execution_count": 15,
   "metadata": {},
   "outputs": [
    {
     "data": {
      "text/plain": [
       "1298"
      ]
     },
     "execution_count": 15,
     "metadata": {},
     "output_type": "execute_result"
    }
   ],
   "source": [
    "len(all_results)"
   ]
  },
  {
   "cell_type": "code",
   "execution_count": 11,
   "metadata": {},
   "outputs": [
    {
     "data": {
      "text/plain": [
       "Text(0.5, 0.98, 'NS')"
      ]
     },
     "execution_count": 11,
     "metadata": {},
     "output_type": "execute_result"
    },
    {
     "data": {
      "image/png": "[encoded data removed]",
      "text/plain": [
       "<Figure size 432x288 with 4 Axes>"
      ]
     },
     "metadata": {
      "needs_background": "light"
     },
     "output_type": "display_data"
    },
    {
     "data": {
      "image/png": "[encoded data removed]",
      "text/plain": [
       "<Figure size 432x288 with 4 Axes>"
      ]
     },
     "metadata": {
      "needs_background": "light"
     },
     "output_type": "display_data"
    }
   ],
   "source": [
    "all_results.query('bs==0').loc[:,['t_i_peak', 't_e_peak', 'p_i_peak', 'p_e_peak']].hist()\n",
    "plt.gcf().suptitle('BS')\n",
    "all_results.query('bs==1').loc[:,['t_i_peak', 't_e_peak', 'p_i_peak', 'p_e_peak']].hist()\n",
    "plt.gcf().suptitle('NS')"
   ]
  },
  {
   "cell_type": "code",
   "execution_count": 61,
   "metadata": {},
   "outputs": [],
   "source": [
    "lfp_action = actions['stimulus-lfp-response']\n",
    "lfp_results = pd.read_csv(lfp_action.data_path('results'))"
   ]
  },
  {
   "cell_type": "code",
   "execution_count": 62,
   "metadata": {},
   "outputs": [
    {
     "data": {
      "text/plain": [
       "Index(['action', 'baseline', 'channel_group', 'entity', 'frequency', 'i', 'ii',\n",
       "       'session', 'stim_location', 'stimulated', 'tag', 'theta_freq',\n",
       "       'theta_peak', 'theta_energy', 'theta_half_f1', 'theta_half_f2',\n",
       "       'theta_half_width', 'theta_half_energy', 'stim_freq', 'stim_p_max',\n",
       "       'stim_half_f1', 'stim_half_f2', 'stim_half_width', 'stim_energy'],\n",
       "      dtype='object')"
      ]
     },
     "execution_count": 62,
     "metadata": {},
     "output_type": "execute_result"
    }
   ],
   "source": [
    "lfp_results.keys()"
   ]
  },
  {
   "cell_type": "code",
   "execution_count": 63,
   "metadata": {},
   "outputs": [
    {
     "data": {
      "image/png": "[encoded data removed]",
      "text/plain": [
       "<Figure size 432x288 with 1 Axes>"
      ]
     },
     "metadata": {
      "needs_background": "light"
     },
     "output_type": "display_data"
    },
    {
     "data": {
      "image/png": "[encoded data removed]",
      "text/plain": [
       "<Figure size 432x288 with 1 Axes>"
      ]
     },
     "metadata": {
      "needs_background": "light"
     },
     "output_type": "display_data"
    },
    {
     "data": {
      "image/png": "[encoded data removed]",
      "text/plain": [
       "<Figure size 432x288 with 1 Axes>"
      ]
     },
     "metadata": {
      "needs_background": "light"
     },
     "output_type": "display_data"
    },
    {
     "data": {
      "image/png": "[encoded data removed]",
      "text/plain": [
       "<Figure size 432x288 with 1 Axes>"
      ]
     },
     "metadata": {
      "needs_background": "light"
     },
     "output_type": "display_data"
    }
   ],
   "source": [
    "\n",
    "density = True\n",
    "cumulative = True\n",
    "histtype = 'step'\n",
    "lw = 2\n",
    "bins = {\n",
    "    'theta_energy': np.arange(0, .7, .03),\n",
    "    'theta_peak': np.arange(0, .7, .03),\n",
    "    'theta_freq': np.arange(4, 10, .5),\n",
    "    'theta_half_width':None\n",
    "}\n",
    "# key = 'theta_energy'\n",
    "# key = 'theta_peak'\n",
    "for key in bins:\n",
    "    plt.figure()\n",
    "    plt.suptitle(key)\n",
    "    lfp_results.query('baseline and i')[key].hist(\n",
    "        bins=bins[key], density=density, cumulative=cumulative, lw=lw, \n",
    "        histtype=histtype, label='baseline i')\n",
    "\n",
    "    lfp_results.query('baseline and ii')[key].hist(\n",
    "        bins=bins[key], density=density, cumulative=cumulative, lw=lw, \n",
    "        histtype=histtype, label='baseline ii')\n",
    "\n",
    "    lfp_results.query('frequency==11')[key].hist(\n",
    "        bins=bins[key], density=density, cumulative=cumulative, lw=lw, \n",
    "        histtype=histtype, label='stim 11')\n",
    "\n",
    "    lfp_results.query('frequency==30')[key].hist(\n",
    "        bins=bins[key], density=density, cumulative=cumulative, lw=lw,\n",
    "        histtype=histtype, label='stim 30')\n",
    "    plt.legend(\n",
    "        bbox_to_anchor=(0,1.02,1,0.2), loc=\"lower left\",\n",
    "        mode=\"expand\", borderaxespad=0, ncol=4, frameon=False)"
   ]
  },
  {
   "cell_type": "code",
   "execution_count": 64,
   "metadata": {},
   "outputs": [
    {
     "data": {
      "image/png": "[encoded data removed]",
      "text/plain": [
       "<Figure size 432x288 with 1 Axes>"
      ]
     },
     "metadata": {
      "needs_background": "light"
     },
     "output_type": "display_data"
    },
    {
     "data": {
      "image/png": "[encoded data removed]",
      "text/plain": [
       "<Figure size 432x288 with 1 Axes>"
      ]
     },
     "metadata": {
      "needs_background": "light"
     },
     "output_type": "display_data"
    },
    {
     "data": {
      "image/png": "[encoded data removed]",
      "text/plain": [
       "<Figure size 432x288 with 1 Axes>"
      ]
     },
     "metadata": {
      "needs_background": "light"
     },
     "output_type": "display_data"
    }
   ],
   "source": [
    "\n",
    "density = True\n",
    "cumulative = True\n",
    "histtype = 'step'\n",
    "lw = 2\n",
    "bins = {\n",
    "    'stim_energy': np.arange(0, .7, .03),\n",
    "    'stim_half_width': None,\n",
    "    'stim_p_max':None\n",
    "}\n",
    "# key = 'theta_energy'\n",
    "# key = 'theta_peak'\n",
    "for key in bins:\n",
    "    plt.figure()\n",
    "    plt.suptitle(key)\n",
    " \n",
    "    lfp_results.query('frequency==11')[key].hist(\n",
    "        bins=bins[key], density=density, cumulative=cumulative, lw=lw, \n",
    "        histtype=histtype, label='stim 11')\n",
    "\n",
    "    lfp_results.query('frequency==30')[key].hist(\n",
    "        bins=bins[key], density=density, cumulative=cumulative, lw=lw,\n",
    "        histtype=histtype, label='stim 30')\n",
    "    plt.legend(\n",
    "        bbox_to_anchor=(0,1.02,1,0.2), loc=\"lower left\",\n",
    "        mode=\"expand\", borderaxespad=0, ncol=4, frameon=False)"
   ]
  },
  {
   "cell_type": "code",
   "execution_count": 65,
   "metadata": {},
   "outputs": [
    {
     "data": {
      "text/plain": [
       "<matplotlib.axes._subplots.AxesSubplot at 0x7f945e25fb00>"
      ]
     },
     "execution_count": 65,
     "metadata": {},
     "output_type": "execute_result"
    },
    {
     "data": {
      "image/png": "[encoded data removed]",
      "text/plain": [
       "<Figure size 432x288 with 1 Axes>"
      ]
     },
     "metadata": {
      "needs_background": "light"
     },
     "output_type": "display_data"
    }
   ],
   "source": [
    "d = lfp_results.query('frequency==11')\n",
    "(d['stim_p_max'] / d['theta_peak']).hist(bins=np.arange(0, 40, .5))"
   ]
  },
  {
   "cell_type": "code",
   "execution_count": 68,
   "metadata": {},
   "outputs": [
    {
     "data": {
      "text/plain": [
       "action               1833-260619-2\n",
       "baseline                     False\n",
       "channel_group                    2\n",
       "entity                        1833\n",
       "frequency                       11\n",
       "i                             True\n",
       "ii                           False\n",
       "session                          2\n",
       "stim_location                   ms\n",
       "stimulated                    True\n",
       "tag                         stim i\n",
       "theta_freq                     9.6\n",
       "theta_peak                0.221494\n",
       "theta_energy              0.428502\n",
       "theta_half_f1              9.31331\n",
       "theta_half_f2              10.2056\n",
       "theta_half_width          0.892312\n",
       "theta_half_energy         0.163807\n",
       "stim_freq                  11.1107\n",
       "stim_p_max               0.0997192\n",
       "stim_half_f1               10.9279\n",
       "stim_half_f2               11.7259\n",
       "stim_half_width           0.798003\n",
       "stim_energy              0.0715158\n",
       "Name: 154, dtype: object"
      ]
     },
     "execution_count": 68,
     "metadata": {},
     "output_type": "execute_result"
    }
   ],
   "source": [
    "d[(d['stim_p_max'] / d['theta_peak']) < 1].iloc[0].T"
   ]
  },
  {
   "cell_type": "markdown",
   "metadata": {},
   "source": [
    "# Store results in Expipe action"
   ]
  },
  {
   "cell_type": "code",
   "execution_count": 144,
   "metadata": {},
   "outputs": [],
   "source": [
    "action = project.require_action(\"some-analysis\")"
   ]
  },
  {
   "cell_type": "code",
   "execution_count": 145,
   "metadata": {},
   "outputs": [],
   "source": [
    "stuff = {\n",
    "    \"figures\": \"figures\",\n",
    "    \"statistics\": \"statistics\"\n",
    "}\n",
    "\n",
    "for key, value in stuff.items():\n",
    "    action.data[key] = value\n",
    "    data_path = action.data_path(key)\n",
    "    data_path.parent.mkdir(exist_ok=True, parents=True)\n",
    "    source = output_path / value\n",
    "    if source.is_file():\n",
    "        shutil.copy(source, data_path)\n",
    "    else:\n",
    "        copy_tree(str(source), str(data_path))"
   ]
  },
  {
   "cell_type": "code",
   "execution_count": 146,
   "metadata": {},
   "outputs": [],
   "source": [
    "septum_mec.analysis.registration.store_notebook(action, \"20_some_analysis.ipynb\")"
   ]
  }
 ],
 "metadata": {
  "kernelspec": {
   "display_name": "Python 3",
   "language": "python",
   "name": "python3"
  },
  "language_info": {
   "codemirror_mode": {
    "name": "ipython",
    "version": 3
   },
   "file_extension": ".py",
   "mimetype": "text/x-python",
   "name": "python",
   "nbconvert_exporter": "python",
   "pygments_lexer": "ipython3",
   "version": "3.6.8"
  }
 },
 "nbformat": 4,
 "nbformat_minor": 2
}
