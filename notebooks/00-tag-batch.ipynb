{
 "cells": [
  {
   "cell_type": "code",
   "execution_count": 1,
   "metadata": {},
   "outputs": [],
   "source": [
    "%load_ext autoreload\n",
    "%autoreload 2"
   ]
  },
  {
   "cell_type": "code",
   "execution_count": 2,
   "metadata": {},
   "outputs": [
    {
     "name": "stderr",
     "output_type": "stream",
     "text": [
      "10:58:20 [I] klustakwik KlustaKwik2 version 0.2.6\n",
      "/home/mikkel/.virtualenvs/expipe/lib/python3.6/importlib/_bootstrap.py:219: RuntimeWarning: numpy.ufunc size changed, may indicate binary incompatibility. Expected 192 from C header, got 216 from PyObject\n",
      "  return f(*args, **kwds)\n",
      "/home/mikkel/.virtualenvs/expipe/lib/python3.6/importlib/_bootstrap.py:219: RuntimeWarning: numpy.ufunc size changed, may indicate binary incompatibility. Expected 192 from C header, got 216 from PyObject\n",
      "  return f(*args, **kwds)\n"
     ]
    }
   ],
   "source": [
    "import os\n",
    "import expipe\n",
    "import pathlib\n",
    "import numpy as np\n",
    "import septum_mec.analysis.data_processing as dp\n",
    "from septum_mec.analysis.registration import store_notebook\n",
    "import re\n",
    "import joblib\n",
    "import multiprocessing\n",
    "import shutil\n",
    "import psutil\n",
    "import pandas as pd\n",
    "import matplotlib.pyplot as plt\n",
    "import quantities as pq\n",
    "import exdir\n",
    "from tqdm import tqdm_notebook as tqdm\n",
    "from septum_mec.analysis.trackunitmulticomparison import TrackMultipleSessions\n",
    "import networkx as nx\n",
    "from nxpd import draw\n",
    "%matplotlib inline"
   ]
  },
  {
   "cell_type": "code",
   "execution_count": 3,
   "metadata": {},
   "outputs": [],
   "source": [
    "project_path = dp.project_path()\n",
    "\n",
    "project = expipe.get_project(project_path)\n",
    "actions = project.actions"
   ]
  },
  {
   "cell_type": "code",
   "execution_count": 16,
   "metadata": {},
   "outputs": [],
   "source": [
    "\n",
    "for action in actions.values():\n",
    "    if action.type != 'Recording':\n",
    "        continue\n",
    "    assert len(action.entities) == 1\n",
    "    entity = action.entities[0]\n",
    "    if entity in ['1833', '1839']:\n",
    "        drive_loc = {\n",
    "            'mecr': [0,1,2,3],\n",
    "            'mecl': [4,5,6,7]\n",
    "        }\n",
    "    elif entity in ['1834', '1849']:\n",
    "        drive_loc = {\n",
    "            'mecl': [0,1,2,3],\n",
    "            'mecr': [4,5,6,7]\n",
    "        }\n",
    "    elif entity in ['1809', '1812']:\n",
    "        continue\n",
    "    else:\n",
    "        raise ValueError(f'what to do with {entity}')\n",
    "        \n",
    "    action.modules['channel_group_location'] = {\n",
    "        group: key for key, groups in drive_loc.items() for group in groups\n",
    "    }"
   ]
  }
 ],
 "metadata": {
  "kernelspec": {
   "display_name": "Python 3",
   "language": "python",
   "name": "python3"
  },
  "language_info": {
   "codemirror_mode": {
    "name": "ipython",
    "version": 3
   },
   "file_extension": ".py",
   "mimetype": "text/x-python",
   "name": "python",
   "nbconvert_exporter": "python",
   "pygments_lexer": "ipython3",
   "version": "3.6.8"
  }
 },
 "nbformat": 4,
 "nbformat_minor": 2
}
