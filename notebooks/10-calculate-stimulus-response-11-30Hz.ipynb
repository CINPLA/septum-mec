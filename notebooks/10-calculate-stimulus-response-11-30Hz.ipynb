{
 "cells": [
  {
   "cell_type": "code",
   "execution_count": 1,
   "metadata": {},
   "outputs": [],
   "source": [
    "%load_ext autoreload\n",
    "%autoreload 2"
   ]
  },
  {
   "cell_type": "code",
   "execution_count": 2,
   "metadata": {},
   "outputs": [
    {
     "name": "stderr",
     "output_type": "stream",
     "text": [
      "10:17:24 [I] klustakwik KlustaKwik2 version 0.2.6\n",
      "/home/mikkel/.virtualenvs/expipe/lib/python3.6/site-packages/ipykernel_launcher.py:20: TqdmDeprecationWarning: This function will be removed in tqdm==5.0.0\n",
      "Please use `tqdm.notebook.*` instead of `tqdm._tqdm_notebook.*`\n"
     ]
    }
   ],
   "source": [
    "import matplotlib.pyplot as plt\n",
    "%matplotlib inline\n",
    "import spatial_maps as sp\n",
    "import septum_mec.analysis.data_processing as dp\n",
    "import septum_mec.analysis.registration\n",
    "import expipe\n",
    "import os\n",
    "import pathlib\n",
    "import numpy as np\n",
    "import exdir\n",
    "import pandas as pd\n",
    "import optogenetics as og\n",
    "import quantities as pq\n",
    "import shutil\n",
    "from distutils.dir_util import copy_tree\n",
    "\n",
    "from septum_mec.analysis.stimulus_response import stimulus_response_latency, compute_response\n",
    "\n",
    "from tqdm import tqdm_notebook as tqdm\n",
    "from tqdm._tqdm_notebook import tqdm_notebook\n",
    "tqdm_notebook.pandas()"
   ]
  },
  {
   "cell_type": "code",
   "execution_count": 3,
   "metadata": {},
   "outputs": [],
   "source": [
    "std_gaussian_kde = 0.04\n",
    "window_size = 0.03"
   ]
  },
  {
   "cell_type": "code",
   "execution_count": 4,
   "metadata": {},
   "outputs": [],
   "source": [
    "data_loader = dp.Data()\n",
    "actions = data_loader.actions\n",
    "project = data_loader.project"
   ]
  },
  {
   "cell_type": "code",
   "execution_count": 5,
   "metadata": {},
   "outputs": [],
   "source": [
    "output = pathlib.Path('output/stimulus-response')\n",
    "(output / 'data').mkdir(parents=True, exist_ok=True)"
   ]
  },
  {
   "cell_type": "code",
   "execution_count": 6,
   "metadata": {},
   "outputs": [],
   "source": [
    "# identify_neurons = actions['identify-neurons']\n",
    "# units = pd.read_csv(identify_neurons.data_path('units'))"
   ]
  },
  {
   "cell_type": "code",
   "execution_count": 9,
   "metadata": {},
   "outputs": [],
   "source": [
    "identification_action = actions['identify-neurons']\n",
    "sessions = pd.read_csv(identification_action.data_path('sessions'))\n",
    "units = pd.read_csv(identification_action.data_path('units'))\n",
    "session_units = pd.merge(sessions, units, on='action')"
   ]
  },
  {
   "cell_type": "code",
   "execution_count": 22,
   "metadata": {},
   "outputs": [
    {
     "data": {
      "text/html": [
       "<div>\n",
       "<style scoped>\n",
       "    .dataframe tbody tr th:only-of-type {\n",
       "        vertical-align: middle;\n",
       "    }\n",
       "\n",
       "    .dataframe tbody tr th {\n",
       "        vertical-align: top;\n",
       "    }\n",
       "\n",
       "    .dataframe thead th {\n",
       "        text-align: right;\n",
       "    }\n",
       "</style>\n",
       "<table border=\"1\" class=\"dataframe\">\n",
       "  <thead>\n",
       "    <tr style=\"text-align: right;\">\n",
       "      <th></th>\n",
       "      <th>action</th>\n",
       "      <th>channel_group</th>\n",
       "      <th>max_depth_delta</th>\n",
       "      <th>max_dissimilarity</th>\n",
       "      <th>unit_id</th>\n",
       "      <th>unit_idnum</th>\n",
       "      <th>unit_name</th>\n",
       "    </tr>\n",
       "  </thead>\n",
       "  <tbody>\n",
       "    <tr>\n",
       "      <th>0</th>\n",
       "      <td>1834-010319-1</td>\n",
       "      <td>0</td>\n",
       "      <td>100</td>\n",
       "      <td>0.05</td>\n",
       "      <td>ae0353a9-a406-409e-8ff7-2e940b8af03f</td>\n",
       "      <td>327</td>\n",
       "      <td>2</td>\n",
       "    </tr>\n",
       "    <tr>\n",
       "      <th>1</th>\n",
       "      <td>1834-010319-1</td>\n",
       "      <td>0</td>\n",
       "      <td>100</td>\n",
       "      <td>0.05</td>\n",
       "      <td>7f514d43-17ba-4d88-a390-20eec8bc1378</td>\n",
       "      <td>328</td>\n",
       "      <td>39</td>\n",
       "    </tr>\n",
       "    <tr>\n",
       "      <th>2</th>\n",
       "      <td>1834-010319-3</td>\n",
       "      <td>0</td>\n",
       "      <td>100</td>\n",
       "      <td>0.05</td>\n",
       "      <td>c977aa51-06cc-4d54-9430-a94ad422a03b</td>\n",
       "      <td>329</td>\n",
       "      <td>1</td>\n",
       "    </tr>\n",
       "    <tr>\n",
       "      <th>3</th>\n",
       "      <td>1834-010319-3</td>\n",
       "      <td>0</td>\n",
       "      <td>100</td>\n",
       "      <td>0.05</td>\n",
       "      <td>bd96a67d-ee7d-4cb6-90ab-a5fa751891b9</td>\n",
       "      <td>330</td>\n",
       "      <td>12</td>\n",
       "    </tr>\n",
       "    <tr>\n",
       "      <th>4</th>\n",
       "      <td>1834-010319-4</td>\n",
       "      <td>0</td>\n",
       "      <td>100</td>\n",
       "      <td>0.05</td>\n",
       "      <td>abc01041-2971-4f62-bf06-5132cf356737</td>\n",
       "      <td>332</td>\n",
       "      <td>7</td>\n",
       "    </tr>\n",
       "    <tr>\n",
       "      <th>...</th>\n",
       "      <td>...</td>\n",
       "      <td>...</td>\n",
       "      <td>...</td>\n",
       "      <td>...</td>\n",
       "      <td>...</td>\n",
       "      <td>...</td>\n",
       "      <td>...</td>\n",
       "    </tr>\n",
       "    <tr>\n",
       "      <th>1279</th>\n",
       "      <td>1839-290519-1</td>\n",
       "      <td>7</td>\n",
       "      <td>100</td>\n",
       "      <td>0.05</td>\n",
       "      <td>b10850fc-77de-4a20-9d65-43065035b1c2</td>\n",
       "      <td>668</td>\n",
       "      <td>87</td>\n",
       "    </tr>\n",
       "    <tr>\n",
       "      <th>1280</th>\n",
       "      <td>1839-290519-2</td>\n",
       "      <td>7</td>\n",
       "      <td>100</td>\n",
       "      <td>0.05</td>\n",
       "      <td>b42cb814-9a61-431a-9a39-e7a68a000283</td>\n",
       "      <td>669</td>\n",
       "      <td>109</td>\n",
       "    </tr>\n",
       "    <tr>\n",
       "      <th>1281</th>\n",
       "      <td>1839-290519-2</td>\n",
       "      <td>7</td>\n",
       "      <td>100</td>\n",
       "      <td>0.05</td>\n",
       "      <td>caf4bddf-9665-499b-9622-132732716437</td>\n",
       "      <td>670</td>\n",
       "      <td>111</td>\n",
       "    </tr>\n",
       "    <tr>\n",
       "      <th>1282</th>\n",
       "      <td>1839-290519-2</td>\n",
       "      <td>7</td>\n",
       "      <td>100</td>\n",
       "      <td>0.05</td>\n",
       "      <td>e81bcac4-0a42-4c9d-9088-5878f550809d</td>\n",
       "      <td>671</td>\n",
       "      <td>135</td>\n",
       "    </tr>\n",
       "    <tr>\n",
       "      <th>1283</th>\n",
       "      <td>1839-290519-2</td>\n",
       "      <td>7</td>\n",
       "      <td>100</td>\n",
       "      <td>0.05</td>\n",
       "      <td>a92b98e6-e245-45c8-ae5b-e64b49d49b7a</td>\n",
       "      <td>672</td>\n",
       "      <td>142</td>\n",
       "    </tr>\n",
       "  </tbody>\n",
       "</table>\n",
       "<p>1284 rows × 7 columns</p>\n",
       "</div>"
      ],
      "text/plain": [
       "             action  channel_group  max_depth_delta  max_dissimilarity  \\\n",
       "0     1834-010319-1              0              100               0.05   \n",
       "1     1834-010319-1              0              100               0.05   \n",
       "2     1834-010319-3              0              100               0.05   \n",
       "3     1834-010319-3              0              100               0.05   \n",
       "4     1834-010319-4              0              100               0.05   \n",
       "...             ...            ...              ...                ...   \n",
       "1279  1839-290519-1              7              100               0.05   \n",
       "1280  1839-290519-2              7              100               0.05   \n",
       "1281  1839-290519-2              7              100               0.05   \n",
       "1282  1839-290519-2              7              100               0.05   \n",
       "1283  1839-290519-2              7              100               0.05   \n",
       "\n",
       "                                   unit_id  unit_idnum  unit_name  \n",
       "0     ae0353a9-a406-409e-8ff7-2e940b8af03f         327          2  \n",
       "1     7f514d43-17ba-4d88-a390-20eec8bc1378         328         39  \n",
       "2     c977aa51-06cc-4d54-9430-a94ad422a03b         329          1  \n",
       "3     bd96a67d-ee7d-4cb6-90ab-a5fa751891b9         330         12  \n",
       "4     abc01041-2971-4f62-bf06-5132cf356737         332          7  \n",
       "...                                    ...         ...        ...  \n",
       "1279  b10850fc-77de-4a20-9d65-43065035b1c2         668         87  \n",
       "1280  b42cb814-9a61-431a-9a39-e7a68a000283         669        109  \n",
       "1281  caf4bddf-9665-499b-9622-132732716437         670        111  \n",
       "1282  e81bcac4-0a42-4c9d-9088-5878f550809d         671        135  \n",
       "1283  a92b98e6-e245-45c8-ae5b-e64b49d49b7a         672        142  \n",
       "\n",
       "[1284 rows x 7 columns]"
      ]
     },
     "execution_count": 22,
     "metadata": {},
     "output_type": "execute_result"
    }
   ],
   "source": [
    "units"
   ]
  },
  {
   "cell_type": "code",
   "execution_count": 16,
   "metadata": {},
   "outputs": [],
   "source": [
    "stim_resp = actions[\"stimulus-response\"]\n",
    "# stim_resp = pd.read_csv(identification_action.data_path('stimulus_response'))\n"
   ]
  },
  {
   "cell_type": "code",
   "execution_count": 18,
   "metadata": {},
   "outputs": [],
   "source": [
    "stim_res = pd.read_csv(stim_resp.data_path(\"results\"))"
   ]
  },
  {
   "cell_type": "code",
   "execution_count": 23,
   "metadata": {},
   "outputs": [
    {
     "data": {
      "text/plain": [
       "1298"
      ]
     },
     "execution_count": 23,
     "metadata": {},
     "output_type": "execute_result"
    }
   ],
   "source": [
    "len(stim_res)\n",
    "# use p_e_peak < 0.05"
   ]
  },
  {
   "cell_type": "code",
   "execution_count": 27,
   "metadata": {},
   "outputs": [
    {
     "data": {
      "text/plain": [
       "229"
      ]
     },
     "execution_count": 27,
     "metadata": {},
     "output_type": "execute_result"
    }
   ],
   "source": [
    "len(stim_res[stim_res.p_e_peak < 0.05])"
   ]
  },
  {
   "cell_type": "code",
   "execution_count": 11,
   "metadata": {},
   "outputs": [],
   "source": [
    "session_units_stim = session_units[session_units.baseline == False]\n",
    "# baseline False / groupby frequency"
   ]
  },
  {
   "cell_type": "code",
   "execution_count": 21,
   "metadata": {},
   "outputs": [
    {
     "data": {
      "text/plain": [
       "660"
      ]
     },
     "execution_count": 21,
     "metadata": {},
     "output_type": "execute_result"
    }
   ],
   "source": [
    "len(session_units_stim)"
   ]
  },
  {
   "cell_type": "code",
   "execution_count": 7,
   "metadata": {},
   "outputs": [],
   "source": [
    "# def process(row):\n",
    "    \n",
    "#     action_id = row['action']\n",
    "#     channel_id = int(row['channel_group'])\n",
    "#     unit_id = int(row['unit_name'])    \n",
    "    \n",
    "#     spike_times = data_loader.spike_train(action_id, channel_id, unit_id)\n",
    "    \n",
    "#     spike_times = np.array(spike_times)\n",
    "    \n",
    "#     stim_times = data_loader.stim_times(action_id)\n",
    "    \n",
    "#     nan_series = pd.Series({\n",
    "#             't_e_peak': np.nan,\n",
    "#             'p_e_peak': np.nan,\n",
    "#             't_i_peak': np.nan,\n",
    "#             'p_i_peak': np.nan\n",
    "#         })\n",
    "    \n",
    "#     if stim_times is None:\n",
    "#         return nan_series\n",
    "    \n",
    "#     stim_times = np.array(stim_times)\n",
    "    \n",
    "#     times, spikes, kernel, p_e, p_i = stimulus_response_latency(\n",
    "#         spike_times, stim_times, window_size, std_gaussian_kde)\n",
    "    \n",
    "#     # if no spikes detected after stimulus nan is returned\n",
    "#     if all(np.isnan([p_e, p_i])):\n",
    "#         return nan_series\n",
    "        \n",
    "#     t_e_peak, p_e_peak, t_i_peak, p_i_peak = compute_response(\n",
    "#         spike_times, stim_times, times, kernel, p_e, p_i)\n",
    "\n",
    "#     return pd.Series({\n",
    "#         't_e_peak': t_e_peak,\n",
    "#         'p_e_peak': p_e_peak,\n",
    "#         't_i_peak': t_i_peak,\n",
    "#         'p_i_peak': p_i_peak\n",
    "#     })\n",
    "\n",
    "\n"
   ]
  },
  {
   "cell_type": "code",
   "execution_count": 8,
   "metadata": {},
   "outputs": [
    {
     "data": {
      "application/vnd.jupyter.widget-view+json": {
       "model_id": "476c31da67274b2396ed3f2ec54a8344",
       "version_major": 2,
       "version_minor": 0
      },
      "text/plain": [
       "HBox(children=(IntProgress(value=0, max=1298), HTML(value='')))"
      ]
     },
     "metadata": {},
     "output_type": "display_data"
    },
    {
     "name": "stderr",
     "output_type": "stream",
     "text": [
      "/home/mikkel/apps/expipe-project/septum-mec/septum_mec/analysis/stimulus_response.py:33: RuntimeWarning: invalid value encountered in less\n",
      "  if any(times[idxs_i] < te_peak):\n"
     ]
    },
    {
     "name": "stdout",
     "output_type": "stream",
     "text": [
      "\n"
     ]
    }
   ],
   "source": [
    "results = units.merge(\n",
    "    units.progress_apply(process, axis=1), \n",
    "    left_index=True, right_index=True)"
   ]
  },
  {
   "cell_type": "code",
   "execution_count": 9,
   "metadata": {},
   "outputs": [
    {
     "data": {
      "image/png": "[encoded data removed]",
      "text/plain": [
       "<Figure size 432x288 with 4 Axes>"
      ]
     },
     "metadata": {
      "needs_background": "light"
     },
     "output_type": "display_data"
    }
   ],
   "source": [
    "results.loc[:, ['t_e_peak', 't_i_peak', 'p_e_peak', 'p_i_peak']].hist()\n",
    "plt.gcf().savefig(output / 'figures' / 'summary_histogram.png')"
   ]
  },
  {
   "cell_type": "code",
   "execution_count": 8,
   "metadata": {},
   "outputs": [
    {
     "name": "stderr",
     "output_type": "stream",
     "text": [
      "/home/mikkel/.virtualenvs/expipe/lib/python3.6/site-packages/ipykernel_launcher.py:2: TqdmDeprecationWarning: This function will be removed in tqdm==5.0.0\n",
      "Please use `tqdm.notebook.tqdm` instead of `tqdm.tqdm_notebook`\n",
      "  \n"
     ]
    },
    {
     "data": {
      "application/vnd.jupyter.widget-view+json": {
       "model_id": "2828a0134cc2449ba15a30119991324d",
       "version_major": 2,
       "version_minor": 0
      },
      "text/plain": [
       "HBox(children=(IntProgress(value=0, max=1284), HTML(value='')))"
      ]
     },
     "metadata": {},
     "output_type": "display_data"
    },
    {
     "name": "stdout",
     "output_type": "stream",
     "text": [
      "\n"
     ]
    }
   ],
   "source": [
    "psth, time = {}, {}\n",
    "for i, row in tqdm(units.iterrows(), total=len(units)):\n",
    "    action_id = row['action']\n",
    "    channel_group = row['channel_group']\n",
    "    unit_name = row['unit_name']\n",
    "    name = f'{action_id}_{channel_group}_{unit_name}'\n",
    "    spike_times = data_loader.spike_train(action_id, channel_group, unit_name)\n",
    "    \n",
    "    spike_times = np.array(spike_times)\n",
    "    \n",
    "    stim_times = data_loader.stim_times(action_id)\n",
    "    \n",
    "    if stim_times is None:\n",
    "        continue\n",
    "    \n",
    "    stim_times = np.array(stim_times)\n",
    "    \n",
    "    _, spikes, kernel, p_e, p_i = stimulus_response_latency(\n",
    "        spike_times, stim_times, window_size, std_gaussian_kde)\n",
    "    \n",
    "    if all(np.isnan([p_e, p_i])):\n",
    "        continue\n",
    "    times = np.arange(-0.005, window_size, 1e-4)\n",
    "    psth.update({name: kernel(times)})\n",
    "    time.update({name: times})"
   ]
  },
  {
   "cell_type": "code",
   "execution_count": 28,
   "metadata": {},
   "outputs": [],
   "source": [
    "psth_df = pd.read_feather(output / 'data' / 'psth.feather')"
   ]
  },
  {
   "cell_type": "code",
   "execution_count": 30,
   "metadata": {},
   "outputs": [
    {
     "data": {
      "text/plain": [
       "350"
      ]
     },
     "execution_count": 30,
     "metadata": {},
     "output_type": "execute_result"
    }
   ],
   "source": [
    "len(psth_df)"
   ]
  },
  {
   "cell_type": "code",
   "execution_count": 9,
   "metadata": {},
   "outputs": [],
   "source": [
    "pd.DataFrame(psth).to_feather(output / 'data' / 'psth.feather')\n",
    "pd.DataFrame(time).to_feather(output / 'data' / 'times.feather')"
   ]
  },
  {
   "cell_type": "markdown",
   "metadata": {},
   "source": [
    "# Save to expipe"
   ]
  },
  {
   "cell_type": "code",
   "execution_count": 27,
   "metadata": {},
   "outputs": [],
   "source": [
    "action = project.require_action(\"stimulus-response\")"
   ]
  },
  {
   "cell_type": "code",
   "execution_count": 11,
   "metadata": {},
   "outputs": [],
   "source": [
    "action.modules['parameters'] = {\n",
    "    'window_size': window_size,\n",
    "    'std_gaussian_kde': std_gaussian_kde\n",
    "}"
   ]
  },
  {
   "cell_type": "code",
   "execution_count": 12,
   "metadata": {},
   "outputs": [],
   "source": [
    "action.data['results'] = 'results.csv'\n",
    "results.to_csv(action.data_path('results'), index=False)"
   ]
  },
  {
   "cell_type": "code",
   "execution_count": 28,
   "metadata": {},
   "outputs": [
    {
     "data": {
      "text/plain": [
       "['/media/storage/expipe/septum-mec/actions/stimulus-response/data/data/times.feather',\n",
       " '/media/storage/expipe/septum-mec/actions/stimulus-response/data/data/psth.feather',\n",
       " '/media/storage/expipe/septum-mec/actions/stimulus-response/data/figures/summary_histogram.png']"
      ]
     },
     "execution_count": 28,
     "metadata": {},
     "output_type": "execute_result"
    }
   ],
   "source": [
    "copy_tree(output, str(action.data_path()))"
   ]
  },
  {
   "cell_type": "code",
   "execution_count": 29,
   "metadata": {},
   "outputs": [],
   "source": [
    "septum_mec.analysis.registration.store_notebook(action, \"10-calculate-stimulus-response.ipynb\")"
   ]
  },
  {
   "cell_type": "code",
   "execution_count": null,
   "metadata": {},
   "outputs": [],
   "source": []
  }
 ],
 "metadata": {
  "kernelspec": {
   "display_name": "Python 3",
   "language": "python",
   "name": "python3"
  },
  "language_info": {
   "codemirror_mode": {
    "name": "ipython",
    "version": 3
   },
   "file_extension": ".py",
   "mimetype": "text/x-python",
   "name": "python",
   "nbconvert_exporter": "python",
   "pygments_lexer": "ipython3",
   "version": "3.6.8"
  }
 },
 "nbformat": 4,
 "nbformat_minor": 4
}
