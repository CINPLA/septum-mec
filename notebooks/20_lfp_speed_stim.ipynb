{
 "cells": [
  {
   "cell_type": "code",
   "execution_count": 1,
   "metadata": {},
   "outputs": [],
   "source": [
    "%load_ext autoreload\n",
    "%autoreload 2"
   ]
  },
  {
   "cell_type": "code",
   "execution_count": 20,
   "metadata": {},
   "outputs": [],
   "source": [
    "import os\n",
    "import pathlib\n",
    "import numpy as np\n",
    "import matplotlib.pyplot as plt\n",
    "import seaborn as sns\n",
    "import re\n",
    "import shutil\n",
    "import pandas as pd\n",
    "import scipy.stats\n",
    "\n",
    "import exdir\n",
    "import expipe\n",
    "from distutils.dir_util import copy_tree\n",
    "import septum_mec\n",
    "import septum_mec.analysis.data_processing as dp\n",
    "import septum_mec.analysis.registration\n",
    "from septum_mec.analysis.plotting import violinplot, despine, plot_bootstrap_timeseries, savefig\n",
    "from phase_precession import cl_corr\n",
    "import matplotlib.mlab as mlab\n",
    "import scipy.signal as ss\n",
    "from scipy.interpolate import interp1d\n",
    "from septum_mec.analysis.plotting import regplot\n",
    "from skimage import measure\n",
    "from tqdm.notebook import tqdm_notebook as tqdm\n",
    "tqdm.pandas()\n",
    "import scipy.signal as ss\n",
    "\n",
    "\n",
    "from tqdm.notebook import tqdm_notebook as tqdm\n",
    "tqdm.pandas()\n",
    "\n",
    "import pycwt"
   ]
  },
  {
   "cell_type": "code",
   "execution_count": 4,
   "metadata": {},
   "outputs": [],
   "source": [
    "plt.rcParams['figure.dpi'] = 150\n",
    "figsize_violin = (1.7, 3)\n",
    "figsize_speed = (4, 3)\n",
    "plt.rc('axes', titlesize=10)"
   ]
  },
  {
   "cell_type": "code",
   "execution_count": 5,
   "metadata": {},
   "outputs": [],
   "source": [
    "project_path = dp.project_path()\n",
    "project = expipe.get_project(project_path)\n",
    "actions = project.actions\n",
    "\n",
    "output_path = pathlib.Path(\"output\") / \"lfp-speed-stim\"\n",
    "(output_path / \"statistics\").mkdir(exist_ok=True, parents=True)\n",
    "(output_path / \"figures\").mkdir(exist_ok=True, parents=True)"
   ]
  },
  {
   "cell_type": "code",
   "execution_count": 6,
   "metadata": {},
   "outputs": [],
   "source": [
    "data_action = actions['lfp_speed_stim']\n",
    "output = exdir.File(\n",
    "    data_action.data_path('results'),\n",
    "    plugins = [exdir.plugins.git_lfs, exdir.plugins.quantities])\n",
    "\n",
    "ignore = ['wavelet_power', 'wavelet_freqs', 'signal']\n",
    "results = []\n",
    "for group in output.values():\n",
    "    d = group.attrs.to_dict()\n",
    "    d.update({k: np.array(v.data) for k, v in group.items() if k not in ignore})\n",
    "    results.append(d)\n",
    "results = pd.DataFrame(results)"
   ]
  },
  {
   "cell_type": "code",
   "execution_count": 7,
   "metadata": {},
   "outputs": [
    {
     "data": {
      "text/html": [
       "<div>\n",
       "<style scoped>\n",
       "    .dataframe tbody tr th:only-of-type {\n",
       "        vertical-align: middle;\n",
       "    }\n",
       "\n",
       "    .dataframe tbody tr th {\n",
       "        vertical-align: top;\n",
       "    }\n",
       "\n",
       "    .dataframe thead th {\n",
       "        text-align: right;\n",
       "    }\n",
       "</style>\n",
       "<table border=\"1\" class=\"dataframe\">\n",
       "  <thead>\n",
       "    <tr style=\"text-align: right;\">\n",
       "      <th></th>\n",
       "      <th>freq_score</th>\n",
       "      <th>sample_rate</th>\n",
       "      <th>power_score</th>\n",
       "      <th>action</th>\n",
       "      <th>channel_group</th>\n",
       "      <th>max_speed</th>\n",
       "      <th>min_speed</th>\n",
       "      <th>position_low_pass_frequency</th>\n",
       "      <th>mean_freq</th>\n",
       "      <th>mean_power</th>\n",
       "      <th>speed</th>\n",
       "      <th>speed_bins</th>\n",
       "      <th>theta_freq</th>\n",
       "      <th>theta_power</th>\n",
       "    </tr>\n",
       "  </thead>\n",
       "  <tbody>\n",
       "    <tr>\n",
       "      <th>0</th>\n",
       "      <td>-0.006286</td>\n",
       "      <td>1000.0</td>\n",
       "      <td>-0.015789</td>\n",
       "      <td>1833-010719-2</td>\n",
       "      <td>0.0</td>\n",
       "      <td>1.0</td>\n",
       "      <td>0.02</td>\n",
       "      <td>6.0</td>\n",
       "      <td>[11.110789332292926, 11.110157230467555, 11.10...</td>\n",
       "      <td>[16.556465274086047, 16.721713092359142, 17.06...</td>\n",
       "      <td>[-48.689684242624885, -48.68887691332451, -48....</td>\n",
       "      <td>[0.02, 0.04, 0.06, 0.08, 0.1, 0.12000000000000...</td>\n",
       "      <td>[11.010689480008283, 11.010689480008283, 11.01...</td>\n",
       "      <td>[4.155282062735035, 4.15923762290051, 4.163192...</td>\n",
       "    </tr>\n",
       "    <tr>\n",
       "      <th>1</th>\n",
       "      <td>0.014294</td>\n",
       "      <td>1000.0</td>\n",
       "      <td>-0.049611</td>\n",
       "      <td>1833-010719-2</td>\n",
       "      <td>1.0</td>\n",
       "      <td>1.0</td>\n",
       "      <td>0.02</td>\n",
       "      <td>6.0</td>\n",
       "      <td>[11.119139789055232, 11.112419605583947, 11.11...</td>\n",
       "      <td>[17.44962116148184, 17.25178859177972, 17.2936...</td>\n",
       "      <td>[-48.689684242624885, -48.68887691332451, -48....</td>\n",
       "      <td>[0.02, 0.04, 0.06, 0.08, 0.1, 0.12000000000000...</td>\n",
       "      <td>[11.110689480008283, 11.110689480008283, 11.11...</td>\n",
       "      <td>[8.498889944249957, 8.507554623921328, 8.51622...</td>\n",
       "    </tr>\n",
       "    <tr>\n",
       "      <th>2</th>\n",
       "      <td>-0.151662</td>\n",
       "      <td>1000.0</td>\n",
       "      <td>-0.015843</td>\n",
       "      <td>1833-010719-2</td>\n",
       "      <td>2.0</td>\n",
       "      <td>1.0</td>\n",
       "      <td>0.02</td>\n",
       "      <td>6.0</td>\n",
       "      <td>[10.663445320541712, 10.375481739111894, 10.40...</td>\n",
       "      <td>[11.677283106136269, 13.320737283709212, 12.81...</td>\n",
       "      <td>[-48.689684242624885, -48.68887691332451, -48....</td>\n",
       "      <td>[0.02, 0.04, 0.06, 0.08, 0.1, 0.12000000000000...</td>\n",
       "      <td>[11.110689480008283, 11.110689480008283, 11.11...</td>\n",
       "      <td>[2.67169790182029, 2.6745033376063128, 2.67731...</td>\n",
       "    </tr>\n",
       "    <tr>\n",
       "      <th>3</th>\n",
       "      <td>0.500375</td>\n",
       "      <td>1000.0</td>\n",
       "      <td>-0.446263</td>\n",
       "      <td>1833-010719-2</td>\n",
       "      <td>3.0</td>\n",
       "      <td>1.0</td>\n",
       "      <td>0.02</td>\n",
       "      <td>6.0</td>\n",
       "      <td>[10.857799952945015, 11.072318440423013, 11.07...</td>\n",
       "      <td>[17.440485146427488, 11.70808383682592, 11.417...</td>\n",
       "      <td>[-48.689684242624885, -48.68887691332451, -48....</td>\n",
       "      <td>[0.02, 0.04, 0.06, 0.08, 0.1, 0.12000000000000...</td>\n",
       "      <td>[10.810689480008284, 10.810689480008284, 10.81...</td>\n",
       "      <td>[79.57938867193317, 79.62683725466655, 79.6742...</td>\n",
       "    </tr>\n",
       "    <tr>\n",
       "      <th>4</th>\n",
       "      <td>-0.062265</td>\n",
       "      <td>1000.0</td>\n",
       "      <td>0.048395</td>\n",
       "      <td>1833-010719-2</td>\n",
       "      <td>4.0</td>\n",
       "      <td>1.0</td>\n",
       "      <td>0.02</td>\n",
       "      <td>6.0</td>\n",
       "      <td>[11.098606528341742, 11.070744340717448, 11.07...</td>\n",
       "      <td>[7.758208437041778, 9.44041762712178, 9.949225...</td>\n",
       "      <td>[-48.689684242624885, -48.68887691332451, -48....</td>\n",
       "      <td>[0.02, 0.04, 0.06, 0.08, 0.1, 0.12000000000000...</td>\n",
       "      <td>[11.110689480008283, 11.110689480008283, 11.11...</td>\n",
       "      <td>[1.2951270926869163, 1.296335630917096, 1.2975...</td>\n",
       "    </tr>\n",
       "  </tbody>\n",
       "</table>\n",
       "</div>"
      ],
      "text/plain": [
       "   freq_score  sample_rate  power_score         action  channel_group  \\\n",
       "0   -0.006286       1000.0    -0.015789  1833-010719-2            0.0   \n",
       "1    0.014294       1000.0    -0.049611  1833-010719-2            1.0   \n",
       "2   -0.151662       1000.0    -0.015843  1833-010719-2            2.0   \n",
       "3    0.500375       1000.0    -0.446263  1833-010719-2            3.0   \n",
       "4   -0.062265       1000.0     0.048395  1833-010719-2            4.0   \n",
       "\n",
       "   max_speed  min_speed  position_low_pass_frequency  \\\n",
       "0        1.0       0.02                          6.0   \n",
       "1        1.0       0.02                          6.0   \n",
       "2        1.0       0.02                          6.0   \n",
       "3        1.0       0.02                          6.0   \n",
       "4        1.0       0.02                          6.0   \n",
       "\n",
       "                                           mean_freq  \\\n",
       "0  [11.110789332292926, 11.110157230467555, 11.10...   \n",
       "1  [11.119139789055232, 11.112419605583947, 11.11...   \n",
       "2  [10.663445320541712, 10.375481739111894, 10.40...   \n",
       "3  [10.857799952945015, 11.072318440423013, 11.07...   \n",
       "4  [11.098606528341742, 11.070744340717448, 11.07...   \n",
       "\n",
       "                                          mean_power  \\\n",
       "0  [16.556465274086047, 16.721713092359142, 17.06...   \n",
       "1  [17.44962116148184, 17.25178859177972, 17.2936...   \n",
       "2  [11.677283106136269, 13.320737283709212, 12.81...   \n",
       "3  [17.440485146427488, 11.70808383682592, 11.417...   \n",
       "4  [7.758208437041778, 9.44041762712178, 9.949225...   \n",
       "\n",
       "                                               speed  \\\n",
       "0  [-48.689684242624885, -48.68887691332451, -48....   \n",
       "1  [-48.689684242624885, -48.68887691332451, -48....   \n",
       "2  [-48.689684242624885, -48.68887691332451, -48....   \n",
       "3  [-48.689684242624885, -48.68887691332451, -48....   \n",
       "4  [-48.689684242624885, -48.68887691332451, -48....   \n",
       "\n",
       "                                          speed_bins  \\\n",
       "0  [0.02, 0.04, 0.06, 0.08, 0.1, 0.12000000000000...   \n",
       "1  [0.02, 0.04, 0.06, 0.08, 0.1, 0.12000000000000...   \n",
       "2  [0.02, 0.04, 0.06, 0.08, 0.1, 0.12000000000000...   \n",
       "3  [0.02, 0.04, 0.06, 0.08, 0.1, 0.12000000000000...   \n",
       "4  [0.02, 0.04, 0.06, 0.08, 0.1, 0.12000000000000...   \n",
       "\n",
       "                                          theta_freq  \\\n",
       "0  [11.010689480008283, 11.010689480008283, 11.01...   \n",
       "1  [11.110689480008283, 11.110689480008283, 11.11...   \n",
       "2  [11.110689480008283, 11.110689480008283, 11.11...   \n",
       "3  [10.810689480008284, 10.810689480008284, 10.81...   \n",
       "4  [11.110689480008283, 11.110689480008283, 11.11...   \n",
       "\n",
       "                                         theta_power  \n",
       "0  [4.155282062735035, 4.15923762290051, 4.163192...  \n",
       "1  [8.498889944249957, 8.507554623921328, 8.51622...  \n",
       "2  [2.67169790182029, 2.6745033376063128, 2.67731...  \n",
       "3  [79.57938867193317, 79.62683725466655, 79.6742...  \n",
       "4  [1.2951270926869163, 1.296335630917096, 1.2975...  "
      ]
     },
     "execution_count": 7,
     "metadata": {},
     "output_type": "execute_result"
    }
   ],
   "source": [
    "results.head()"
   ]
  },
  {
   "cell_type": "code",
   "execution_count": 8,
   "metadata": {},
   "outputs": [],
   "source": [
    "identify_neurons = actions['identify-neurons']\n",
    "sessions = pd.read_csv(identify_neurons.data_path('sessions'))"
   ]
  },
  {
   "cell_type": "code",
   "execution_count": 9,
   "metadata": {},
   "outputs": [],
   "source": [
    "results = results.merge(sessions, on='action')"
   ]
  },
  {
   "cell_type": "code",
   "execution_count": 10,
   "metadata": {},
   "outputs": [],
   "source": [
    "results = results.query('stim_location!=\"mecl\" and stim_location!=\"mecr\"')"
   ]
  },
  {
   "cell_type": "code",
   "execution_count": 11,
   "metadata": {},
   "outputs": [],
   "source": [
    "def action_group(row):\n",
    "    a = int(row.channel_group in [0,1,2,3])\n",
    "    return f'{row.action}-{a}'\n",
    "results['action_side_a'] = results.apply(action_group, axis=1)"
   ]
  },
  {
   "cell_type": "code",
   "execution_count": 12,
   "metadata": {},
   "outputs": [
    {
     "data": {
      "text/html": [
       "<div>\n",
       "<style scoped>\n",
       "    .dataframe tbody tr th:only-of-type {\n",
       "        vertical-align: middle;\n",
       "    }\n",
       "\n",
       "    .dataframe tbody tr th {\n",
       "        vertical-align: top;\n",
       "    }\n",
       "\n",
       "    .dataframe thead th {\n",
       "        text-align: right;\n",
       "    }\n",
       "</style>\n",
       "<table border=\"1\" class=\"dataframe\">\n",
       "  <thead>\n",
       "    <tr style=\"text-align: right;\">\n",
       "      <th></th>\n",
       "      <th>action_side_a</th>\n",
       "      <th>channel_group</th>\n",
       "      <th>min_speed</th>\n",
       "    </tr>\n",
       "  </thead>\n",
       "  <tbody>\n",
       "    <tr>\n",
       "      <th>7</th>\n",
       "      <td>1833-010719-2-0</td>\n",
       "      <td>7.0</td>\n",
       "      <td>0.02</td>\n",
       "    </tr>\n",
       "    <tr>\n",
       "      <th>3</th>\n",
       "      <td>1833-010719-2-1</td>\n",
       "      <td>3.0</td>\n",
       "      <td>0.02</td>\n",
       "    </tr>\n",
       "    <tr>\n",
       "      <th>15</th>\n",
       "      <td>1833-020719-2-0</td>\n",
       "      <td>7.0</td>\n",
       "      <td>0.02</td>\n",
       "    </tr>\n",
       "    <tr>\n",
       "      <th>11</th>\n",
       "      <td>1833-020719-2-1</td>\n",
       "      <td>3.0</td>\n",
       "      <td>0.02</td>\n",
       "    </tr>\n",
       "    <tr>\n",
       "      <th>23</th>\n",
       "      <td>1833-020719-4-0</td>\n",
       "      <td>7.0</td>\n",
       "      <td>0.02</td>\n",
       "    </tr>\n",
       "  </tbody>\n",
       "</table>\n",
       "</div>"
      ],
      "text/plain": [
       "      action_side_a  channel_group  min_speed\n",
       "7   1833-010719-2-0            7.0       0.02\n",
       "3   1833-010719-2-1            3.0       0.02\n",
       "15  1833-020719-2-0            7.0       0.02\n",
       "11  1833-020719-2-1            3.0       0.02\n",
       "23  1833-020719-4-0            7.0       0.02"
      ]
     },
     "execution_count": 12,
     "metadata": {},
     "output_type": "execute_result"
    }
   ],
   "source": [
    "lfp_results_hemisphere = results.sort_values(\n",
    "    by=['action_side_a', 'channel_group'], ascending=[True, False]\n",
    ").drop_duplicates(subset='action_side_a', keep='first')\n",
    "lfp_results_hemisphere.loc[:,['action_side_a','channel_group', 'min_speed']].head()"
   ]
  },
  {
   "cell_type": "code",
   "execution_count": 13,
   "metadata": {},
   "outputs": [],
   "source": [
    "colors = ['#1b9e77','#d95f02','#7570b3','#e7298a']\n",
    "labels = ['Baseline I', '11 Hz', 'Baseline II', '30 Hz']\n",
    "# Hz11 means that the baseline session was indeed before an 11 Hz session\n",
    "queries = ['baseline and i and Hz11', 'frequency==11', 'baseline and ii and Hz30', 'frequency==30']"
   ]
  },
  {
   "cell_type": "code",
   "execution_count": 14,
   "metadata": {},
   "outputs": [],
   "source": [
    "def make_entity_date_side(row):\n",
    "    s = row.action_side_a.split('-')\n",
    "    del s[2]\n",
    "    return '-'.join(s)"
   ]
  },
  {
   "cell_type": "code",
   "execution_count": 15,
   "metadata": {},
   "outputs": [],
   "source": [
    "lfp_results_hemisphere['entity_date_side'] = lfp_results_hemisphere.apply(make_entity_date_side, axis=1)"
   ]
  },
  {
   "cell_type": "code",
   "execution_count": 16,
   "metadata": {},
   "outputs": [],
   "source": [
    "from functools import reduce"
   ]
  },
  {
   "cell_type": "code",
   "execution_count": 17,
   "metadata": {},
   "outputs": [],
   "source": [
    "keys = [\n",
    "    'freq_score',\n",
    "    'power_score',\n",
    "    'speed_bins',\n",
    "    'mean_freq',\n",
    "    'mean_power'\n",
    "]\n",
    "\n",
    "results = {}\n",
    "for key in keys:\n",
    "    results[key] = list()\n",
    "    for query, label in zip(queries, labels):\n",
    "        values = lfp_results_hemisphere.query(query).loc[:,['entity_date_side', key]]\n",
    "        results[key].append(values.rename({key: label}, axis=1))\n",
    "        \n",
    "for key, val in results.items():\n",
    "    df = reduce(lambda  left,right: pd.merge(left, right, on='entity_date_side', how='outer'), val)\n",
    "    results[key] = df.drop('entity_date_side', axis=1)"
   ]
  },
  {
   "cell_type": "code",
   "execution_count": null,
   "metadata": {},
   "outputs": [],
   "source": []
  },
  {
   "cell_type": "markdown",
   "metadata": {},
   "source": [
    "# Frequency score"
   ]
  },
  {
   "cell_type": "code",
   "execution_count": 18,
   "metadata": {},
   "outputs": [],
   "source": [
    "def plot_speed(results, stuff, colors, labels, filename=None, show_raw=False, ylim=None):\n",
    "    base, stim = results[stuff][labels].dropna().values.T\n",
    "    base_bins, stim_bins = results['speed_bins'][labels].dropna().values.T\n",
    "    \n",
    "    base = np.array([s for s in base])\n",
    "    stim =  np.array([s for s in stim])\n",
    "    \n",
    "    if show_raw:\n",
    "        fig, axs = plt.subplots(1, 2, sharey=True, figsize=figsize_speed)\n",
    "\n",
    "        for b, h in zip(base_bins, base):\n",
    "            axs[1].plot(b, h)\n",
    "            axs[1].set_xlim(0.1,1)\n",
    "            axs[1].set_title(labels[0])\n",
    "\n",
    "        for b, h in zip(stim_bins, stim):\n",
    "            axs[0].plot(b, h)\n",
    "            axs[0].set_xlim(0.1,1)\n",
    "            axs[0].set_title(labels[1])  \n",
    "\n",
    "    fig, ax = plt.subplots(1, 1, figsize=figsize_speed)\n",
    "    plot_bootstrap_timeseries(base_bins[0], base.T, ax=ax, label=labels[0], color=colors[0])\n",
    "    plot_bootstrap_timeseries(stim_bins[0], stim.T, ax=ax, label=labels[1], color=colors[1])\n",
    "\n",
    "    plt.xlim(0, 0.9)\n",
    "    plt.gca().spines['top'].set_visible(False)\n",
    "    plt.gca().spines['right'].set_visible(False)\n",
    "    plt.legend(frameon=False)\n",
    "    if ylim is not None:\n",
    "        plt.ylim(ylim)\n",
    "    despine()\n",
    "    if filename is not None:\n",
    "        savefig(output_path / \"figures\" / f\"{filename}\")"
   ]
  },
  {
   "cell_type": "code",
   "execution_count": 21,
   "metadata": {},
   "outputs": [
    {
     "data": {
      "image/png": "[encoded data removed]",
      "text/plain": [
       "<Figure size 600x450 with 1 Axes>"
      ]
     },
     "metadata": {
      "needs_background": "light"
     },
     "output_type": "display_data"
    }
   ],
   "source": [
    "plot_speed(\n",
    "    results, 'mean_freq', \n",
    "    colors=[colors[1], colors[3]], labels=[labels[1], labels[3]], filename='lfp_speed_freq_combined', ylim=(10, 40))"
   ]
  },
  {
   "cell_type": "code",
   "execution_count": 22,
   "metadata": {},
   "outputs": [
    {
     "data": {
      "image/png": "[encoded data removed]",
      "text/plain": [
       "<Figure size 600x450 with 1 Axes>"
      ]
     },
     "metadata": {
      "needs_background": "light"
     },
     "output_type": "display_data"
    }
   ],
   "source": [
    "plot_speed(\n",
    "    results, 'mean_power', \n",
    "    colors=[colors[1], colors[3]], labels=[labels[1], labels[3]], filename='lfp_speed_power_combined', ylim=(5, 100))"
   ]
  },
  {
   "cell_type": "code",
   "execution_count": 24,
   "metadata": {},
   "outputs": [],
   "source": [
    "ylabel = {\n",
    "    'freq_score': 'Frequency score',\n",
    "    'power_score': 'Power score'\n",
    "}"
   ]
  },
  {
   "cell_type": "code",
   "execution_count": 25,
   "metadata": {},
   "outputs": [
    {
     "data": {
      "image/png": "[encoded data removed]",
      "text/plain": [
       "<Figure size 255x450 with 1 Axes>"
      ]
     },
     "metadata": {
      "needs_background": "light"
     },
     "output_type": "display_data"
    },
    {
     "data": {
      "image/png": "[encoded data removed]",
      "text/plain": [
       "<Figure size 255x450 with 1 Axes>"
      ]
     },
     "metadata": {
      "needs_background": "light"
     },
     "output_type": "display_data"
    }
   ],
   "source": [
    "stuff = 'power_score'\n",
    "vs = ['11 Hz', '30 Hz']\n",
    "for stuff in ['freq_score', 'power_score']:\n",
    "    base, stim = results[stuff][vs].dropna().values.T\n",
    "    plt.figure(figsize=figsize_violin)\n",
    "    plt.ylabel(ylabel[stuff])\n",
    "    violinplot(base, stim, colors=[colors[labels.index(l)] for l in vs], xticks=vs)\n",
    "#         plt.ylim(-0.35, 0.5)\n",
    "    plt.yticks([-0.75, -0.5, -0.25, 0, 0.25, 0.5, 0.75])\n",
    "    despine()\n",
    "    fig_path = output_path / \"figures\" / f\"{stuff}_{' '.join(vs)}\".replace(' ', '_')\n",
    "    savefig(fig_path)\n",
    "        \n",
    "\n"
   ]
  },
  {
   "cell_type": "markdown",
   "metadata": {},
   "source": [
    "# Table"
   ]
  },
  {
   "cell_type": "code",
   "execution_count": 27,
   "metadata": {},
   "outputs": [],
   "source": [
    "from septum_mec.analysis.statistics import make_statistics_table"
   ]
  },
  {
   "cell_type": "code",
   "execution_count": 39,
   "metadata": {},
   "outputs": [
    {
     "data": {
      "text/html": [
       "<div>\n",
       "<style scoped>\n",
       "    .dataframe tbody tr th:only-of-type {\n",
       "        vertical-align: middle;\n",
       "    }\n",
       "\n",
       "    .dataframe tbody tr th {\n",
       "        vertical-align: top;\n",
       "    }\n",
       "\n",
       "    .dataframe thead th {\n",
       "        text-align: right;\n",
       "    }\n",
       "</style>\n",
       "<table border=\"1\" class=\"dataframe\">\n",
       "  <thead>\n",
       "    <tr style=\"text-align: right;\">\n",
       "      <th></th>\n",
       "      <th>Freq score</th>\n",
       "      <th>Power score</th>\n",
       "    </tr>\n",
       "  </thead>\n",
       "  <tbody>\n",
       "    <tr>\n",
       "      <th>Baseline I</th>\n",
       "      <td>NaN</td>\n",
       "      <td>NaN</td>\n",
       "    </tr>\n",
       "    <tr>\n",
       "      <th>Normality Baseline I</th>\n",
       "      <td>NaN</td>\n",
       "      <td>NaN</td>\n",
       "    </tr>\n",
       "    <tr>\n",
       "      <th>11 Hz</th>\n",
       "      <td>1.5e-02 ± 2.0e-02 (44)</td>\n",
       "      <td>-2.1e-02 ± 2.8e-02 (44)</td>\n",
       "    </tr>\n",
       "    <tr>\n",
       "      <th>Normality 11 Hz</th>\n",
       "      <td>1.9e+01, 6.9e-05</td>\n",
       "      <td>2.0e+01, 4.8e-05</td>\n",
       "    </tr>\n",
       "    <tr>\n",
       "      <th>Baseline II</th>\n",
       "      <td>NaN</td>\n",
       "      <td>NaN</td>\n",
       "    </tr>\n",
       "    <tr>\n",
       "      <th>Normality Baseline II</th>\n",
       "      <td>NaN</td>\n",
       "      <td>NaN</td>\n",
       "    </tr>\n",
       "    <tr>\n",
       "      <th>30 Hz</th>\n",
       "      <td>8.8e-03 ± 6.4e-03 (34)</td>\n",
       "      <td>-6.6e-03 ± 2.4e-02 (34)</td>\n",
       "    </tr>\n",
       "    <tr>\n",
       "      <th>Normality 30 Hz</th>\n",
       "      <td>1.5e+01, 4.5e-04</td>\n",
       "      <td>3.7e+00, 1.6e-01</td>\n",
       "    </tr>\n",
       "    <tr>\n",
       "      <th>Wilcoxon Baseline I - 11 Hz</th>\n",
       "      <td>NaN</td>\n",
       "      <td>NaN</td>\n",
       "    </tr>\n",
       "    <tr>\n",
       "      <th>Wilcoxon Baseline I - Baseline II</th>\n",
       "      <td>NaN</td>\n",
       "      <td>NaN</td>\n",
       "    </tr>\n",
       "    <tr>\n",
       "      <th>Wilcoxon Baseline I - 30 Hz</th>\n",
       "      <td>NaN</td>\n",
       "      <td>NaN</td>\n",
       "    </tr>\n",
       "    <tr>\n",
       "      <th>Wilcoxon 11 Hz - Baseline II</th>\n",
       "      <td>NaN</td>\n",
       "      <td>NaN</td>\n",
       "    </tr>\n",
       "    <tr>\n",
       "      <th>Wilcoxon 11 Hz - 30 Hz</th>\n",
       "      <td>2.2e+02, 4.7e-01, (32)</td>\n",
       "      <td>2.6e+02, 9.4e-01, (32)</td>\n",
       "    </tr>\n",
       "    <tr>\n",
       "      <th>Wilcoxon Baseline II - 30 Hz</th>\n",
       "      <td>NaN</td>\n",
       "      <td>NaN</td>\n",
       "    </tr>\n",
       "  </tbody>\n",
       "</table>\n",
       "</div>"
      ],
      "text/plain": [
       "                                               Freq score  \\\n",
       "Baseline I                                            NaN   \n",
       "Normality Baseline I                                  NaN   \n",
       "11 Hz                              1.5e-02 ± 2.0e-02 (44)   \n",
       "Normality 11 Hz                          1.9e+01, 6.9e-05   \n",
       "Baseline II                                           NaN   \n",
       "Normality Baseline II                                 NaN   \n",
       "30 Hz                              8.8e-03 ± 6.4e-03 (34)   \n",
       "Normality 30 Hz                          1.5e+01, 4.5e-04   \n",
       "Wilcoxon Baseline I - 11 Hz                           NaN   \n",
       "Wilcoxon Baseline I - Baseline II                     NaN   \n",
       "Wilcoxon Baseline I - 30 Hz                           NaN   \n",
       "Wilcoxon 11 Hz - Baseline II                          NaN   \n",
       "Wilcoxon 11 Hz - 30 Hz             2.2e+02, 4.7e-01, (32)   \n",
       "Wilcoxon Baseline II - 30 Hz                          NaN   \n",
       "\n",
       "                                               Power score  \n",
       "Baseline I                                             NaN  \n",
       "Normality Baseline I                                   NaN  \n",
       "11 Hz                              -2.1e-02 ± 2.8e-02 (44)  \n",
       "Normality 11 Hz                           2.0e+01, 4.8e-05  \n",
       "Baseline II                                            NaN  \n",
       "Normality Baseline II                                  NaN  \n",
       "30 Hz                              -6.6e-03 ± 2.4e-02 (34)  \n",
       "Normality 30 Hz                           3.7e+00, 1.6e-01  \n",
       "Wilcoxon Baseline I - 11 Hz                            NaN  \n",
       "Wilcoxon Baseline I - Baseline II                      NaN  \n",
       "Wilcoxon Baseline I - 30 Hz                            NaN  \n",
       "Wilcoxon 11 Hz - Baseline II                           NaN  \n",
       "Wilcoxon 11 Hz - 30 Hz              2.6e+02, 9.4e-01, (32)  \n",
       "Wilcoxon Baseline II - 30 Hz                           NaN  "
      ]
     },
     "execution_count": 39,
     "metadata": {},
     "output_type": "execute_result"
    }
   ],
   "source": [
    "stat, _ = make_statistics_table(\n",
    "    {k:v for k, v in results.items() if k in ['power_score', 'freq_score']}, \n",
    "    labels, lmm_test=False, wilcoxon_test=True, use_weighted_stats=False, normality_test=True)\n",
    "stat"
   ]
  },
  {
   "cell_type": "code",
   "execution_count": 40,
   "metadata": {},
   "outputs": [],
   "source": [
    "stat.to_latex(output_path / \"statistics\" / f\"statistics.tex\")\n",
    "stat.to_csv(output_path / \"statistics\" / f\"statistics.csv\")"
   ]
  },
  {
   "cell_type": "code",
   "execution_count": 30,
   "metadata": {},
   "outputs": [],
   "source": [
    "for key, result in results.items():\n",
    "    result.to_latex(output_path / \"statistics\" / f\"values_{key}.tex\")\n",
    "    result.to_csv(output_path / \"statistics\" / f\"values_{key}.csv\")"
   ]
  },
  {
   "cell_type": "markdown",
   "metadata": {},
   "source": [
    "# Register in expipe"
   ]
  },
  {
   "cell_type": "code",
   "execution_count": 41,
   "metadata": {},
   "outputs": [],
   "source": [
    "action = project.actions[\"lfp_speed_stim\"]"
   ]
  },
  {
   "cell_type": "code",
   "execution_count": 42,
   "metadata": {},
   "outputs": [],
   "source": [
    "outdata = {\n",
    "    \"figures\": \"figures\",\n",
    "    \"statistics\": \"statistics\"\n",
    "}\n",
    "\n",
    "for key, value in outdata.items():\n",
    "    action.data[key] = value\n",
    "    data_path = action.data_path(key)\n",
    "    data_path.parent.mkdir(exist_ok=True, parents=True)\n",
    "    source = output_path / value\n",
    "    if source.is_file():\n",
    "        shutil.copy(source, data_path)\n",
    "    else:\n",
    "        copy_tree(str(source), str(data_path))"
   ]
  },
  {
   "cell_type": "code",
   "execution_count": 43,
   "metadata": {},
   "outputs": [],
   "source": [
    "septum_mec.analysis.registration.store_notebook(action, \"20_lfp_speed.ipynb\")"
   ]
  },
  {
   "cell_type": "code",
   "execution_count": null,
   "metadata": {},
   "outputs": [],
   "source": []
  },
  {
   "cell_type": "code",
   "execution_count": null,
   "metadata": {},
   "outputs": [],
   "source": []
  }
 ],
 "metadata": {
  "kernelspec": {
   "display_name": "Python 3",
   "language": "python",
   "name": "python3"
  },
  "language_info": {
   "codemirror_mode": {
    "name": "ipython",
    "version": 3
   },
   "file_extension": ".py",
   "mimetype": "text/x-python",
   "name": "python",
   "nbconvert_exporter": "python",
   "pygments_lexer": "ipython3",
   "version": "3.6.8"
  }
 },
 "nbformat": 4,
 "nbformat_minor": 4
}
