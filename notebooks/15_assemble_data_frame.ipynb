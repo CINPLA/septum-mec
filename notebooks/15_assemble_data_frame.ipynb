{
 "cells": [
  {
   "cell_type": "code",
   "execution_count": 1,
   "metadata": {},
   "outputs": [],
   "source": [
    "%load_ext autoreload\n",
    "%autoreload 2"
   ]
  },
  {
   "cell_type": "code",
   "execution_count": 2,
   "metadata": {},
   "outputs": [
    {
     "name": "stderr",
     "output_type": "stream",
     "text": [
      "09:30:31 [I] klustakwik KlustaKwik2 version 0.2.6\n"
     ]
    }
   ],
   "source": [
    "import os\n",
    "import expipe\n",
    "import pathlib\n",
    "import numpy as np\n",
    "import spatial_maps.stats as stats\n",
    "import septum_mec\n",
    "import septum_mec.analysis.data_processing as dp\n",
    "import septum_mec.analysis.registration\n",
    "import head_direction.head as head\n",
    "import spatial_maps as sp\n",
    "import speed_cells.speed as spd\n",
    "import re\n",
    "import joblib\n",
    "import multiprocessing\n",
    "import shutil\n",
    "import psutil\n",
    "import pandas as pd\n",
    "import matplotlib.pyplot as plt\n",
    "import matplotlib\n",
    "import seaborn as sns\n",
    "from distutils.dir_util import copy_tree\n",
    "from neo import SpikeTrain\n",
    "import scipy\n",
    "\n",
    "from tqdm.notebook import tqdm_notebook as tqdm\n",
    "tqdm.pandas()\n",
    "\n",
    "\n",
    "from spike_statistics.core import permutation_resampling_test, block_bootstrap\n",
    "\n",
    "from spikewaveform.core import calculate_waveform_features_from_template, cluster_waveform_features\n",
    "\n",
    "from septum_mec.analysis.plotting import violinplot, despine"
   ]
  },
  {
   "cell_type": "code",
   "execution_count": 3,
   "metadata": {},
   "outputs": [],
   "source": [
    "%matplotlib inline\n",
    "plt.rc('axes', titlesize=12)\n",
    "plt.rcParams.update({\n",
    "    'font.size': 12, \n",
    "    'figure.figsize': (6, 4), \n",
    "    'figure.dpi': 150\n",
    "})\n",
    "\n",
    "output_path = pathlib.Path(\"output\") / (\"data_frame\")\n",
    "output_path.mkdir(exist_ok=True)"
   ]
  },
  {
   "cell_type": "code",
   "execution_count": 4,
   "metadata": {},
   "outputs": [],
   "source": [
    "data_loader = dp.Data()\n",
    "actions = data_loader.actions\n",
    "project = data_loader.project"
   ]
  },
  {
   "cell_type": "code",
   "execution_count": 5,
   "metadata": {},
   "outputs": [],
   "source": [
    "identification_action = actions['identify-neurons']\n",
    "sessions = pd.read_csv(identification_action.data_path('sessions'))\n",
    "units = pd.read_csv(identification_action.data_path('units'))\n",
    "session_units = pd.merge(sessions, units, on='action')"
   ]
  },
  {
   "cell_type": "code",
   "execution_count": 6,
   "metadata": {},
   "outputs": [],
   "source": [
    "stim_action = actions['stimulus-response']\n",
    "stim_results = pd.read_csv(stim_action.data_path('results'))"
   ]
  },
  {
   "cell_type": "code",
   "execution_count": 7,
   "metadata": {},
   "outputs": [],
   "source": [
    "statistics_action = actions['calculate-statistics']\n",
    "shuffling = actions['shuffling']\n",
    "\n",
    "statistics_results = pd.read_csv(statistics_action.data_path('results'))\n",
    "statistics_results = session_units.merge(statistics_results, how='left')\n",
    "quantiles_95 = pd.read_csv(shuffling.data_path('quantiles_95'))\n",
    "action_columns = ['action', 'channel_group', 'unit_name']\n",
    "data = pd.merge(statistics_results, quantiles_95, on=action_columns, suffixes=(\"\", \"_threshold\"))"
   ]
  },
  {
   "cell_type": "code",
   "execution_count": 8,
   "metadata": {},
   "outputs": [],
   "source": [
    "data['unit_day'] = data.apply(lambda x: str(x.unit_idnum) + '_' + x.action.split('-')[1], axis=1)"
   ]
  },
  {
   "cell_type": "code",
   "execution_count": 10,
   "metadata": {},
   "outputs": [],
   "source": [
    "data = data.merge(stim_results, how='left')"
   ]
  },
  {
   "cell_type": "code",
   "execution_count": 11,
   "metadata": {},
   "outputs": [],
   "source": [
    "waveform_action = actions['waveform-analysis']\n",
    "waveform_results = pd.read_csv(waveform_action.data_path('results')).drop('template', axis=1)"
   ]
  },
  {
   "cell_type": "code",
   "execution_count": 12,
   "metadata": {},
   "outputs": [],
   "source": [
    "data = data.merge(waveform_results, how='left')"
   ]
  },
  {
   "cell_type": "code",
   "execution_count": 14,
   "metadata": {},
   "outputs": [],
   "source": [
    "data.bs = data.bs.astype(bool)"
   ]
  },
  {
   "cell_type": "code",
   "execution_count": 15,
   "metadata": {},
   "outputs": [],
   "source": [
    "data.loc[data.eval('t_i_peak == t_i_peak and not bs'), 'ns_inhibited'] = True\n",
    "data.ns_inhibited.fillna(False, inplace=True)\n",
    "\n",
    "data.loc[data.eval('t_i_peak != t_i_peak and not bs'), 'ns_not_inhibited'] = True\n",
    "data.ns_not_inhibited.fillna(False, inplace=True)"
   ]
  },
  {
   "cell_type": "code",
   "execution_count": 16,
   "metadata": {},
   "outputs": [],
   "source": [
    "# make sure onece a cell type stays that celltype\n",
    "data.loc[data.unit_id.isin(data.query('ns_inhibited').unit_id.values), 'ns_inhibited'] = True\n",
    "data.loc[data.unit_id.isin(data.query('ns_not_inhibited').unit_id.values), 'ns_not_inhibited'] = True"
   ]
  },
  {
   "cell_type": "code",
   "execution_count": 17,
   "metadata": {},
   "outputs": [
    {
     "name": "stdout",
     "output_type": "stream",
     "text": [
      "Number of sessions above threshold 194\n",
      "Number of animals 4\n"
     ]
    }
   ],
   "source": [
    "query = (\n",
    "    'gridness > gridness_threshold and '\n",
    "    'information_rate > information_rate_threshold and '\n",
    "    'gridness > .2 and '\n",
    "    'average_rate < 25'\n",
    ")\n",
    "sessions_above_threshold = data.query(query)\n",
    "print(\"Number of sessions above threshold\", len(sessions_above_threshold))\n",
    "print(\"Number of animals\", len(sessions_above_threshold.groupby(['entity'])))"
   ]
  },
  {
   "cell_type": "code",
   "execution_count": 18,
   "metadata": {},
   "outputs": [
    {
     "name": "stdout",
     "output_type": "stream",
     "text": [
      "Number of gridcells 139\n",
      "Number of gridcell recordings 230\n",
      "Number of animals 4\n"
     ]
    }
   ],
   "source": [
    "gridcell_sessions = data[data.unit_day.isin(sessions_above_threshold.unit_day.values)]\n",
    "print(\"Number of gridcells\", gridcell_sessions.unit_idnum.nunique())\n",
    "print(\"Number of gridcell recordings\", len(gridcell_sessions))\n",
    "print(\"Number of animals\", len(gridcell_sessions.groupby(['entity'])))"
   ]
  },
  {
   "cell_type": "code",
   "execution_count": 19,
   "metadata": {},
   "outputs": [],
   "source": [
    "data.loc[:,'gridcell'] = np.nan\n",
    "data['gridcell'] = data.isin(gridcell_sessions)\n",
    "\n",
    "data.loc[data.eval('not gridcell and bs'), 'bs_not_gridcell'] = True\n",
    "data.bs_not_gridcell.fillna(False, inplace=True)"
   ]
  },
  {
   "cell_type": "code",
   "execution_count": 21,
   "metadata": {},
   "outputs": [],
   "source": [
    "colors = ['#1b9e77','#d95f02','#7570b3','#e7298a']\n",
    "labels = ['Baseline I', '11 Hz', 'Baseline II', '30 Hz']\n",
    "queries = ['baseline and i and Hz11', 'frequency==11', 'baseline and ii and Hz30', 'frequency==30']"
   ]
  },
  {
   "cell_type": "code",
   "execution_count": 25,
   "metadata": {},
   "outputs": [],
   "source": [
    "for color, query, label in zip(colors, queries, labels):\n",
    "    data.loc[data.eval(query), 'paradigm'] = label\n",
    "    data.loc[data.eval(query), 'color'] = color    "
   ]
  },
  {
   "cell_type": "code",
   "execution_count": 29,
   "metadata": {},
   "outputs": [
    {
     "data": {
      "text/plain": [
       "array([[<matplotlib.axes._subplots.AxesSubplot object at 0x7f7c680d00b8>]],\n",
       "      dtype=object)"
      ]
     },
     "execution_count": 29,
     "metadata": {},
     "output_type": "execute_result"
    },
    {
     "data": {
      "image/png": "[encoded data removed]",
      "text/plain": [
       "<Figure size 900x600 with 1 Axes>"
      ]
     },
     "metadata": {
      "needs_background": "light"
     },
     "output_type": "display_data"
    }
   ],
   "source": []
  },
  {
   "cell_type": "markdown",
   "metadata": {},
   "source": [
    "# save to expipe"
   ]
  },
  {
   "cell_type": "code",
   "execution_count": 48,
   "metadata": {},
   "outputs": [],
   "source": [
    "action = project.require_action(\"data_frame\")"
   ]
  },
  {
   "cell_type": "code",
   "execution_count": 49,
   "metadata": {},
   "outputs": [
    {
     "data": {
      "text/plain": [
       "['/media/storage/expipe/septum-mec/actions/stimulus-spike-lfp-response-other-drive/data/statistics/statistics_gridcell.csv',\n",
       " '/media/storage/expipe/septum-mec/actions/stimulus-spike-lfp-response-other-drive/data/statistics/statistics_ns_inhibited.tex',\n",
       " '/media/storage/expipe/septum-mec/actions/stimulus-spike-lfp-response-other-drive/data/statistics/statistics_gridcell.tex',\n",
       " '/media/storage/expipe/septum-mec/actions/stimulus-spike-lfp-response-other-drive/data/statistics/statistics_ns_not_inhibited.tex',\n",
       " '/media/storage/expipe/septum-mec/actions/stimulus-spike-lfp-response-other-drive/data/statistics/statistics_ns_inhibited.csv',\n",
       " '/media/storage/expipe/septum-mec/actions/stimulus-spike-lfp-response-other-drive/data/statistics/statistics_ns_not_inhibited.csv',\n",
       " '/media/storage/expipe/septum-mec/actions/stimulus-spike-lfp-response-other-drive/data/data/theta_kde.feather',\n",
       " '/media/storage/expipe/septum-mec/actions/stimulus-spike-lfp-response-other-drive/data/data/stim_kde.feather',\n",
       " '/media/storage/expipe/septum-mec/actions/stimulus-spike-lfp-response-other-drive/data/data/freqs.feather',\n",
       " '/media/storage/expipe/septum-mec/actions/stimulus-spike-lfp-response-other-drive/data/data/theta_bins.feather',\n",
       " '/media/storage/expipe/septum-mec/actions/stimulus-spike-lfp-response-other-drive/data/data/coherence.feather',\n",
       " '/media/storage/expipe/septum-mec/actions/stimulus-spike-lfp-response-other-drive/data/data/stim_bins.feather',\n",
       " '/media/storage/expipe/septum-mec/actions/stimulus-spike-lfp-response-other-drive/data/figures/spike-lfp-coherence-histogram-theta_freq-ns_not_inhibited.svg',\n",
       " '/media/storage/expipe/septum-mec/actions/stimulus-spike-lfp-response-other-drive/data/figures/spike-lfp-coherence-histogram-theta_peak-gridcell.png',\n",
       " '/media/storage/expipe/septum-mec/actions/stimulus-spike-lfp-response-other-drive/data/figures/spike-lfp-coherence-histogram-theta_energy-ns_inhibited.svg',\n",
       " '/media/storage/expipe/septum-mec/actions/stimulus-spike-lfp-response-other-drive/data/figures/spike-lfp-coherence-histogram-theta_energy-gridcell.svg',\n",
       " '/media/storage/expipe/septum-mec/actions/stimulus-spike-lfp-response-other-drive/data/figures/spike-lfp-coherence-histogram-stim_half_width-ns_not_inhibited.svg',\n",
       " '/media/storage/expipe/septum-mec/actions/stimulus-spike-lfp-response-other-drive/data/figures/spike-lfp-coherence-histogram-theta_half_width-ns_not_inhibited.svg',\n",
       " '/media/storage/expipe/septum-mec/actions/stimulus-spike-lfp-response-other-drive/data/figures/spike-lfp-coherence-histogram-theta_ang-ns_inhibited.png',\n",
       " '/media/storage/expipe/septum-mec/actions/stimulus-spike-lfp-response-other-drive/data/figures/spike-lfp-coherence-histogram-stim_energy-gridcell.svg',\n",
       " '/media/storage/expipe/septum-mec/actions/stimulus-spike-lfp-response-other-drive/data/figures/spike-lfp-coherence-histogram-theta_ang-gridcell.svg',\n",
       " '/media/storage/expipe/septum-mec/actions/stimulus-spike-lfp-response-other-drive/data/figures/spike-lfp-coherence-histogram-theta_peak-gridcell.svg',\n",
       " '/media/storage/expipe/septum-mec/actions/stimulus-spike-lfp-response-other-drive/data/figures/spike-lfp-coherence-gridcell.svg',\n",
       " '/media/storage/expipe/septum-mec/actions/stimulus-spike-lfp-response-other-drive/data/figures/spike-lfp-coherence-histogram-stim_p_max-ns_not_inhibited.svg',\n",
       " '/media/storage/expipe/septum-mec/actions/stimulus-spike-lfp-response-other-drive/data/figures/spike-lfp-coherence-histogram-stim_strength-ns_not_inhibited.png',\n",
       " '/media/storage/expipe/septum-mec/actions/stimulus-spike-lfp-response-other-drive/data/figures/spike-lfp-coherence-histogram-stim_strength-ns_inhibited.svg',\n",
       " '/media/storage/expipe/septum-mec/actions/stimulus-spike-lfp-response-other-drive/data/figures/spike-lfp-coherence-histogram-stim_vec_len-gridcell.svg',\n",
       " '/media/storage/expipe/septum-mec/actions/stimulus-spike-lfp-response-other-drive/data/figures/spike-lfp-coherence-histogram-stim_ang-ns_not_inhibited.svg',\n",
       " '/media/storage/expipe/septum-mec/actions/stimulus-spike-lfp-response-other-drive/data/figures/spike-lfp-coherence-histogram-stim_half_width-ns_not_inhibited.png',\n",
       " '/media/storage/expipe/septum-mec/actions/stimulus-spike-lfp-response-other-drive/data/figures/spike-lfp-coherence-histogram-theta_energy-ns_not_inhibited.png',\n",
       " '/media/storage/expipe/septum-mec/actions/stimulus-spike-lfp-response-other-drive/data/figures/spike-lfp-coherence-histogram-theta_vec_len-gridcell.svg',\n",
       " '/media/storage/expipe/septum-mec/actions/stimulus-spike-lfp-response-other-drive/data/figures/spike-lfp-coherence-histogram-stim_vec_len-ns_not_inhibited.png',\n",
       " '/media/storage/expipe/septum-mec/actions/stimulus-spike-lfp-response-other-drive/data/figures/spike-lfp-coherence-histogram-stim_energy-ns_not_inhibited.svg',\n",
       " '/media/storage/expipe/septum-mec/actions/stimulus-spike-lfp-response-other-drive/data/figures/spike-lfp-coherence-histogram-theta_ang-gridcell.png',\n",
       " '/media/storage/expipe/septum-mec/actions/stimulus-spike-lfp-response-other-drive/data/figures/spike-lfp-coherence-histogram-theta_half_width-ns_inhibited.svg',\n",
       " '/media/storage/expipe/septum-mec/actions/stimulus-spike-lfp-response-other-drive/data/figures/spike-lfp-coherence-ns_inhibited.png',\n",
       " '/media/storage/expipe/septum-mec/actions/stimulus-spike-lfp-response-other-drive/data/figures/spike-lfp-coherence-histogram-stim_half_width-ns_inhibited.png',\n",
       " '/media/storage/expipe/septum-mec/actions/stimulus-spike-lfp-response-other-drive/data/figures/spike-lfp-coherence-histogram-theta_vec_len-gridcell.png',\n",
       " '/media/storage/expipe/septum-mec/actions/stimulus-spike-lfp-response-other-drive/data/figures/spike-lfp-coherence-histogram-stim_energy-ns_not_inhibited.png',\n",
       " '/media/storage/expipe/septum-mec/actions/stimulus-spike-lfp-response-other-drive/data/figures/spike-lfp-coherence-histogram-theta_energy-gridcell.png',\n",
       " '/media/storage/expipe/septum-mec/actions/stimulus-spike-lfp-response-other-drive/data/figures/spike-lfp-coherence-histogram-theta_energy-ns_not_inhibited.svg',\n",
       " '/media/storage/expipe/septum-mec/actions/stimulus-spike-lfp-response-other-drive/data/figures/spike-lfp-coherence-histogram-theta_half_width-ns_inhibited.png',\n",
       " '/media/storage/expipe/septum-mec/actions/stimulus-spike-lfp-response-other-drive/data/figures/spike-lfp-coherence-histogram-theta_vec_len-ns_inhibited.png',\n",
       " '/media/storage/expipe/septum-mec/actions/stimulus-spike-lfp-response-other-drive/data/figures/spike-lfp-coherence-histogram-stim_p_max-ns_inhibited.svg',\n",
       " '/media/storage/expipe/septum-mec/actions/stimulus-spike-lfp-response-other-drive/data/figures/spike-lfp-coherence-histogram-theta_peak-ns_not_inhibited.png',\n",
       " '/media/storage/expipe/septum-mec/actions/stimulus-spike-lfp-response-other-drive/data/figures/spike-lfp-coherence-histogram-stim_ang-gridcell.svg',\n",
       " '/media/storage/expipe/septum-mec/actions/stimulus-spike-lfp-response-other-drive/data/figures/spike-lfp-coherence-histogram-stim_half_width-ns_inhibited.svg',\n",
       " '/media/storage/expipe/septum-mec/actions/stimulus-spike-lfp-response-other-drive/data/figures/spike-lfp-coherence-histogram-stim_strength-gridcell.svg',\n",
       " '/media/storage/expipe/septum-mec/actions/stimulus-spike-lfp-response-other-drive/data/figures/spike-lfp-coherence-histogram-theta_vec_len-ns_not_inhibited.png',\n",
       " '/media/storage/expipe/septum-mec/actions/stimulus-spike-lfp-response-other-drive/data/figures/spike-lfp-coherence-histogram-theta_vec_len-ns_not_inhibited.svg',\n",
       " '/media/storage/expipe/septum-mec/actions/stimulus-spike-lfp-response-other-drive/data/figures/spike-lfp-coherence-histogram-theta_freq-gridcell.svg',\n",
       " '/media/storage/expipe/septum-mec/actions/stimulus-spike-lfp-response-other-drive/data/figures/spike-lfp-coherence-histogram-stim_ang-ns_not_inhibited.png',\n",
       " '/media/storage/expipe/septum-mec/actions/stimulus-spike-lfp-response-other-drive/data/figures/spike-lfp-coherence-histogram-theta_ang-ns_not_inhibited.png',\n",
       " '/media/storage/expipe/septum-mec/actions/stimulus-spike-lfp-response-other-drive/data/figures/spike-lfp-coherence-histogram-stim_half_width-gridcell.svg',\n",
       " '/media/storage/expipe/septum-mec/actions/stimulus-spike-lfp-response-other-drive/data/figures/spike-lfp-coherence-histogram-theta_peak-ns_inhibited.png',\n",
       " '/media/storage/expipe/septum-mec/actions/stimulus-spike-lfp-response-other-drive/data/figures/spike-lfp-coherence-ns_not_inhibited.png',\n",
       " '/media/storage/expipe/septum-mec/actions/stimulus-spike-lfp-response-other-drive/data/figures/spike-lfp-coherence-histogram-theta_ang-ns_inhibited.svg',\n",
       " '/media/storage/expipe/septum-mec/actions/stimulus-spike-lfp-response-other-drive/data/figures/spike-lfp-coherence-histogram-stim_vec_len-ns_inhibited.png',\n",
       " '/media/storage/expipe/septum-mec/actions/stimulus-spike-lfp-response-other-drive/data/figures/spike-lfp-coherence-histogram-stim_ang-ns_inhibited.svg',\n",
       " '/media/storage/expipe/septum-mec/actions/stimulus-spike-lfp-response-other-drive/data/figures/spike-lfp-coherence-histogram-theta_freq-ns_inhibited.png',\n",
       " '/media/storage/expipe/septum-mec/actions/stimulus-spike-lfp-response-other-drive/data/figures/spike-lfp-coherence-histogram-theta_peak-ns_not_inhibited.svg',\n",
       " '/media/storage/expipe/septum-mec/actions/stimulus-spike-lfp-response-other-drive/data/figures/spike-lfp-coherence-histogram-stim_vec_len-gridcell.png',\n",
       " '/media/storage/expipe/septum-mec/actions/stimulus-spike-lfp-response-other-drive/data/figures/spike-lfp-coherence-histogram-theta_peak-ns_inhibited.svg',\n",
       " '/media/storage/expipe/septum-mec/actions/stimulus-spike-lfp-response-other-drive/data/figures/spike-lfp-coherence-histogram-stim_vec_len-ns_not_inhibited.svg',\n",
       " '/media/storage/expipe/septum-mec/actions/stimulus-spike-lfp-response-other-drive/data/figures/spike-lfp-coherence-histogram-stim_vec_len-ns_inhibited.svg',\n",
       " '/media/storage/expipe/septum-mec/actions/stimulus-spike-lfp-response-other-drive/data/figures/spike-lfp-coherence-histogram-theta_energy-ns_inhibited.png',\n",
       " '/media/storage/expipe/septum-mec/actions/stimulus-spike-lfp-response-other-drive/data/figures/spike-lfp-coherence-histogram-theta_vec_len-ns_inhibited.svg',\n",
       " '/media/storage/expipe/septum-mec/actions/stimulus-spike-lfp-response-other-drive/data/figures/spike-lfp-coherence-histogram-theta_freq-gridcell.png',\n",
       " '/media/storage/expipe/septum-mec/actions/stimulus-spike-lfp-response-other-drive/data/figures/spike-lfp-coherence-histogram-theta_freq-ns_inhibited.svg',\n",
       " '/media/storage/expipe/septum-mec/actions/stimulus-spike-lfp-response-other-drive/data/figures/spike-lfp-coherence-histogram-stim_strength-ns_inhibited.png',\n",
       " '/media/storage/expipe/septum-mec/actions/stimulus-spike-lfp-response-other-drive/data/figures/spike-lfp-coherence-histogram-stim_energy-ns_inhibited.png',\n",
       " '/media/storage/expipe/septum-mec/actions/stimulus-spike-lfp-response-other-drive/data/figures/spike-lfp-coherence-histogram-stim_strength-gridcell.png',\n",
       " '/media/storage/expipe/septum-mec/actions/stimulus-spike-lfp-response-other-drive/data/figures/spike-lfp-coherence-histogram-stim_p_max-ns_not_inhibited.png',\n",
       " '/media/storage/expipe/septum-mec/actions/stimulus-spike-lfp-response-other-drive/data/figures/spike-lfp-coherence-histogram-stim_p_max-ns_inhibited.png',\n",
       " '/media/storage/expipe/septum-mec/actions/stimulus-spike-lfp-response-other-drive/data/figures/spike-lfp-coherence-histogram-stim_energy-ns_inhibited.svg',\n",
       " '/media/storage/expipe/septum-mec/actions/stimulus-spike-lfp-response-other-drive/data/figures/spike-lfp-coherence-ns_inhibited.svg',\n",
       " '/media/storage/expipe/septum-mec/actions/stimulus-spike-lfp-response-other-drive/data/figures/spike-lfp-coherence-histogram-stim_p_max-gridcell.svg',\n",
       " '/media/storage/expipe/septum-mec/actions/stimulus-spike-lfp-response-other-drive/data/figures/spike-lfp-coherence-histogram-stim_ang-gridcell.png',\n",
       " '/media/storage/expipe/septum-mec/actions/stimulus-spike-lfp-response-other-drive/data/figures/spike-lfp-coherence-histogram-theta_ang-ns_not_inhibited.svg',\n",
       " '/media/storage/expipe/septum-mec/actions/stimulus-spike-lfp-response-other-drive/data/figures/spike-lfp-coherence-histogram-stim_energy-gridcell.png',\n",
       " '/media/storage/expipe/septum-mec/actions/stimulus-spike-lfp-response-other-drive/data/figures/spike-lfp-coherence-histogram-stim_half_width-gridcell.png',\n",
       " '/media/storage/expipe/septum-mec/actions/stimulus-spike-lfp-response-other-drive/data/figures/spike-lfp-coherence-histogram-stim_ang-ns_inhibited.png',\n",
       " '/media/storage/expipe/septum-mec/actions/stimulus-spike-lfp-response-other-drive/data/figures/spike-lfp-coherence-histogram-stim_p_max-gridcell.png',\n",
       " '/media/storage/expipe/septum-mec/actions/stimulus-spike-lfp-response-other-drive/data/figures/spike-lfp-coherence-histogram-theta_half_width-gridcell.svg',\n",
       " '/media/storage/expipe/septum-mec/actions/stimulus-spike-lfp-response-other-drive/data/figures/spike-lfp-coherence-gridcell.png',\n",
       " '/media/storage/expipe/septum-mec/actions/stimulus-spike-lfp-response-other-drive/data/figures/spike-lfp-coherence-histogram-stim_strength-ns_not_inhibited.svg',\n",
       " '/media/storage/expipe/septum-mec/actions/stimulus-spike-lfp-response-other-drive/data/figures/spike-lfp-coherence-histogram-theta_freq-ns_not_inhibited.png',\n",
       " '/media/storage/expipe/septum-mec/actions/stimulus-spike-lfp-response-other-drive/data/figures/spike-lfp-coherence-ns_not_inhibited.svg',\n",
       " '/media/storage/expipe/septum-mec/actions/stimulus-spike-lfp-response-other-drive/data/figures/spike-lfp-coherence-histogram-theta_half_width-ns_not_inhibited.png',\n",
       " '/media/storage/expipe/septum-mec/actions/stimulus-spike-lfp-response-other-drive/data/figures/spike-lfp-coherence-histogram-theta_half_width-gridcell.png']"
      ]
     },
     "execution_count": 49,
     "metadata": {},
     "output_type": "execute_result"
    }
   ],
   "source": [
    "copy_tree(output_path, str(action.data_path()))"
   ]
  },
  {
   "cell_type": "code",
   "execution_count": 50,
   "metadata": {},
   "outputs": [],
   "source": [
    "septum_mec.analysis.registration.store_notebook(action, \"15_assemble_data_frame.ipynb\")"
   ]
  },
  {
   "cell_type": "code",
   "execution_count": null,
   "metadata": {},
   "outputs": [],
   "source": []
  }
 ],
 "metadata": {
  "kernelspec": {
   "display_name": "Python 3",
   "language": "python",
   "name": "python3"
  },
  "language_info": {
   "codemirror_mode": {
    "name": "ipython",
    "version": 3
   },
   "file_extension": ".py",
   "mimetype": "text/x-python",
   "name": "python",
   "nbconvert_exporter": "python",
   "pygments_lexer": "ipython3",
   "version": "3.6.8"
  }
 },
 "nbformat": 4,
 "nbformat_minor": 4
}
