{
 "cells": [
  {
   "cell_type": "markdown",
   "metadata": {},
   "source": [
    "# Compute FWHM of PSTHs for 11 and 30Hz\n",
    "\n",
    "Only PSTHs with a significance level below 0.05 are used"
   ]
  },
  {
   "cell_type": "code",
   "execution_count": 44,
   "metadata": {},
   "outputs": [
    {
     "name": "stdout",
     "output_type": "stream",
     "text": [
      "The autoreload extension is already loaded. To reload it, use:\n",
      "  %reload_ext autoreload\n"
     ]
    }
   ],
   "source": [
    "%load_ext autoreload\n",
    "%autoreload 2"
   ]
  },
  {
   "cell_type": "code",
   "execution_count": 45,
   "metadata": {},
   "outputs": [],
   "source": [
    "import matplotlib.pyplot as plt\n",
    "%matplotlib inline\n",
    "import spatial_maps as sp\n",
    "import septum_mec.analysis.data_processing as dp\n",
    "import septum_mec.analysis.registration\n",
    "import expipe\n",
    "import os\n",
    "import pathlib\n",
    "import numpy as np\n",
    "import exdir\n",
    "import pandas as pd\n",
    "import optogenetics as og\n",
    "import quantities as pq\n",
    "import shutil\n",
    "from distutils.dir_util import copy_tree\n",
    "import seaborn as sns\n",
    "from functools import reduce\n",
    "from septum_mec.analysis.stimulus_response import stimulus_response_latency, compute_response\n",
    "import scipy.stats\n",
    "from tqdm import tqdm_notebook as tqdm\n",
    "from tqdm._tqdm_notebook import tqdm_notebook\n",
    "from septum_mec.analysis.statistics import load_data_frames, make_paired_tables, make_statistics_table \n",
    "tqdm_notebook.pandas()\n",
    "\n",
    "%matplotlib widget"
   ]
  },
  {
   "cell_type": "code",
   "execution_count": 3,
   "metadata": {},
   "outputs": [],
   "source": [
    "std_gaussian_kde = 0.04\n",
    "window_size = 0.05\n",
    "tmin = 0. # delay to compute FWHM after stimulus onset"
   ]
  },
  {
   "cell_type": "code",
   "execution_count": 4,
   "metadata": {},
   "outputs": [],
   "source": [
    "data_loader = dp.Data()\n",
    "actions = data_loader.actions\n",
    "project = data_loader.project"
   ]
  },
  {
   "cell_type": "code",
   "execution_count": 8,
   "metadata": {},
   "outputs": [],
   "source": [
    "output = pathlib.Path('output/stimulus-response-fwhm-gc-inhibition')\n",
    "(output / 'data').mkdir(parents=True, exist_ok=True)\n",
    "(output / 'figures').mkdir(parents=True, exist_ok=True)\n",
    "(output / 'statistics').mkdir(parents=True, exist_ok=True)"
   ]
  },
  {
   "cell_type": "code",
   "execution_count": 25,
   "metadata": {},
   "outputs": [
    {
     "name": "stdout",
     "output_type": "stream",
     "text": [
      "Number of sessions above threshold 194\n",
      "Number of animals 4\n",
      "Number of individual gridcells 139\n",
      "Number of gridcell recordings 230\n"
     ]
    }
   ],
   "source": [
    "df = load_data_frames()[0]"
   ]
  },
  {
   "cell_type": "code",
   "execution_count": 28,
   "metadata": {},
   "outputs": [
    {
     "name": "stdout",
     "output_type": "stream",
     "text": [
      "222\n"
     ]
    }
   ],
   "source": [
    "stim_df = df.query(\"stimulated\")\n",
    "stim_df = stim_df.query(\"p_e_peak < 0.05\")\n",
    "print(len(stim_df))"
   ]
  },
  {
   "cell_type": "code",
   "execution_count": 29,
   "metadata": {},
   "outputs": [
    {
     "data": {
      "application/vnd.jupyter.widget-view+json": {
       "model_id": "d637d9aafd7c4c76be6d752b6a256be4",
       "version_major": 2,
       "version_minor": 0
      },
      "text/plain": [
       "HBox(children=(IntProgress(value=0, max=222), HTML(value='')))"
      ]
     },
     "metadata": {},
     "output_type": "display_data"
    },
    {
     "name": "stdout",
     "output_type": "stream",
     "text": [
      "\n"
     ]
    }
   ],
   "source": [
    "psth_start = -0.01\n",
    "window_size = 0.05\n",
    "times = np.arange(psth_start, window_size, 1e-4)\n",
    "tmin = 0.005\n",
    "psths = []\n",
    "fwhms = []\n",
    "for i, row in tqdm(stim_df.iterrows(), total=len(stim_df)):\n",
    "    action_id = row['action']\n",
    "    channel_group = row['channel_group']\n",
    "    unit_name = row['unit_name']\n",
    "    name = f'{action_id}_{channel_group}_{unit_name}'\n",
    "    spike_times = data_loader.spike_train(action_id, channel_group, unit_name)\n",
    "    \n",
    "    spike_times = np.array(spike_times)\n",
    "    \n",
    "    stim_times = data_loader.stim_times(action_id)\n",
    "    \n",
    "    if stim_times is None:\n",
    "        continue\n",
    "    \n",
    "    stim_times = np.array(stim_times)\n",
    "    \n",
    "    _, spikes, kernel, p_e, p_i = stimulus_response_latency(\n",
    "        spike_times, stim_times, window_size, std_gaussian_kde)\n",
    "    \n",
    "    if all(np.isnan([p_e, p_i])):\n",
    "        continue\n",
    "    \n",
    "    psths.append(kernel(times))\n",
    "    fwhm = compute_fwhm(kernel(times), times, tmin)\n",
    "    fwhms.append(fwhm)"
   ]
  },
  {
   "cell_type": "code",
   "execution_count": 58,
   "metadata": {},
   "outputs": [],
   "source": [
    "stim_df[\"psth\"] = psths"
   ]
  },
  {
   "cell_type": "code",
   "execution_count": 67,
   "metadata": {},
   "outputs": [],
   "source": [
    "baseline_interval = [-0.005, 0.005]\n",
    "post_interval_11 = [0.015, 0.025]\n",
    "post_interval_30 = [0.020, 0.030]\n",
    "\n",
    "bl_avgs = []\n",
    "post_avgs = []\n",
    "\n",
    "for i, row in stim_df.iterrows():\n",
    "    bl_idxs = np.searchsorted(times, baseline_interval, side=\"right\")\n",
    "    avg_bl = np.mean(row.psth[bl_idxs])\n",
    "    if row.frequency == 11:\n",
    "        post_idxs = np.searchsorted(times, post_interval_11, side=\"right\")\n",
    "    else:\n",
    "        post_idxs = np.searchsorted(times, post_interval_30, side=\"right\")\n",
    "        \n",
    "    avg_post = np.mean(row.psth[post_idxs])\n",
    "    bl_avgs.append(avg_bl)\n",
    "    post_avgs.append(avg_post)"
   ]
  },
  {
   "cell_type": "code",
   "execution_count": 70,
   "metadata": {},
   "outputs": [],
   "source": [
    "stim_df[\"psth_avg_baseline\"] = bl_avgs\n",
    "stim_df[\"psth_avg_post\"] = post_avgs"
   ]
  },
  {
   "cell_type": "code",
   "execution_count": 48,
   "metadata": {},
   "outputs": [],
   "source": [
    "columns = [\"psth_avg_baseline\", \"psth_avg_post\"]\n",
    "results, labels = make_paired_tables(stim_df, columns)"
   ]
  },
  {
   "cell_type": "code",
   "execution_count": 53,
   "metadata": {},
   "outputs": [],
   "source": [
    "stat, _ = make_statistics_table(results[\"gridcell\"], labels)"
   ]
  },
  {
   "cell_type": "code",
   "execution_count": 54,
   "metadata": {},
   "outputs": [
    {
     "data": {
      "text/html": [
       "<div>\n",
       "<style scoped>\n",
       "    .dataframe tbody tr th:only-of-type {\n",
       "        vertical-align: middle;\n",
       "    }\n",
       "\n",
       "    .dataframe tbody tr th {\n",
       "        vertical-align: top;\n",
       "    }\n",
       "\n",
       "    .dataframe thead th {\n",
       "        text-align: right;\n",
       "    }\n",
       "</style>\n",
       "<table border=\"1\" class=\"dataframe\">\n",
       "  <thead>\n",
       "    <tr style=\"text-align: right;\">\n",
       "      <th></th>\n",
       "      <th>Psth avg baseline</th>\n",
       "      <th>Psth avg post</th>\n",
       "    </tr>\n",
       "  </thead>\n",
       "  <tbody>\n",
       "    <tr>\n",
       "      <th>Baseline I</th>\n",
       "      <td>NaN</td>\n",
       "      <td>NaN</td>\n",
       "    </tr>\n",
       "    <tr>\n",
       "      <th>Normality Baseline I</th>\n",
       "      <td>NaN</td>\n",
       "      <td>NaN</td>\n",
       "    </tr>\n",
       "    <tr>\n",
       "      <th>11 Hz</th>\n",
       "      <td>1.8e+01 ± 1.1e+00 (23)</td>\n",
       "      <td>6.5e+00 ± 6.0e-01 (23)</td>\n",
       "    </tr>\n",
       "    <tr>\n",
       "      <th>Normality 11 Hz</th>\n",
       "      <td>2.5e+00, 2.8e-01</td>\n",
       "      <td>5.7e-01, 7.5e-01</td>\n",
       "    </tr>\n",
       "    <tr>\n",
       "      <th>Baseline II</th>\n",
       "      <td>NaN</td>\n",
       "      <td>NaN</td>\n",
       "    </tr>\n",
       "    <tr>\n",
       "      <th>Normality Baseline II</th>\n",
       "      <td>NaN</td>\n",
       "      <td>NaN</td>\n",
       "    </tr>\n",
       "    <tr>\n",
       "      <th>30 Hz</th>\n",
       "      <td>8.0e+00 ± 4.3e-01 (21)</td>\n",
       "      <td>9.6e+00 ± 5.7e-01 (21)</td>\n",
       "    </tr>\n",
       "    <tr>\n",
       "      <th>Normality 30 Hz</th>\n",
       "      <td>3.6e+00, 1.6e-01</td>\n",
       "      <td>7.7e-01, 6.8e-01</td>\n",
       "    </tr>\n",
       "    <tr>\n",
       "      <th>Wilcoxon Baseline I - 11 Hz</th>\n",
       "      <td>NaN</td>\n",
       "      <td>NaN</td>\n",
       "    </tr>\n",
       "    <tr>\n",
       "      <th>LMM Baseline I - 11 Hz</th>\n",
       "      <td>NaN</td>\n",
       "      <td>7.8e-01 [-8.5e-01, 1.1e+00]</td>\n",
       "    </tr>\n",
       "    <tr>\n",
       "      <th>Wilcoxon Baseline I - Baseline II</th>\n",
       "      <td>NaN</td>\n",
       "      <td>NaN</td>\n",
       "    </tr>\n",
       "    <tr>\n",
       "      <th>LMM Baseline I - Baseline II</th>\n",
       "      <td>NaN</td>\n",
       "      <td>NaN</td>\n",
       "    </tr>\n",
       "    <tr>\n",
       "      <th>Wilcoxon Baseline I - 30 Hz</th>\n",
       "      <td>NaN</td>\n",
       "      <td>NaN</td>\n",
       "    </tr>\n",
       "    <tr>\n",
       "      <th>LMM Baseline I - 30 Hz</th>\n",
       "      <td>5.0e-01 [-7.6e-01, 1.5e+00]</td>\n",
       "      <td>5.1e-01 [-1.8e+00, 3.7e+00]</td>\n",
       "    </tr>\n",
       "    <tr>\n",
       "      <th>Wilcoxon 11 Hz - Baseline II</th>\n",
       "      <td>NaN</td>\n",
       "      <td>NaN</td>\n",
       "    </tr>\n",
       "    <tr>\n",
       "      <th>LMM 11 Hz - Baseline II</th>\n",
       "      <td>NaN</td>\n",
       "      <td>7.8e-01 [-8.5e-01, 1.1e+00]</td>\n",
       "    </tr>\n",
       "    <tr>\n",
       "      <th>Wilcoxon 11 Hz - 30 Hz</th>\n",
       "      <td>1.0e+00, 1.2e-01, (5)</td>\n",
       "      <td>5.0e+00, 6.2e-01, (5)</td>\n",
       "    </tr>\n",
       "    <tr>\n",
       "      <th>LMM 11 Hz - 30 Hz</th>\n",
       "      <td>2.6e-09 [-1.3e+01, -6.7e+00]</td>\n",
       "      <td>NaN</td>\n",
       "    </tr>\n",
       "    <tr>\n",
       "      <th>Wilcoxon Baseline II - 30 Hz</th>\n",
       "      <td>NaN</td>\n",
       "      <td>NaN</td>\n",
       "    </tr>\n",
       "    <tr>\n",
       "      <th>LMM Baseline II - 30 Hz</th>\n",
       "      <td>5.0e-01 [-7.6e-01, 1.5e+00]</td>\n",
       "      <td>5.1e-01 [-1.8e+00, 3.7e+00]</td>\n",
       "    </tr>\n",
       "  </tbody>\n",
       "</table>\n",
       "</div>"
      ],
      "text/plain": [
       "                                              Psth avg baseline  \\\n",
       "Baseline I                                                  NaN   \n",
       "Normality Baseline I                                        NaN   \n",
       "11 Hz                                    1.8e+01 ± 1.1e+00 (23)   \n",
       "Normality 11 Hz                                2.5e+00, 2.8e-01   \n",
       "Baseline II                                                 NaN   \n",
       "Normality Baseline II                                       NaN   \n",
       "30 Hz                                    8.0e+00 ± 4.3e-01 (21)   \n",
       "Normality 30 Hz                                3.6e+00, 1.6e-01   \n",
       "Wilcoxon Baseline I - 11 Hz                                 NaN   \n",
       "LMM Baseline I - 11 Hz                                      NaN   \n",
       "Wilcoxon Baseline I - Baseline II                           NaN   \n",
       "LMM Baseline I - Baseline II                                NaN   \n",
       "Wilcoxon Baseline I - 30 Hz                                 NaN   \n",
       "LMM Baseline I - 30 Hz              5.0e-01 [-7.6e-01, 1.5e+00]   \n",
       "Wilcoxon 11 Hz - Baseline II                                NaN   \n",
       "LMM 11 Hz - Baseline II                                     NaN   \n",
       "Wilcoxon 11 Hz - 30 Hz                    1.0e+00, 1.2e-01, (5)   \n",
       "LMM 11 Hz - 30 Hz                  2.6e-09 [-1.3e+01, -6.7e+00]   \n",
       "Wilcoxon Baseline II - 30 Hz                                NaN   \n",
       "LMM Baseline II - 30 Hz             5.0e-01 [-7.6e-01, 1.5e+00]   \n",
       "\n",
       "                                                 Psth avg post  \n",
       "Baseline I                                                 NaN  \n",
       "Normality Baseline I                                       NaN  \n",
       "11 Hz                                   6.5e+00 ± 6.0e-01 (23)  \n",
       "Normality 11 Hz                               5.7e-01, 7.5e-01  \n",
       "Baseline II                                                NaN  \n",
       "Normality Baseline II                                      NaN  \n",
       "30 Hz                                   9.6e+00 ± 5.7e-01 (21)  \n",
       "Normality 30 Hz                               7.7e-01, 6.8e-01  \n",
       "Wilcoxon Baseline I - 11 Hz                                NaN  \n",
       "LMM Baseline I - 11 Hz             7.8e-01 [-8.5e-01, 1.1e+00]  \n",
       "Wilcoxon Baseline I - Baseline II                          NaN  \n",
       "LMM Baseline I - Baseline II                               NaN  \n",
       "Wilcoxon Baseline I - 30 Hz                                NaN  \n",
       "LMM Baseline I - 30 Hz             5.1e-01 [-1.8e+00, 3.7e+00]  \n",
       "Wilcoxon 11 Hz - Baseline II                               NaN  \n",
       "LMM 11 Hz - Baseline II            7.8e-01 [-8.5e-01, 1.1e+00]  \n",
       "Wilcoxon 11 Hz - 30 Hz                   5.0e+00, 6.2e-01, (5)  \n",
       "LMM 11 Hz - 30 Hz                                          NaN  \n",
       "Wilcoxon Baseline II - 30 Hz                               NaN  \n",
       "LMM Baseline II - 30 Hz            5.1e-01 [-1.8e+00, 3.7e+00]  "
      ]
     },
     "execution_count": 54,
     "metadata": {},
     "output_type": "execute_result"
    }
   ],
   "source": [
    "stat"
   ]
  },
  {
   "cell_type": "code",
   "execution_count": null,
   "metadata": {},
   "outputs": [],
   "source": [
    "def violinplot2(data, xticks, colors):\n",
    "    pos = [i * 0.6 for i in range(len(data))]\n",
    "    print(pos)\n",
    "    violins = plt.violinplot(data, pos, showmeans=True, showextrema=False)\n",
    "    \n",
    "    for i, b in enumerate(violins['bodies']):\n",
    "        b.set_color(colors[i])\n",
    "        b.set_alpha (0.8)\n",
    "\n",
    " \n",
    "\n",
    "    # for i, body in enumerate(violins['cbars']):\n",
    "    #     body.set_color('C{}'.format(i))\n",
    "\n",
    " \n",
    "\n",
    "    for category in ['cbars', 'cmins', 'cmaxes', 'cmedians', 'cmeans']:\n",
    "        if category in violins:\n",
    "            violins[category].set_color(['k', 'k'])\n",
    "            violins[category].set_linewidth(2.0)\n",
    "    plt.xticks(pos, xticks, rotation=45)\n",
    "    plt.gca().spines['top'].set_visible(False)\n",
    "    plt.gca().spines['right'].set_visible(False)"
   ]
  },
  {
   "cell_type": "code",
   "execution_count": 72,
   "metadata": {},
   "outputs": [
    {
     "data": {
      "application/vnd.jupyter.widget-view+json": {
       "model_id": "41e7071115b84eeba4eb372dd8fc49cf",
       "version_major": 2,
       "version_minor": 0
      },
      "text/plain": [
       "Canvas(toolbar=Toolbar(toolitems=[('Home', 'Reset original view', 'home', 'home'), ('Back', 'Back to previous …"
      ]
     },
     "metadata": {},
     "output_type": "display_data"
    },
    {
     "name": "stdout",
     "output_type": "stream",
     "text": [
      "[0.0, 0.6]\n"
     ]
    },
    {
     "data": {
      "application/vnd.jupyter.widget-view+json": {
       "model_id": "5a7e02bc46724a64b2e214c2b8c0e8a8",
       "version_major": 2,
       "version_minor": 0
      },
      "text/plain": [
       "Canvas(toolbar=Toolbar(toolitems=[('Home', 'Reset original view', 'home', 'home'), ('Back', 'Back to previous …"
      ]
     },
     "metadata": {},
     "output_type": "display_data"
    },
    {
     "name": "stdout",
     "output_type": "stream",
     "text": [
      "[0.0, 0.6]\n"
     ]
    },
    {
     "data": {
      "text/plain": [
       "Text(0.5, 1.0, '30Hz')"
      ]
     },
     "execution_count": 72,
     "metadata": {},
     "output_type": "execute_result"
    },
    {
     "data": {
      "image/png": "[encoded data removed]",
      "text/plain": [
       "<Figure size 432x288 with 1 Axes>"
      ]
     },
     "metadata": {
      "needs_background": "light"
     },
     "output_type": "display_data"
    },
    {
     "data": {
      "image/png": "[encoded data removed]",
      "text/plain": [
       "<Figure size 432x288 with 1 Axes>"
      ]
     },
     "metadata": {
      "needs_background": "light"
     },
     "output_type": "display_data"
    }
   ],
   "source": [
    "stim11 = stim_df.query(\"frequency == 11\")\n",
    "stim30 = stim_df.query(\"frequency == 30\")\n",
    "\n",
    "fig = plt.figure()\n",
    "violinplot2(\n",
    "    [stim11.psth_avg_baseline, stim11.psth_avg_post], \n",
    "    colors=[\"C0\", \"C1\"],\n",
    "    xticks=[\"baseline\", \"post\"],\n",
    ")\n",
    "plt.title(\"11Hz\")\n",
    "\n",
    "fig = plt.figure()\n",
    "violinplot2(\n",
    "    [stim30.psth_avg_baseline, stim30.psth_avg_post], \n",
    "    colors=[\"C0\", \"C1\"],\n",
    "    xticks=[\"baseline\", \"post\"],\n",
    ")\n",
    "plt.title(\"30Hz\")"
   ]
  },
  {
   "cell_type": "code",
   "execution_count": null,
   "metadata": {},
   "outputs": [],
   "source": [
    "# 11\n",
    "fig = plt.figure()\n",
    "violinplot2(\n",
    "    [session_units_sig_11.fwhm.dropna().values, session_units_sig_30.fwhm.dropna().values], \n",
    "    colors=colors,\n",
    "    xticks=[\"11 Hz  \", \"  30 Hz\"],\n",
    ")\n",
    "figname = 'stim-response-fwhm-11-30Hz'\n",
    "fig.savefig(\n",
    "    output / 'figures' / f'{figname}.png', \n",
    "    bbox_inches='tight', transparent=True)\n",
    "fig.savefig(\n",
    "    output / 'figures' / f'{figname}.svg', \n",
    "    bbox_inches='tight', transparent=True)"
   ]
  },
  {
   "cell_type": "markdown",
   "metadata": {},
   "source": [
    "# Save to expipe"
   ]
  },
  {
   "cell_type": "code",
   "execution_count": null,
   "metadata": {},
   "outputs": [],
   "source": [
    "action = project.require_action(\"stimulus-response-fwhm\")"
   ]
  },
  {
   "cell_type": "code",
   "execution_count": null,
   "metadata": {},
   "outputs": [],
   "source": [
    "action.modules['parameters'] = {\n",
    "    'window_size': window_size,\n",
    "    'std_gaussian_kde': std_gaussian_kde,\n",
    "    'tmin': tmin\n",
    "}"
   ]
  },
  {
   "cell_type": "code",
   "execution_count": null,
   "metadata": {},
   "outputs": [],
   "source": [
    "action.data['results'] = 'results.csv'\n",
    "session_units_sig.to_csv(action.data_path('results'), index=False)"
   ]
  },
  {
   "cell_type": "code",
   "execution_count": null,
   "metadata": {},
   "outputs": [],
   "source": [
    "copy_tree(output_path, str(action.data_path()))"
   ]
  },
  {
   "cell_type": "code",
   "execution_count": null,
   "metadata": {},
   "outputs": [],
   "source": [
    "septum_mec.analysis.registration.store_notebook(action, \"10-calculate-stimulus-response-fwhm.ipynb\")"
   ]
  },
  {
   "cell_type": "code",
   "execution_count": null,
   "metadata": {},
   "outputs": [],
   "source": []
  }
 ],
 "metadata": {
  "kernelspec": {
   "display_name": "Python 3",
   "language": "python",
   "name": "python3"
  },
  "language_info": {
   "codemirror_mode": {
    "name": "ipython",
    "version": 3
   },
   "file_extension": ".py",
   "mimetype": "text/x-python",
   "name": "python",
   "nbconvert_exporter": "python",
   "pygments_lexer": "ipython3",
   "version": "3.6.8"
  }
 },
 "nbformat": 4,
 "nbformat_minor": 4
}
