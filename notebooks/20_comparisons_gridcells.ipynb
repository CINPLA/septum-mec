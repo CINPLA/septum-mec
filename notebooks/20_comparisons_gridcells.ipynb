{
 "cells": [
  {
   "cell_type": "code",
   "execution_count": 1,
   "metadata": {},
   "outputs": [],
   "source": [
    "%load_ext autoreload\n",
    "%autoreload 2\n",
    "%matplotlib inline"
   ]
  },
  {
   "cell_type": "code",
   "execution_count": 2,
   "metadata": {},
   "outputs": [
    {
     "name": "stderr",
     "output_type": "stream",
     "text": [
      "10:56:10 [I] klustakwik KlustaKwik2 version 0.2.6\n",
      "/home/mikkel/.virtualenvs/expipe/lib/python3.6/importlib/_bootstrap.py:219: RuntimeWarning: numpy.ufunc size changed, may indicate binary incompatibility. Expected 192 from C header, got 216 from PyObject\n",
      "  return f(*args, **kwds)\n",
      "/home/mikkel/.virtualenvs/expipe/lib/python3.6/importlib/_bootstrap.py:219: RuntimeWarning: numpy.ufunc size changed, may indicate binary incompatibility. Expected 192 from C header, got 216 from PyObject\n",
      "  return f(*args, **kwds)\n"
     ]
    }
   ],
   "source": [
    "import os\n",
    "import pathlib\n",
    "import numpy as np\n",
    "import matplotlib.pyplot as plt\n",
    "import re\n",
    "import shutil\n",
    "import pandas as pd\n",
    "import scipy.stats\n",
    "\n",
    "import exdir\n",
    "import expipe\n",
    "\n",
    "import septum_mec\n",
    "import spatial_maps as sp\n",
    "import head_direction.head as head\n",
    "import septum_mec.analysis.data_processing as dp\n",
    "import septum_mec.analysis.registration\n",
    "\n",
    "from spike_statistics.core import permutation_resampling"
   ]
  },
  {
   "cell_type": "code",
   "execution_count": 3,
   "metadata": {},
   "outputs": [],
   "source": [
    "plt.rcParams['figure.dpi'] = 150\n",
    "plt.rc('axes', titlesize=12)"
   ]
  },
  {
   "cell_type": "code",
   "execution_count": 4,
   "metadata": {},
   "outputs": [],
   "source": [
    "project_path = dp.project_path()\n",
    "project = expipe.get_project(project_path)\n",
    "actions = project.actions\n",
    "\n",
    "output_path = pathlib.Path(\"output\") / \"comparisons-gridcells\"\n",
    "(output_path / \"statistics\").mkdir(exist_ok=True, parents=True)\n",
    "(output_path / \"figures\").mkdir(exist_ok=True, parents=True)"
   ]
  },
  {
   "cell_type": "markdown",
   "metadata": {},
   "source": [
    "# Load cell statistics and shuffling quantiles"
   ]
  },
  {
   "cell_type": "code",
   "execution_count": 5,
   "metadata": {},
   "outputs": [
    {
     "data": {
      "text/html": [
       "<div>\n",
       "<style scoped>\n",
       "    .dataframe tbody tr th:only-of-type {\n",
       "        vertical-align: middle;\n",
       "    }\n",
       "\n",
       "    .dataframe tbody tr th {\n",
       "        vertical-align: top;\n",
       "    }\n",
       "\n",
       "    .dataframe thead th {\n",
       "        text-align: right;\n",
       "    }\n",
       "</style>\n",
       "<table border=\"1\" class=\"dataframe\">\n",
       "  <thead>\n",
       "    <tr style=\"text-align: right;\">\n",
       "      <th></th>\n",
       "      <th>action</th>\n",
       "      <th>control</th>\n",
       "      <th>entity</th>\n",
       "      <th>frequency</th>\n",
       "      <th>session</th>\n",
       "      <th>stim_location</th>\n",
       "      <th>stimulated</th>\n",
       "      <th>tag</th>\n",
       "      <th>channel_group</th>\n",
       "      <th>unit_name</th>\n",
       "      <th>...</th>\n",
       "      <th>interspike_interval_cv</th>\n",
       "      <th>burst_event_ratio</th>\n",
       "      <th>bursty_spike_ratio</th>\n",
       "      <th>gridness</th>\n",
       "      <th>border_score</th>\n",
       "      <th>information_rate</th>\n",
       "      <th>head_mean_ang</th>\n",
       "      <th>head_mean_vec_len</th>\n",
       "      <th>spacing</th>\n",
       "      <th>orientation</th>\n",
       "    </tr>\n",
       "  </thead>\n",
       "  <tbody>\n",
       "    <tr>\n",
       "      <th>0</th>\n",
       "      <td>1849-060319-3</td>\n",
       "      <td>True</td>\n",
       "      <td>1849</td>\n",
       "      <td>NaN</td>\n",
       "      <td>3</td>\n",
       "      <td>NaN</td>\n",
       "      <td>False</td>\n",
       "      <td>baseline ii</td>\n",
       "      <td>1</td>\n",
       "      <td>104</td>\n",
       "      <td>...</td>\n",
       "      <td>3.970863</td>\n",
       "      <td>0.397921</td>\n",
       "      <td>0.676486</td>\n",
       "      <td>-0.459487</td>\n",
       "      <td>0.078474</td>\n",
       "      <td>0.965845</td>\n",
       "      <td>5.788704</td>\n",
       "      <td>0.043321</td>\n",
       "      <td>0.624971</td>\n",
       "      <td>22.067900</td>\n",
       "    </tr>\n",
       "    <tr>\n",
       "      <th>1</th>\n",
       "      <td>1849-060319-3</td>\n",
       "      <td>True</td>\n",
       "      <td>1849</td>\n",
       "      <td>NaN</td>\n",
       "      <td>3</td>\n",
       "      <td>NaN</td>\n",
       "      <td>False</td>\n",
       "      <td>baseline ii</td>\n",
       "      <td>1</td>\n",
       "      <td>108</td>\n",
       "      <td>...</td>\n",
       "      <td>1.219777</td>\n",
       "      <td>0.146481</td>\n",
       "      <td>0.277121</td>\n",
       "      <td>-0.615405</td>\n",
       "      <td>0.311180</td>\n",
       "      <td>0.191375</td>\n",
       "      <td>1.821598</td>\n",
       "      <td>0.014624</td>\n",
       "      <td>0.753333</td>\n",
       "      <td>0.000000</td>\n",
       "    </tr>\n",
       "    <tr>\n",
       "      <th>2</th>\n",
       "      <td>1849-060319-3</td>\n",
       "      <td>True</td>\n",
       "      <td>1849</td>\n",
       "      <td>NaN</td>\n",
       "      <td>3</td>\n",
       "      <td>NaN</td>\n",
       "      <td>False</td>\n",
       "      <td>baseline ii</td>\n",
       "      <td>1</td>\n",
       "      <td>85</td>\n",
       "      <td>...</td>\n",
       "      <td>5.470099</td>\n",
       "      <td>0.373466</td>\n",
       "      <td>0.658748</td>\n",
       "      <td>-0.527711</td>\n",
       "      <td>0.131660</td>\n",
       "      <td>3.833587</td>\n",
       "      <td>4.407614</td>\n",
       "      <td>0.121115</td>\n",
       "      <td>0.542877</td>\n",
       "      <td>27.758541</td>\n",
       "    </tr>\n",
       "    <tr>\n",
       "      <th>3</th>\n",
       "      <td>1849-060319-3</td>\n",
       "      <td>True</td>\n",
       "      <td>1849</td>\n",
       "      <td>NaN</td>\n",
       "      <td>3</td>\n",
       "      <td>NaN</td>\n",
       "      <td>False</td>\n",
       "      <td>baseline ii</td>\n",
       "      <td>1</td>\n",
       "      <td>94</td>\n",
       "      <td>...</td>\n",
       "      <td>1.652501</td>\n",
       "      <td>0.097464</td>\n",
       "      <td>0.196189</td>\n",
       "      <td>-0.641543</td>\n",
       "      <td>0.274989</td>\n",
       "      <td>0.153740</td>\n",
       "      <td>6.128601</td>\n",
       "      <td>0.099223</td>\n",
       "      <td>0.484916</td>\n",
       "      <td>11.309932</td>\n",
       "    </tr>\n",
       "    <tr>\n",
       "      <th>4</th>\n",
       "      <td>1849-060319-3</td>\n",
       "      <td>True</td>\n",
       "      <td>1849</td>\n",
       "      <td>NaN</td>\n",
       "      <td>3</td>\n",
       "      <td>NaN</td>\n",
       "      <td>False</td>\n",
       "      <td>baseline ii</td>\n",
       "      <td>1</td>\n",
       "      <td>98</td>\n",
       "      <td>...</td>\n",
       "      <td>1.425851</td>\n",
       "      <td>0.248036</td>\n",
       "      <td>0.461250</td>\n",
       "      <td>-0.085292</td>\n",
       "      <td>0.198676</td>\n",
       "      <td>0.526720</td>\n",
       "      <td>1.602362</td>\n",
       "      <td>0.051825</td>\n",
       "      <td>0.646571</td>\n",
       "      <td>0.000000</td>\n",
       "    </tr>\n",
       "  </tbody>\n",
       "</table>\n",
       "<p>5 rows × 28 columns</p>\n",
       "</div>"
      ],
      "text/plain": [
       "          action  control  entity  frequency  session stim_location  \\\n",
       "0  1849-060319-3     True    1849        NaN        3           NaN   \n",
       "1  1849-060319-3     True    1849        NaN        3           NaN   \n",
       "2  1849-060319-3     True    1849        NaN        3           NaN   \n",
       "3  1849-060319-3     True    1849        NaN        3           NaN   \n",
       "4  1849-060319-3     True    1849        NaN        3           NaN   \n",
       "\n",
       "   stimulated          tag  channel_group  unit_name  ...  \\\n",
       "0       False  baseline ii              1        104  ...   \n",
       "1       False  baseline ii              1        108  ...   \n",
       "2       False  baseline ii              1         85  ...   \n",
       "3       False  baseline ii              1         94  ...   \n",
       "4       False  baseline ii              1         98  ...   \n",
       "\n",
       "   interspike_interval_cv  burst_event_ratio  bursty_spike_ratio  gridness  \\\n",
       "0                3.970863           0.397921            0.676486 -0.459487   \n",
       "1                1.219777           0.146481            0.277121 -0.615405   \n",
       "2                5.470099           0.373466            0.658748 -0.527711   \n",
       "3                1.652501           0.097464            0.196189 -0.641543   \n",
       "4                1.425851           0.248036            0.461250 -0.085292   \n",
       "\n",
       "   border_score  information_rate  head_mean_ang  head_mean_vec_len   spacing  \\\n",
       "0      0.078474          0.965845       5.788704           0.043321  0.624971   \n",
       "1      0.311180          0.191375       1.821598           0.014624  0.753333   \n",
       "2      0.131660          3.833587       4.407614           0.121115  0.542877   \n",
       "3      0.274989          0.153740       6.128601           0.099223  0.484916   \n",
       "4      0.198676          0.526720       1.602362           0.051825  0.646571   \n",
       "\n",
       "   orientation  \n",
       "0    22.067900  \n",
       "1     0.000000  \n",
       "2    27.758541  \n",
       "3    11.309932  \n",
       "4     0.000000  \n",
       "\n",
       "[5 rows x 28 columns]"
      ]
     },
     "execution_count": 5,
     "metadata": {},
     "output_type": "execute_result"
    }
   ],
   "source": [
    "statistics_action = actions['calculate-statistics']\n",
    "identification_action = actions['identify-neurons']\n",
    "sessions = pd.read_csv(identification_action.data_path('sessions'))\n",
    "statistics_results = pd.read_csv(statistics_action.data_path('results'))\n",
    "statistics = pd.merge(sessions, statistics_results, on='action')\n",
    "statistics.head()"
   ]
  },
  {
   "cell_type": "markdown",
   "metadata": {},
   "source": [
    "# slice unique units"
   ]
  },
  {
   "cell_type": "code",
   "execution_count": 6,
   "metadata": {},
   "outputs": [],
   "source": [
    "# statistics = statistics.drop_duplicates('unit_id')\n",
    "# statistics.head()"
   ]
  },
  {
   "cell_type": "code",
   "execution_count": 7,
   "metadata": {},
   "outputs": [
    {
     "name": "stdout",
     "output_type": "stream",
     "text": [
      "N cells: 840\n"
     ]
    }
   ],
   "source": [
    "print('N cells:',statistics.shape[0])"
   ]
  },
  {
   "cell_type": "code",
   "execution_count": 8,
   "metadata": {},
   "outputs": [
    {
     "data": {
      "text/html": [
       "<div>\n",
       "<style scoped>\n",
       "    .dataframe tbody tr th:only-of-type {\n",
       "        vertical-align: middle;\n",
       "    }\n",
       "\n",
       "    .dataframe tbody tr th {\n",
       "        vertical-align: top;\n",
       "    }\n",
       "\n",
       "    .dataframe thead th {\n",
       "        text-align: right;\n",
       "    }\n",
       "</style>\n",
       "<table border=\"1\" class=\"dataframe\">\n",
       "  <thead>\n",
       "    <tr style=\"text-align: right;\">\n",
       "      <th></th>\n",
       "      <th>border_score</th>\n",
       "      <th>gridness</th>\n",
       "      <th>head_mean_ang</th>\n",
       "      <th>head_mean_vec_len</th>\n",
       "      <th>information_rate</th>\n",
       "      <th>speed_score</th>\n",
       "      <th>action</th>\n",
       "      <th>channel</th>\n",
       "      <th>unit</th>\n",
       "    </tr>\n",
       "  </thead>\n",
       "  <tbody>\n",
       "    <tr>\n",
       "      <th>0</th>\n",
       "      <td>0.350476</td>\n",
       "      <td>0.046932</td>\n",
       "      <td>5.989893</td>\n",
       "      <td>0.069916</td>\n",
       "      <td>0.055549</td>\n",
       "      <td>0.075058</td>\n",
       "      <td>1346-030813-01</td>\n",
       "      <td>6</td>\n",
       "      <td>0</td>\n",
       "    </tr>\n",
       "    <tr>\n",
       "      <th>1</th>\n",
       "      <td>0.318905</td>\n",
       "      <td>0.180482</td>\n",
       "      <td>4.898164</td>\n",
       "      <td>0.052385</td>\n",
       "      <td>0.096919</td>\n",
       "      <td>0.005426</td>\n",
       "      <td>1346-030813-01</td>\n",
       "      <td>6</td>\n",
       "      <td>1</td>\n",
       "    </tr>\n",
       "    <tr>\n",
       "      <th>2</th>\n",
       "      <td>0.308449</td>\n",
       "      <td>0.228607</td>\n",
       "      <td>5.937449</td>\n",
       "      <td>0.200862</td>\n",
       "      <td>0.037687</td>\n",
       "      <td>0.018586</td>\n",
       "      <td>1346-030813-01</td>\n",
       "      <td>6</td>\n",
       "      <td>2</td>\n",
       "    </tr>\n",
       "    <tr>\n",
       "      <th>3</th>\n",
       "      <td>0.348864</td>\n",
       "      <td>0.103796</td>\n",
       "      <td>6.144787</td>\n",
       "      <td>0.040004</td>\n",
       "      <td>0.146299</td>\n",
       "      <td>0.111281</td>\n",
       "      <td>1346-050813-01</td>\n",
       "      <td>7</td>\n",
       "      <td>0</td>\n",
       "    </tr>\n",
       "    <tr>\n",
       "      <th>4</th>\n",
       "      <td>0.384443</td>\n",
       "      <td>0.163223</td>\n",
       "      <td>5.995363</td>\n",
       "      <td>0.192211</td>\n",
       "      <td>0.249075</td>\n",
       "      <td>0.107522</td>\n",
       "      <td>1346-130713-01</td>\n",
       "      <td>2</td>\n",
       "      <td>0</td>\n",
       "    </tr>\n",
       "  </tbody>\n",
       "</table>\n",
       "</div>"
      ],
      "text/plain": [
       "   border_score  gridness  head_mean_ang  head_mean_vec_len  information_rate  \\\n",
       "0      0.350476  0.046932       5.989893           0.069916          0.055549   \n",
       "1      0.318905  0.180482       4.898164           0.052385          0.096919   \n",
       "2      0.308449  0.228607       5.937449           0.200862          0.037687   \n",
       "3      0.348864  0.103796       6.144787           0.040004          0.146299   \n",
       "4      0.384443  0.163223       5.995363           0.192211          0.249075   \n",
       "\n",
       "   speed_score          action  channel  unit  \n",
       "0     0.075058  1346-030813-01        6     0  \n",
       "1     0.005426  1346-030813-01        6     1  \n",
       "2     0.018586  1346-030813-01        6     2  \n",
       "3     0.111281  1346-050813-01        7     0  \n",
       "4     0.107522  1346-130713-01        2     0  "
      ]
     },
     "execution_count": 8,
     "metadata": {},
     "output_type": "execute_result"
    }
   ],
   "source": [
    "shuffling = actions['shuffling']\n",
    "quantiles_95 = pd.read_csv(shuffling.data_path('shuffling') / \"statistics\" / \"cell_quantiles_95.csv\")\n",
    "quantiles_95.head()"
   ]
  },
  {
   "cell_type": "code",
   "execution_count": 9,
   "metadata": {},
   "outputs": [
    {
     "data": {
      "text/html": [
       "<div>\n",
       "<style scoped>\n",
       "    .dataframe tbody tr th:only-of-type {\n",
       "        vertical-align: middle;\n",
       "    }\n",
       "\n",
       "    .dataframe tbody tr th {\n",
       "        vertical-align: top;\n",
       "    }\n",
       "\n",
       "    .dataframe thead th {\n",
       "        text-align: right;\n",
       "    }\n",
       "</style>\n",
       "<table border=\"1\" class=\"dataframe\">\n",
       "  <thead>\n",
       "    <tr style=\"text-align: right;\">\n",
       "      <th></th>\n",
       "      <th>action</th>\n",
       "      <th>tag</th>\n",
       "      <th>familiar</th>\n",
       "      <th>i</th>\n",
       "      <th>ii</th>\n",
       "      <th>iii</th>\n",
       "      <th>chabc</th>\n",
       "      <th>pre</th>\n",
       "      <th>day1</th>\n",
       "      <th>day2</th>\n",
       "      <th>...</th>\n",
       "      <th>head_mean_vec_len</th>\n",
       "      <th>spacing</th>\n",
       "      <th>orientation</th>\n",
       "      <th>border_score_threshold</th>\n",
       "      <th>gridness_threshold</th>\n",
       "      <th>head_mean_ang_threshold</th>\n",
       "      <th>head_mean_vec_len_threshold</th>\n",
       "      <th>information_rate_threshold</th>\n",
       "      <th>speed_score_threshold</th>\n",
       "      <th>specificity</th>\n",
       "    </tr>\n",
       "  </thead>\n",
       "  <tbody>\n",
       "    <tr>\n",
       "      <th>0</th>\n",
       "      <td>1346-030813-01</td>\n",
       "      <td>AMK control familiar</td>\n",
       "      <td>True</td>\n",
       "      <td>True</td>\n",
       "      <td>False</td>\n",
       "      <td>False</td>\n",
       "      <td>False</td>\n",
       "      <td>True</td>\n",
       "      <td>False</td>\n",
       "      <td>False</td>\n",
       "      <td>...</td>\n",
       "      <td>0.097494</td>\n",
       "      <td>0.549496</td>\n",
       "      <td>0.000000</td>\n",
       "      <td>0.350476</td>\n",
       "      <td>0.046932</td>\n",
       "      <td>5.989893</td>\n",
       "      <td>0.069916</td>\n",
       "      <td>0.055549</td>\n",
       "      <td>0.075058</td>\n",
       "      <td>0.202142</td>\n",
       "    </tr>\n",
       "    <tr>\n",
       "      <th>1</th>\n",
       "      <td>1346-030813-01</td>\n",
       "      <td>AMK control familiar</td>\n",
       "      <td>True</td>\n",
       "      <td>True</td>\n",
       "      <td>False</td>\n",
       "      <td>False</td>\n",
       "      <td>False</td>\n",
       "      <td>True</td>\n",
       "      <td>False</td>\n",
       "      <td>False</td>\n",
       "      <td>...</td>\n",
       "      <td>0.017567</td>\n",
       "      <td>0.575214</td>\n",
       "      <td>29.248826</td>\n",
       "      <td>0.318905</td>\n",
       "      <td>0.180482</td>\n",
       "      <td>4.898164</td>\n",
       "      <td>0.052385</td>\n",
       "      <td>0.096919</td>\n",
       "      <td>0.005426</td>\n",
       "      <td>0.162962</td>\n",
       "    </tr>\n",
       "    <tr>\n",
       "      <th>2</th>\n",
       "      <td>1346-030813-01</td>\n",
       "      <td>AMK control familiar</td>\n",
       "      <td>True</td>\n",
       "      <td>True</td>\n",
       "      <td>False</td>\n",
       "      <td>False</td>\n",
       "      <td>False</td>\n",
       "      <td>True</td>\n",
       "      <td>False</td>\n",
       "      <td>False</td>\n",
       "      <td>...</td>\n",
       "      <td>0.120361</td>\n",
       "      <td>0.401846</td>\n",
       "      <td>17.818889</td>\n",
       "      <td>0.308449</td>\n",
       "      <td>0.228607</td>\n",
       "      <td>5.937449</td>\n",
       "      <td>0.200862</td>\n",
       "      <td>0.037687</td>\n",
       "      <td>0.018586</td>\n",
       "      <td>0.663900</td>\n",
       "    </tr>\n",
       "    <tr>\n",
       "      <th>3</th>\n",
       "      <td>1346-050813-01</td>\n",
       "      <td>AMK control familiar</td>\n",
       "      <td>True</td>\n",
       "      <td>True</td>\n",
       "      <td>False</td>\n",
       "      <td>False</td>\n",
       "      <td>False</td>\n",
       "      <td>True</td>\n",
       "      <td>False</td>\n",
       "      <td>False</td>\n",
       "      <td>...</td>\n",
       "      <td>0.069026</td>\n",
       "      <td>0.590583</td>\n",
       "      <td>24.145542</td>\n",
       "      <td>0.348864</td>\n",
       "      <td>0.103796</td>\n",
       "      <td>6.144787</td>\n",
       "      <td>0.040004</td>\n",
       "      <td>0.146299</td>\n",
       "      <td>0.111281</td>\n",
       "      <td>0.099337</td>\n",
       "    </tr>\n",
       "    <tr>\n",
       "      <th>4</th>\n",
       "      <td>1346-130713-01</td>\n",
       "      <td>AMK control familiar</td>\n",
       "      <td>True</td>\n",
       "      <td>True</td>\n",
       "      <td>False</td>\n",
       "      <td>False</td>\n",
       "      <td>False</td>\n",
       "      <td>True</td>\n",
       "      <td>False</td>\n",
       "      <td>False</td>\n",
       "      <td>...</td>\n",
       "      <td>0.184529</td>\n",
       "      <td>0.457893</td>\n",
       "      <td>7.125016</td>\n",
       "      <td>0.384443</td>\n",
       "      <td>0.163223</td>\n",
       "      <td>5.995363</td>\n",
       "      <td>0.192211</td>\n",
       "      <td>0.249075</td>\n",
       "      <td>0.107522</td>\n",
       "      <td>0.743949</td>\n",
       "    </tr>\n",
       "  </tbody>\n",
       "</table>\n",
       "<p>5 rows × 43 columns</p>\n",
       "</div>"
      ],
      "text/plain": [
       "           action                   tag  familiar     i     ii    iii  chabc  \\\n",
       "0  1346-030813-01  AMK control familiar      True  True  False  False  False   \n",
       "1  1346-030813-01  AMK control familiar      True  True  False  False  False   \n",
       "2  1346-030813-01  AMK control familiar      True  True  False  False  False   \n",
       "3  1346-050813-01  AMK control familiar      True  True  False  False  False   \n",
       "4  1346-130713-01  AMK control familiar      True  True  False  False  False   \n",
       "\n",
       "    pre   day1   day2  ...  head_mean_vec_len   spacing  orientation  \\\n",
       "0  True  False  False  ...           0.097494  0.549496     0.000000   \n",
       "1  True  False  False  ...           0.017567  0.575214    29.248826   \n",
       "2  True  False  False  ...           0.120361  0.401846    17.818889   \n",
       "3  True  False  False  ...           0.069026  0.590583    24.145542   \n",
       "4  True  False  False  ...           0.184529  0.457893     7.125016   \n",
       "\n",
       "   border_score_threshold  gridness_threshold  head_mean_ang_threshold  \\\n",
       "0                0.350476            0.046932                 5.989893   \n",
       "1                0.318905            0.180482                 4.898164   \n",
       "2                0.308449            0.228607                 5.937449   \n",
       "3                0.348864            0.103796                 6.144787   \n",
       "4                0.384443            0.163223                 5.995363   \n",
       "\n",
       "   head_mean_vec_len_threshold  information_rate_threshold  \\\n",
       "0                     0.069916                    0.055549   \n",
       "1                     0.052385                    0.096919   \n",
       "2                     0.200862                    0.037687   \n",
       "3                     0.040004                    0.146299   \n",
       "4                     0.192211                    0.249075   \n",
       "\n",
       "   speed_score_threshold  specificity  \n",
       "0               0.075058     0.202142  \n",
       "1               0.005426     0.162962  \n",
       "2               0.018586     0.663900  \n",
       "3               0.111281     0.099337  \n",
       "4               0.107522     0.743949  \n",
       "\n",
       "[5 rows x 43 columns]"
      ]
     },
     "execution_count": 9,
     "metadata": {},
     "output_type": "execute_result"
    }
   ],
   "source": [
    "action_columns = ['action', 'channel', 'unit']\n",
    "data = pd.merge(statistics, quantiles_95, on=action_columns, suffixes=(\"\", \"_threshold\"))\n",
    "\n",
    "data['specificity'] = np.log10(data['in_field_mean_rate'] / data['out_field_mean_rate'])\n",
    "\n",
    "data.head()"
   ]
  },
  {
   "cell_type": "markdown",
   "metadata": {},
   "source": [
    "# Statistics about all cell-sessions"
   ]
  },
  {
   "cell_type": "code",
   "execution_count": 10,
   "metadata": {},
   "outputs": [
    {
     "data": {
      "text/plain": [
       "chabc\n",
       "False    373\n",
       "True     467\n",
       "Name: action, dtype: int64"
      ]
     },
     "execution_count": 10,
     "metadata": {},
     "output_type": "execute_result"
    }
   ],
   "source": [
    "data.groupby('chabc').count()['action']"
   ]
  },
  {
   "cell_type": "markdown",
   "metadata": {},
   "source": [
    "# Find all cells with gridness above threshold"
   ]
  },
  {
   "cell_type": "code",
   "execution_count": 11,
   "metadata": {},
   "outputs": [
    {
     "name": "stdout",
     "output_type": "stream",
     "text": [
      "Number of gridcell sessions 152\n"
     ]
    }
   ],
   "source": [
    "query = 'gridness > gridness_threshold and information_rate > information_rate_threshold'\n",
    "sessions_above_threshold = data.query(query)\n",
    "print(\"Number of gridcell sessions\", len(sessions_above_threshold))"
   ]
  },
  {
   "cell_type": "code",
   "execution_count": 12,
   "metadata": {},
   "outputs": [
    {
     "name": "stdout",
     "output_type": "stream",
     "text": [
      "Number of gridcells 99\n",
      "Number of animals 13\n",
      "Number of gridcells in familiar i sessions 147\n",
      "Number of gridcells in familiar i chabc vs control 61 86\n"
     ]
    }
   ],
   "source": [
    "print(\"Number of gridcells\", len(sessions_above_threshold.groupby(['animal', 'channel', 'unit'])))\n",
    "print(\"Number of animals\", len(sessions_above_threshold.groupby(['animal'])))\n",
    "familiar_i = sessions_above_threshold.query('familiar and i')\n",
    "print(\"Number of gridcells in familiar i sessions\", len(familiar_i))\n",
    "print(\"Number of gridcells in familiar i chabc vs control\", len(familiar_i.query('chabc')), len(familiar_i.query('not chabc')))"
   ]
  },
  {
   "cell_type": "markdown",
   "metadata": {},
   "source": [
    "# Calculate statistics"
   ]
  },
  {
   "cell_type": "code",
   "execution_count": 13,
   "metadata": {},
   "outputs": [],
   "source": [
    "columns = ['average_rate', 'gridness',\n",
    "           'max_rate', 'information_rate', 'interspike_interval_cv', \n",
    "           'in_field_mean_rate', 'out_field_mean_rate', \n",
    "           'burst_event_ratio', 'specificity']"
   ]
  },
  {
   "cell_type": "code",
   "execution_count": 14,
   "metadata": {},
   "outputs": [
    {
     "name": "stdout",
     "output_type": "stream",
     "text": [
      "149\n"
     ]
    },
    {
     "data": {
      "text/html": [
       "<div>\n",
       "<style scoped>\n",
       "    .dataframe tbody tr th:only-of-type {\n",
       "        vertical-align: middle;\n",
       "    }\n",
       "\n",
       "    .dataframe tbody tr th {\n",
       "        vertical-align: top;\n",
       "    }\n",
       "\n",
       "    .dataframe thead th {\n",
       "        text-align: right;\n",
       "    }\n",
       "</style>\n",
       "<table border=\"1\" class=\"dataframe\">\n",
       "  <thead>\n",
       "    <tr style=\"text-align: right;\">\n",
       "      <th></th>\n",
       "      <th>average_rate</th>\n",
       "      <th>gridness</th>\n",
       "      <th>max_rate</th>\n",
       "      <th>information_rate</th>\n",
       "      <th>interspike_interval_cv</th>\n",
       "      <th>in_field_mean_rate</th>\n",
       "      <th>out_field_mean_rate</th>\n",
       "      <th>burst_event_ratio</th>\n",
       "      <th>specificity</th>\n",
       "    </tr>\n",
       "    <tr>\n",
       "      <th>chabc</th>\n",
       "      <th></th>\n",
       "      <th></th>\n",
       "      <th></th>\n",
       "      <th></th>\n",
       "      <th></th>\n",
       "      <th></th>\n",
       "      <th></th>\n",
       "      <th></th>\n",
       "      <th></th>\n",
       "    </tr>\n",
       "  </thead>\n",
       "  <tbody>\n",
       "    <tr>\n",
       "      <th>False</th>\n",
       "      <td>1.975043</td>\n",
       "      <td>0.619279</td>\n",
       "      <td>11.291841</td>\n",
       "      <td>0.527476</td>\n",
       "      <td>2.024646</td>\n",
       "      <td>3.798279</td>\n",
       "      <td>1.096465</td>\n",
       "      <td>0.093356</td>\n",
       "      <td>0.573435</td>\n",
       "    </tr>\n",
       "    <tr>\n",
       "      <th>True</th>\n",
       "      <td>1.909061</td>\n",
       "      <td>0.604262</td>\n",
       "      <td>8.331724</td>\n",
       "      <td>0.290853</td>\n",
       "      <td>1.622192</td>\n",
       "      <td>3.118775</td>\n",
       "      <td>1.280178</td>\n",
       "      <td>0.041739</td>\n",
       "      <td>0.451446</td>\n",
       "    </tr>\n",
       "  </tbody>\n",
       "</table>\n",
       "</div>"
      ],
      "text/plain": [
       "       average_rate  gridness   max_rate  information_rate  \\\n",
       "chabc                                                        \n",
       "False      1.975043  0.619279  11.291841          0.527476   \n",
       "True       1.909061  0.604262   8.331724          0.290853   \n",
       "\n",
       "       interspike_interval_cv  in_field_mean_rate  out_field_mean_rate  \\\n",
       "chabc                                                                    \n",
       "False                2.024646            3.798279             1.096465   \n",
       "True                 1.622192            3.118775             1.280178   \n",
       "\n",
       "       burst_event_ratio  specificity  \n",
       "chabc                                  \n",
       "False           0.093356     0.573435  \n",
       "True            0.041739     0.451446  "
      ]
     },
     "execution_count": 14,
     "metadata": {},
     "output_type": "execute_result"
    }
   ],
   "source": [
    "familiar = sessions_above_threshold.query('familiar')\n",
    "familiar.to_csv(output_path / \"gridcells_in_familiar.csv\", index=True)\n",
    "print(len(familiar))\n",
    "familiar.groupby('chabc')[columns].mean()"
   ]
  },
  {
   "cell_type": "code",
   "execution_count": 15,
   "metadata": {},
   "outputs": [
    {
     "data": {
      "text/html": [
       "<div>\n",
       "<style scoped>\n",
       "    .dataframe tbody tr th:only-of-type {\n",
       "        vertical-align: middle;\n",
       "    }\n",
       "\n",
       "    .dataframe tbody tr th {\n",
       "        vertical-align: top;\n",
       "    }\n",
       "\n",
       "    .dataframe thead th {\n",
       "        text-align: right;\n",
       "    }\n",
       "</style>\n",
       "<table border=\"1\" class=\"dataframe\">\n",
       "  <thead>\n",
       "    <tr style=\"text-align: right;\">\n",
       "      <th></th>\n",
       "      <th>average_rate</th>\n",
       "      <th>gridness</th>\n",
       "      <th>max_rate</th>\n",
       "      <th>information_rate</th>\n",
       "      <th>interspike_interval_cv</th>\n",
       "      <th>in_field_mean_rate</th>\n",
       "      <th>out_field_mean_rate</th>\n",
       "      <th>burst_event_ratio</th>\n",
       "      <th>specificity</th>\n",
       "    </tr>\n",
       "  </thead>\n",
       "  <tbody>\n",
       "    <tr>\n",
       "      <th>count</th>\n",
       "      <td>86.000000</td>\n",
       "      <td>86.000000</td>\n",
       "      <td>86.000000</td>\n",
       "      <td>86.000000</td>\n",
       "      <td>86.000000</td>\n",
       "      <td>86.000000</td>\n",
       "      <td>86.000000</td>\n",
       "      <td>86.000000</td>\n",
       "      <td>86.000000</td>\n",
       "    </tr>\n",
       "    <tr>\n",
       "      <th>mean</th>\n",
       "      <td>1.975043</td>\n",
       "      <td>0.619279</td>\n",
       "      <td>11.291841</td>\n",
       "      <td>0.527476</td>\n",
       "      <td>2.024646</td>\n",
       "      <td>3.798279</td>\n",
       "      <td>1.096465</td>\n",
       "      <td>0.093356</td>\n",
       "      <td>0.573435</td>\n",
       "    </tr>\n",
       "    <tr>\n",
       "      <th>std</th>\n",
       "      <td>1.631465</td>\n",
       "      <td>0.279160</td>\n",
       "      <td>7.036430</td>\n",
       "      <td>0.498433</td>\n",
       "      <td>0.565255</td>\n",
       "      <td>2.683254</td>\n",
       "      <td>1.092063</td>\n",
       "      <td>0.073813</td>\n",
       "      <td>0.164642</td>\n",
       "    </tr>\n",
       "    <tr>\n",
       "      <th>min</th>\n",
       "      <td>0.245794</td>\n",
       "      <td>0.088243</td>\n",
       "      <td>1.670813</td>\n",
       "      <td>0.048416</td>\n",
       "      <td>1.052848</td>\n",
       "      <td>0.615108</td>\n",
       "      <td>0.128427</td>\n",
       "      <td>0.005780</td>\n",
       "      <td>0.240397</td>\n",
       "    </tr>\n",
       "    <tr>\n",
       "      <th>25%</th>\n",
       "      <td>1.036994</td>\n",
       "      <td>0.384231</td>\n",
       "      <td>6.033217</td>\n",
       "      <td>0.203035</td>\n",
       "      <td>1.620444</td>\n",
       "      <td>2.016805</td>\n",
       "      <td>0.506159</td>\n",
       "      <td>0.037906</td>\n",
       "      <td>0.464598</td>\n",
       "    </tr>\n",
       "    <tr>\n",
       "      <th>50%</th>\n",
       "      <td>1.533070</td>\n",
       "      <td>0.633878</td>\n",
       "      <td>9.320878</td>\n",
       "      <td>0.363700</td>\n",
       "      <td>1.843574</td>\n",
       "      <td>2.945330</td>\n",
       "      <td>0.851226</td>\n",
       "      <td>0.075827</td>\n",
       "      <td>0.574536</td>\n",
       "    </tr>\n",
       "    <tr>\n",
       "      <th>75%</th>\n",
       "      <td>2.268654</td>\n",
       "      <td>0.860993</td>\n",
       "      <td>15.843196</td>\n",
       "      <td>0.691066</td>\n",
       "      <td>2.347461</td>\n",
       "      <td>4.639685</td>\n",
       "      <td>1.161764</td>\n",
       "      <td>0.132937</td>\n",
       "      <td>0.674205</td>\n",
       "    </tr>\n",
       "    <tr>\n",
       "      <th>max</th>\n",
       "      <td>8.479849</td>\n",
       "      <td>1.135609</td>\n",
       "      <td>31.559843</td>\n",
       "      <td>2.806037</td>\n",
       "      <td>4.009179</td>\n",
       "      <td>13.380700</td>\n",
       "      <td>5.891095</td>\n",
       "      <td>0.412335</td>\n",
       "      <td>0.961474</td>\n",
       "    </tr>\n",
       "  </tbody>\n",
       "</table>\n",
       "</div>"
      ],
      "text/plain": [
       "       average_rate   gridness   max_rate  information_rate  \\\n",
       "count     86.000000  86.000000  86.000000         86.000000   \n",
       "mean       1.975043   0.619279  11.291841          0.527476   \n",
       "std        1.631465   0.279160   7.036430          0.498433   \n",
       "min        0.245794   0.088243   1.670813          0.048416   \n",
       "25%        1.036994   0.384231   6.033217          0.203035   \n",
       "50%        1.533070   0.633878   9.320878          0.363700   \n",
       "75%        2.268654   0.860993  15.843196          0.691066   \n",
       "max        8.479849   1.135609  31.559843          2.806037   \n",
       "\n",
       "       interspike_interval_cv  in_field_mean_rate  out_field_mean_rate  \\\n",
       "count               86.000000           86.000000            86.000000   \n",
       "mean                 2.024646            3.798279             1.096465   \n",
       "std                  0.565255            2.683254             1.092063   \n",
       "min                  1.052848            0.615108             0.128427   \n",
       "25%                  1.620444            2.016805             0.506159   \n",
       "50%                  1.843574            2.945330             0.851226   \n",
       "75%                  2.347461            4.639685             1.161764   \n",
       "max                  4.009179           13.380700             5.891095   \n",
       "\n",
       "       burst_event_ratio  specificity  \n",
       "count          86.000000    86.000000  \n",
       "mean            0.093356     0.573435  \n",
       "std             0.073813     0.164642  \n",
       "min             0.005780     0.240397  \n",
       "25%             0.037906     0.464598  \n",
       "50%             0.075827     0.574536  \n",
       "75%             0.132937     0.674205  \n",
       "max             0.412335     0.961474  "
      ]
     },
     "execution_count": 15,
     "metadata": {},
     "output_type": "execute_result"
    }
   ],
   "source": [
    "familiar.query('not chabc')[columns].describe()"
   ]
  },
  {
   "cell_type": "code",
   "execution_count": 16,
   "metadata": {},
   "outputs": [
    {
     "data": {
      "text/html": [
       "<div>\n",
       "<style scoped>\n",
       "    .dataframe tbody tr th:only-of-type {\n",
       "        vertical-align: middle;\n",
       "    }\n",
       "\n",
       "    .dataframe tbody tr th {\n",
       "        vertical-align: top;\n",
       "    }\n",
       "\n",
       "    .dataframe thead th {\n",
       "        text-align: right;\n",
       "    }\n",
       "</style>\n",
       "<table border=\"1\" class=\"dataframe\">\n",
       "  <thead>\n",
       "    <tr style=\"text-align: right;\">\n",
       "      <th></th>\n",
       "      <th>average_rate</th>\n",
       "      <th>gridness</th>\n",
       "      <th>max_rate</th>\n",
       "      <th>information_rate</th>\n",
       "      <th>interspike_interval_cv</th>\n",
       "      <th>in_field_mean_rate</th>\n",
       "      <th>out_field_mean_rate</th>\n",
       "      <th>burst_event_ratio</th>\n",
       "      <th>specificity</th>\n",
       "    </tr>\n",
       "  </thead>\n",
       "  <tbody>\n",
       "    <tr>\n",
       "      <th>count</th>\n",
       "      <td>63.000000</td>\n",
       "      <td>63.000000</td>\n",
       "      <td>63.000000</td>\n",
       "      <td>63.000000</td>\n",
       "      <td>63.000000</td>\n",
       "      <td>63.000000</td>\n",
       "      <td>63.000000</td>\n",
       "      <td>63.000000</td>\n",
       "      <td>63.000000</td>\n",
       "    </tr>\n",
       "    <tr>\n",
       "      <th>mean</th>\n",
       "      <td>1.909061</td>\n",
       "      <td>0.604262</td>\n",
       "      <td>8.331724</td>\n",
       "      <td>0.290853</td>\n",
       "      <td>1.622192</td>\n",
       "      <td>3.118775</td>\n",
       "      <td>1.280178</td>\n",
       "      <td>0.041739</td>\n",
       "      <td>0.451446</td>\n",
       "    </tr>\n",
       "    <tr>\n",
       "      <th>std</th>\n",
       "      <td>1.377641</td>\n",
       "      <td>0.244313</td>\n",
       "      <td>5.675225</td>\n",
       "      <td>0.273220</td>\n",
       "      <td>0.422667</td>\n",
       "      <td>1.939850</td>\n",
       "      <td>1.172417</td>\n",
       "      <td>0.049640</td>\n",
       "      <td>0.177476</td>\n",
       "    </tr>\n",
       "    <tr>\n",
       "      <th>min</th>\n",
       "      <td>0.254788</td>\n",
       "      <td>0.136885</td>\n",
       "      <td>1.690662</td>\n",
       "      <td>0.043085</td>\n",
       "      <td>1.079223</td>\n",
       "      <td>0.624683</td>\n",
       "      <td>0.080813</td>\n",
       "      <td>0.000000</td>\n",
       "      <td>0.110626</td>\n",
       "    </tr>\n",
       "    <tr>\n",
       "      <th>25%</th>\n",
       "      <td>0.860899</td>\n",
       "      <td>0.390572</td>\n",
       "      <td>4.651358</td>\n",
       "      <td>0.120465</td>\n",
       "      <td>1.299363</td>\n",
       "      <td>1.560754</td>\n",
       "      <td>0.516622</td>\n",
       "      <td>0.009543</td>\n",
       "      <td>0.327504</td>\n",
       "    </tr>\n",
       "    <tr>\n",
       "      <th>50%</th>\n",
       "      <td>1.665746</td>\n",
       "      <td>0.561777</td>\n",
       "      <td>6.929151</td>\n",
       "      <td>0.197723</td>\n",
       "      <td>1.534315</td>\n",
       "      <td>2.847462</td>\n",
       "      <td>0.950270</td>\n",
       "      <td>0.020661</td>\n",
       "      <td>0.445086</td>\n",
       "    </tr>\n",
       "    <tr>\n",
       "      <th>75%</th>\n",
       "      <td>2.343518</td>\n",
       "      <td>0.814328</td>\n",
       "      <td>10.064717</td>\n",
       "      <td>0.381816</td>\n",
       "      <td>1.804559</td>\n",
       "      <td>3.933533</td>\n",
       "      <td>1.613243</td>\n",
       "      <td>0.061049</td>\n",
       "      <td>0.562175</td>\n",
       "    </tr>\n",
       "    <tr>\n",
       "      <th>max</th>\n",
       "      <td>6.491272</td>\n",
       "      <td>1.108716</td>\n",
       "      <td>33.780838</td>\n",
       "      <td>1.844484</td>\n",
       "      <td>3.069920</td>\n",
       "      <td>8.913977</td>\n",
       "      <td>5.608727</td>\n",
       "      <td>0.221226</td>\n",
       "      <td>0.888179</td>\n",
       "    </tr>\n",
       "  </tbody>\n",
       "</table>\n",
       "</div>"
      ],
      "text/plain": [
       "       average_rate   gridness   max_rate  information_rate  \\\n",
       "count     63.000000  63.000000  63.000000         63.000000   \n",
       "mean       1.909061   0.604262   8.331724          0.290853   \n",
       "std        1.377641   0.244313   5.675225          0.273220   \n",
       "min        0.254788   0.136885   1.690662          0.043085   \n",
       "25%        0.860899   0.390572   4.651358          0.120465   \n",
       "50%        1.665746   0.561777   6.929151          0.197723   \n",
       "75%        2.343518   0.814328  10.064717          0.381816   \n",
       "max        6.491272   1.108716  33.780838          1.844484   \n",
       "\n",
       "       interspike_interval_cv  in_field_mean_rate  out_field_mean_rate  \\\n",
       "count               63.000000           63.000000            63.000000   \n",
       "mean                 1.622192            3.118775             1.280178   \n",
       "std                  0.422667            1.939850             1.172417   \n",
       "min                  1.079223            0.624683             0.080813   \n",
       "25%                  1.299363            1.560754             0.516622   \n",
       "50%                  1.534315            2.847462             0.950270   \n",
       "75%                  1.804559            3.933533             1.613243   \n",
       "max                  3.069920            8.913977             5.608727   \n",
       "\n",
       "       burst_event_ratio  specificity  \n",
       "count          63.000000    63.000000  \n",
       "mean            0.041739     0.451446  \n",
       "std             0.049640     0.177476  \n",
       "min             0.000000     0.110626  \n",
       "25%             0.009543     0.327504  \n",
       "50%             0.020661     0.445086  \n",
       "75%             0.061049     0.562175  \n",
       "max             0.221226     0.888179  "
      ]
     },
     "execution_count": 16,
     "metadata": {},
     "output_type": "execute_result"
    }
   ],
   "source": [
    "familiar.query(\"chabc\")[columns].describe()"
   ]
  },
  {
   "cell_type": "markdown",
   "metadata": {},
   "source": [
    "# Create nice table"
   ]
  },
  {
   "cell_type": "code",
   "execution_count": 20,
   "metadata": {},
   "outputs": [
    {
     "data": {
      "text/html": [
       "<div>\n",
       "<style scoped>\n",
       "    .dataframe tbody tr th:only-of-type {\n",
       "        vertical-align: middle;\n",
       "    }\n",
       "\n",
       "    .dataframe tbody tr th {\n",
       "        vertical-align: top;\n",
       "    }\n",
       "\n",
       "    .dataframe thead th {\n",
       "        text-align: right;\n",
       "    }\n",
       "</style>\n",
       "<table border=\"1\" class=\"dataframe\">\n",
       "  <thead>\n",
       "    <tr style=\"text-align: right;\">\n",
       "      <th></th>\n",
       "      <th>Control</th>\n",
       "      <th>chABC</th>\n",
       "      <th>MWU</th>\n",
       "      <th>PRS</th>\n",
       "    </tr>\n",
       "  </thead>\n",
       "  <tbody>\n",
       "    <tr>\n",
       "      <th>Average rate</th>\n",
       "      <td>1.98 ± 0.18 (86)</td>\n",
       "      <td>1.91 ± 0.17 (63)</td>\n",
       "      <td>2695.00, 0.959</td>\n",
       "      <td>0.13, 0.627</td>\n",
       "    </tr>\n",
       "    <tr>\n",
       "      <th>Gridness</th>\n",
       "      <td>0.62 ± 0.03 (86)</td>\n",
       "      <td>0.60 ± 0.03 (63)</td>\n",
       "      <td>2812.00, 0.694</td>\n",
       "      <td>0.07, 0.370</td>\n",
       "    </tr>\n",
       "    <tr>\n",
       "      <th>Max rate</th>\n",
       "      <td>11.29 ± 0.76 (86)</td>\n",
       "      <td>8.33 ± 0.72 (63)</td>\n",
       "      <td>3385.00, 0.009</td>\n",
       "      <td>2.39, 0.011</td>\n",
       "    </tr>\n",
       "    <tr>\n",
       "      <th>Information rate</th>\n",
       "      <td>0.53 ± 0.05 (86)</td>\n",
       "      <td>0.29 ± 0.03 (63)</td>\n",
       "      <td>3688.00, 0.000</td>\n",
       "      <td>0.17, 0.004</td>\n",
       "    </tr>\n",
       "    <tr>\n",
       "      <th>Interspike interval cv</th>\n",
       "      <td>2.02 ± 0.06 (86)</td>\n",
       "      <td>1.62 ± 0.05 (63)</td>\n",
       "      <td>3975.00, 0.000</td>\n",
       "      <td>0.31, 0.000</td>\n",
       "    </tr>\n",
       "    <tr>\n",
       "      <th>In-field mean rate</th>\n",
       "      <td>3.80 ± 0.29 (86)</td>\n",
       "      <td>3.12 ± 0.24 (63)</td>\n",
       "      <td>3059.00, 0.179</td>\n",
       "      <td>0.10, 0.495</td>\n",
       "    </tr>\n",
       "    <tr>\n",
       "      <th>Out-field mean rate</th>\n",
       "      <td>1.10 ± 0.12 (86)</td>\n",
       "      <td>1.28 ± 0.15 (63)</td>\n",
       "      <td>2395.00, 0.228</td>\n",
       "      <td>0.10, 0.200</td>\n",
       "    </tr>\n",
       "    <tr>\n",
       "      <th>Burst event ratio</th>\n",
       "      <td>0.09 ± 0.01 (86)</td>\n",
       "      <td>0.04 ± 0.01 (63)</td>\n",
       "      <td>4148.50, 0.000</td>\n",
       "      <td>0.06, 0.000</td>\n",
       "    </tr>\n",
       "    <tr>\n",
       "      <th>Specificity</th>\n",
       "      <td>0.57 ± 0.02 (86)</td>\n",
       "      <td>0.45 ± 0.02 (63)</td>\n",
       "      <td>3796.00, 0.000</td>\n",
       "      <td>0.13, 0.000</td>\n",
       "    </tr>\n",
       "  </tbody>\n",
       "</table>\n",
       "</div>"
      ],
      "text/plain": [
       "                                  Control             chABC             MWU  \\\n",
       "Average rate             1.98 ± 0.18 (86)  1.91 ± 0.17 (63)  2695.00, 0.959   \n",
       "Gridness                 0.62 ± 0.03 (86)  0.60 ± 0.03 (63)  2812.00, 0.694   \n",
       "Max rate                11.29 ± 0.76 (86)  8.33 ± 0.72 (63)  3385.00, 0.009   \n",
       "Information rate         0.53 ± 0.05 (86)  0.29 ± 0.03 (63)  3688.00, 0.000   \n",
       "Interspike interval cv   2.02 ± 0.06 (86)  1.62 ± 0.05 (63)  3975.00, 0.000   \n",
       "In-field mean rate       3.80 ± 0.29 (86)  3.12 ± 0.24 (63)  3059.00, 0.179   \n",
       "Out-field mean rate      1.10 ± 0.12 (86)  1.28 ± 0.15 (63)  2395.00, 0.228   \n",
       "Burst event ratio        0.09 ± 0.01 (86)  0.04 ± 0.01 (63)  4148.50, 0.000   \n",
       "Specificity              0.57 ± 0.02 (86)  0.45 ± 0.02 (63)  3796.00, 0.000   \n",
       "\n",
       "                                PRS  \n",
       "Average rate            0.13, 0.627  \n",
       "Gridness                0.07, 0.370  \n",
       "Max rate                2.39, 0.011  \n",
       "Information rate        0.17, 0.004  \n",
       "Interspike interval cv  0.31, 0.000  \n",
       "In-field mean rate      0.10, 0.495  \n",
       "Out-field mean rate     0.10, 0.200  \n",
       "Burst event ratio       0.06, 0.000  \n",
       "Specificity             0.13, 0.000  "
      ]
     },
     "execution_count": 20,
     "metadata": {},
     "output_type": "execute_result"
    }
   ],
   "source": [
    "def summarize(data):\n",
    "    return \"{:.2f} ± {:.2f} ({})\".format(data.mean(), data.sem(), sum(~np.isnan(data)))\n",
    "\n",
    "chabc_names = {False: 'Control', \n",
    "               True: 'chABC'}\n",
    "\n",
    "result = pd.DataFrame()\n",
    "\n",
    "result['Control'] = familiar.query('not chabc')[columns].agg(summarize)\n",
    "result['chABC'] = familiar.query('chabc')[columns].agg(summarize)\n",
    "# result = familiar.groupby('chabc', as_index=False)[columns].agg(summarize)\n",
    "# result['chabc'] = result['chabc'].map(chabc_names)\n",
    "# result = result.set_index('chabc')\n",
    "# result.index.name = None\n",
    "# result = result.T\n",
    "\n",
    "# def WRS(column):\n",
    "#     '''\n",
    "#     Wilcoxon Rang Sum\n",
    "#     '''\n",
    "#     Zvalue, pvalue = scipy.stats.ranksums(\n",
    "#         familiar.query('not chabc')[column], familiar.query('chabc')[column])\n",
    "#     if pvalue < 0.0001:\n",
    "#         return \"WRS Z = {:.2f}, p < 0.001\".format(Zvalue)\n",
    "#     return \"WRS Z = {:.2f}, p = {:.3f}\".format(Zvalue, pvalue)\n",
    "\n",
    "\n",
    "def MWU(column):\n",
    "    '''\n",
    "    Mann Whitney U\n",
    "    '''\n",
    "    Uvalue, pvalue = scipy.stats.mannwhitneyu(\n",
    "        familiar.query('not chabc')[column].dropna(), \n",
    "        familiar.query('chabc')[column].dropna(),\n",
    "        alternative='two-sided')\n",
    "\n",
    "    return \"{:.2f}, {:.3f}\".format(Uvalue, pvalue)\n",
    "\n",
    "\n",
    "def PRS(column):\n",
    "    '''\n",
    "    Permutation ReSampling\n",
    "    '''\n",
    "    pvalue, observed_diff, diffs = permutation_resampling(\n",
    "        familiar.query('not chabc')[column].dropna(), \n",
    "        familiar.query('chabc')[column].dropna(), statistic=np.median)\n",
    "\n",
    "    return \"{:.2f}, {:.3f}\".format(observed_diff, pvalue)\n",
    "\n",
    "\n",
    "def rename(name):\n",
    "    return name.replace(\"_field\", \"-field\").replace(\"_\", \" \").capitalize()\n",
    "result.index = map(rename, result.index)\n",
    "\n",
    "result['MWU'] = list(map(MWU, columns))\n",
    "# result['WRS'] = list(map(WRS, columns))\n",
    "result['PRS'] = list(map(PRS, columns))\n",
    "\n",
    "\n",
    "result.to_latex(output_path / \"statistics\" / \"statistics.tex\")\n",
    "result.to_latex(output_path / \"statistics\" / \"statistics.csv\")\n",
    "result"
   ]
  },
  {
   "cell_type": "markdown",
   "metadata": {},
   "source": [
    "# Violinplot"
   ]
  },
  {
   "cell_type": "code",
   "execution_count": 23,
   "metadata": {},
   "outputs": [],
   "source": [
    "def violinplot(control, chabc):\n",
    "    Uvalue, pvalue = scipy.stats.mannwhitneyu(control, chabc, alternative='two-sided')\n",
    "    print(\"U-test\", Uvalue, pvalue)\n",
    "\n",
    "    pos = [0.0, 0.7]\n",
    "\n",
    "    violins = plt.violinplot([control, chabc], pos, showmedians=True, showextrema=False)\n",
    "\n",
    "#     for i, body in enumerate(violins['bodies']):\n",
    "#         body.set_color('C{}'.format(i))\n",
    "#         body.set_linewidth(2)#         body.set_linewidth(2)\n",
    "    violins['bodies'][0].set_color ('#2166ac')\n",
    "    violins['bodies'][1].set_color ('#b2182b')\n",
    "    violins['bodies'][0].set_color ('#053061')\n",
    "    violins['bodies'][1].set_color ('#67001f')\n",
    "    violins['bodies'][0].set_color ('#4393c3')\n",
    "    violins['bodies'][1].set_color ('#d6604d')\n",
    "    violins['bodies'][0].set_alpha (0.8)\n",
    "    violins['bodies'][1].set_alpha (0.8)\n",
    "\n",
    "    # for i, body in enumerate(violins['cbars']):\n",
    "    #     body.set_color('C{}'.format(i))\n",
    "\n",
    "    for category in ['cbars', 'cmins', 'cmaxes', 'cmedians']:\n",
    "        if category in violins:\n",
    "            violins[category].set_color(['k', 'k'])\n",
    "            violins[category].set_linewidth(2.0)\n",
    "\n",
    "    # significance\n",
    "    if pvalue < 0.0001:\n",
    "        significance = \"****\"\n",
    "    elif pvalue < 0.001:\n",
    "        significance = \"***\"\n",
    "    elif pvalue < 0.01:\n",
    "        significance = \"**\"\n",
    "    elif pvalue < 0.05:\n",
    "        significance = \"*\"\n",
    "    else:\n",
    "        significance = \"ns\"\n",
    "\n",
    "    plt.xticks(pos, [\"Control\", \"chABC\"])\n",
    "\n",
    "    x1, x2 = pos\n",
    "    data_max = np.max([control.max(), chabc.max()])\n",
    "    data_min = np.min([control.min(), chabc.min()])\n",
    "    y = data_max * 1.08\n",
    "    h = 0.025 * (data_max - data_min)\n",
    "    plt.plot([x1, x1, x2, x2], [y - h, y, y, y - h], c='k')\n",
    "    plt.text((x1 + x2) / 2, y + h, significance, ha='center', va='bottom')"
   ]
  },
  {
   "cell_type": "markdown",
   "metadata": {},
   "source": [
    "# Information rate"
   ]
  },
  {
   "cell_type": "code",
   "execution_count": 29,
   "metadata": {},
   "outputs": [
    {
     "name": "stdout",
     "output_type": "stream",
     "text": [
      "U-test 3688.0 0.00016992230582916584\n"
     ]
    },
    {
     "data": {
      "image/png": "[encoded data removed]",
      "text/plain": [
       "<Figure size 255x450 with 1 Axes>"
      ]
     },
     "metadata": {
      "needs_background": "light"
     },
     "output_type": "display_data"
    }
   ],
   "source": [
    "control = familiar.query('not chabc and information_rate < 6')['information_rate'].to_numpy()\n",
    "chabc = familiar.query('chabc and information_rate < 6')['information_rate'].to_numpy()\n",
    "\n",
    "plt.figure(figsize=(1.7, 3))\n",
    "violinplot(control, chabc)\n",
    "plt.title(\"Spatial information\")\n",
    "#plt.ylabel(\"(bits/s)\",labelpad=10)\n",
    "plt.ylabel(\"bits/s\")\n",
    "plt.ylim(-0.2, 3.6)\n",
    "#plt.xlim(-0.4, 1.1)\n",
    "#plt.rc('xtick', labelsize=13) \n",
    "#plt.rc('ytick', labelsize=11)\n",
    "plt.rcParams.update({'font.size': 12})\n",
    "\n",
    "plt.savefig(output_path / \"figures\" / \"spatial_information.svg\", bbox_inches=\"tight\")\n",
    "plt.savefig(output_path / \"figures\" / \"spatial_information.png\", dpi=600, bbox_inches=\"tight\")"
   ]
  },
  {
   "cell_type": "code",
   "execution_count": 30,
   "metadata": {},
   "outputs": [
    {
     "name": "stdout",
     "output_type": "stream",
     "text": [
      "U-test 3796.0 2.9800185913914725e-05\n"
     ]
    },
    {
     "data": {
      "image/png": "[encoded data removed]",
      "text/plain": [
       "<Figure size 255x450 with 1 Axes>"
      ]
     },
     "metadata": {
      "needs_background": "light"
     },
     "output_type": "display_data"
    }
   ],
   "source": [
    "control = familiar.query('not chabc')['specificity'].to_numpy()\n",
    "chabc = familiar.query('chabc')['specificity'].to_numpy()\n",
    "\n",
    "plt.figure(figsize=(1.7, 3))\n",
    "violinplot(control, chabc)\n",
    "plt.title(\"Spatial specificity\")\n",
    "#plt.ylabel(\"(bits/s)\",labelpad=10)\n",
    "plt.ylabel(\"\")\n",
    "plt.ylim(-0.02, 1.25)\n",
    "#plt.xlim(-0.4, 1.1)\n",
    "#plt.rc('xtick', labelsize=11) \n",
    "#plt.rc('ytick', labelsize=11)\n",
    "plt.rcParams.update({'font.size': 12})\n",
    "\n",
    "plt.savefig(output_path / \"figures\" / \"specificity.svg\", bbox_inches=\"tight\")\n",
    "plt.savefig(output_path / \"figures\" / \"specificity.png\", dpi=600, bbox_inches=\"tight\")"
   ]
  },
  {
   "cell_type": "code",
   "execution_count": 31,
   "metadata": {
    "scrolled": false
   },
   "outputs": [
    {
     "name": "stdout",
     "output_type": "stream",
     "text": [
      "U-test 2695.0 0.9586281849215867\n"
     ]
    },
    {
     "data": {
      "image/png": "[encoded data removed]",
      "text/plain": [
       "<Figure size 255x450 with 1 Axes>"
      ]
     },
     "metadata": {
      "needs_background": "light"
     },
     "output_type": "display_data"
    }
   ],
   "source": [
    "control = familiar.query('not chabc and average_rate < 10')['average_rate'].to_numpy()\n",
    "chabc = familiar.query('chabc and average_rate < 10')['average_rate'].to_numpy()\n",
    "\n",
    "plt.figure(figsize=(1.7, 3))\n",
    "violinplot(control, chabc)\n",
    "plt.title(\"Average rate\")\n",
    "plt.ylabel(\"spikes/s\")\n",
    "plt.ylim(-0.2, 12)\n",
    "plt.rcParams.update({'font.size': 12})\n",
    "\n",
    "plt.savefig(output_path / \"figures\" / \"average_rate.svg\", bbox_inches=\"tight\")\n",
    "plt.savefig(output_path / \"figures\" / \"average_rate.png\", dpi=600, bbox_inches=\"tight\")"
   ]
  },
  {
   "cell_type": "code",
   "execution_count": 32,
   "metadata": {
    "scrolled": false
   },
   "outputs": [
    {
     "name": "stdout",
     "output_type": "stream",
     "text": [
      "U-test 3385.0 0.009440444055083515\n"
     ]
    },
    {
     "data": {
      "image/png": "[encoded data removed]",
      "text/plain": [
       "<Figure size 255x450 with 1 Axes>"
      ]
     },
     "metadata": {
      "needs_background": "light"
     },
     "output_type": "display_data"
    }
   ],
   "source": [
    "control = familiar.query('not chabc and average_rate < 10')['max_rate'].to_numpy()\n",
    "chabc = familiar.query('chabc and average_rate < 10')['max_rate'].to_numpy()\n",
    "\n",
    "plt.figure(figsize=(1.7, 3))\n",
    "violinplot(control, chabc)\n",
    "plt.title(\"Max rate\")\n",
    "plt.ylabel(\"spikes/s\")\n",
    "plt.ylim(-0.2, 45)\n",
    "plt.rcParams.update({'font.size': 12})\n",
    "\n",
    "plt.savefig(output_path / \"figures\" / \"max_rate.svg\", bbox_inches=\"tight\")\n",
    "plt.savefig(output_path / \"figures\" / \"max_rate.png\", dpi=600, bbox_inches=\"tight\")"
   ]
  },
  {
   "cell_type": "code",
   "execution_count": 33,
   "metadata": {},
   "outputs": [
    {
     "name": "stdout",
     "output_type": "stream",
     "text": [
      "U-test 3975.0 1.1572868879606917e-06\n"
     ]
    },
    {
     "data": {
      "image/png": "[encoded data removed]",
      "text/plain": [
       "<Figure size 255x450 with 1 Axes>"
      ]
     },
     "metadata": {
      "needs_background": "light"
     },
     "output_type": "display_data"
    }
   ],
   "source": [
    "control = familiar.query('not chabc and interspike_interval_cv < 5')['interspike_interval_cv'].to_numpy()\n",
    "chabc = familiar.query('chabc and interspike_interval_cv < 5')['interspike_interval_cv'].to_numpy()\n",
    "\n",
    "plt.figure(figsize=(1.7, 3))\n",
    "violinplot(control, chabc)\n",
    "plt.title(\"ISI CV\")\n",
    "plt.ylabel(\"Coefficient of variation\")\n",
    "plt.ylim(0.9, 5)\n",
    "plt.rcParams.update({'font.size': 12})\n",
    "\n",
    "plt.savefig(output_path / \"figures\" / \"isi_cv.svg\", bbox_inches=\"tight\")\n",
    "plt.savefig(output_path / \"figures\" / \"isi_cv.png\", dpi=600, bbox_inches=\"tight\")"
   ]
  },
  {
   "cell_type": "code",
   "execution_count": 34,
   "metadata": {},
   "outputs": [
    {
     "name": "stdout",
     "output_type": "stream",
     "text": [
      "U-test 3059.0 0.17927531771510485\n"
     ]
    },
    {
     "data": {
      "image/png": "[encoded data removed]",
      "text/plain": [
       "<Figure size 255x450 with 1 Axes>"
      ]
     },
     "metadata": {
      "needs_background": "light"
     },
     "output_type": "display_data"
    }
   ],
   "source": [
    "control = familiar.query('not chabc and in_field_mean_rate < 20')['in_field_mean_rate'].to_numpy()\n",
    "chabc = familiar.query('chabc and in_field_mean_rate < 20')['in_field_mean_rate'].to_numpy()\n",
    "\n",
    "plt.figure(figsize=(1.7, 3))\n",
    "violinplot(control, chabc)\n",
    "plt.title(\"In-field rate\")\n",
    "plt.ylabel(\"spikes/s\")\n",
    "plt.ylim(-0.1, 18)\n",
    "plt.rcParams.update({'font.size': 12})\n",
    "\n",
    "plt.savefig(output_path / \"figures\" / \"in_field_mean_rate.svg\", bbox_inches=\"tight\")\n",
    "plt.savefig(output_path / \"figures\" / \"in_field_mean_rate.png\", dpi=600, bbox_inches=\"tight\")"
   ]
  },
  {
   "cell_type": "code",
   "execution_count": 35,
   "metadata": {},
   "outputs": [
    {
     "name": "stdout",
     "output_type": "stream",
     "text": [
      "U-test 2395.0 0.2283361389939801\n"
     ]
    },
    {
     "data": {
      "image/png": "[encoded data removed]",
      "text/plain": [
       "<Figure size 255x450 with 1 Axes>"
      ]
     },
     "metadata": {
      "needs_background": "light"
     },
     "output_type": "display_data"
    }
   ],
   "source": [
    "control = familiar.query('not chabc and average_rate < 10')['out_field_mean_rate'].to_numpy()\n",
    "chabc = familiar.query('chabc and average_rate < 10')['out_field_mean_rate'].to_numpy()\n",
    "\n",
    "plt.figure(figsize=(1.7, 3))\n",
    "violinplot(control, chabc)\n",
    "plt.title(\"Out-of-field rate\")\n",
    "plt.ylabel(\"spikes/s\")\n",
    "plt.ylim(-0.2, 8)\n",
    "plt.rcParams.update({'font.size': 12})\n",
    "\n",
    "plt.savefig(output_path / \"figures\" / \"out_field_mean_rate.svg\", bbox_inches=\"tight\")\n",
    "plt.savefig(output_path / \"figures\" / \"out_field_mean_rate.png\", dpi=600, bbox_inches=\"tight\")"
   ]
  },
  {
   "cell_type": "code",
   "execution_count": 38,
   "metadata": {},
   "outputs": [
    {
     "name": "stdout",
     "output_type": "stream",
     "text": [
      "U-test 4148.5 3.211257233354626e-08\n"
     ]
    },
    {
     "data": {
      "image/png": "[encoded data removed]",
      "text/plain": [
       "<Figure size 255x450 with 1 Axes>"
      ]
     },
     "metadata": {
      "needs_background": "light"
     },
     "output_type": "display_data"
    }
   ],
   "source": [
    "control = familiar.query('not chabc')['burst_event_ratio'].to_numpy()\n",
    "chabc = familiar.query('chabc')['burst_event_ratio'].to_numpy()\n",
    "\n",
    "plt.figure(figsize=(1.7, 3))\n",
    "violinplot(control, chabc)\n",
    "plt.title(\"Bursting ratio\")\n",
    "plt.ylabel(\"\")\n",
    "plt.ylim(-0.02, 0.60)\n",
    "plt.rcParams.update({'font.size': 12})\n",
    "\n",
    "plt.savefig(output_path / \"figures\" / \"burst_event_ratio.svg\", bbox_inches=\"tight\")\n",
    "plt.savefig(output_path / \"figures\" / \"burst_event_ratio.png\", dpi=600, bbox_inches=\"tight\")"
   ]
  },
  {
   "cell_type": "code",
   "execution_count": 39,
   "metadata": {},
   "outputs": [
    {
     "name": "stdout",
     "output_type": "stream",
     "text": [
      "U-test 3173.0 0.07490487246150968\n"
     ]
    },
    {
     "data": {
      "image/png": "[encoded data removed]",
      "text/plain": [
       "<Figure size 255x450 with 1 Axes>"
      ]
     },
     "metadata": {
      "needs_background": "light"
     },
     "output_type": "display_data"
    }
   ],
   "source": [
    "control = familiar.query('not chabc and average_rate < 10')['max_field_mean_rate'].to_numpy()\n",
    "chabc = familiar.query('chabc and average_rate < 10')['max_field_mean_rate'].to_numpy()\n",
    "\n",
    "plt.figure(figsize=(1.7, 3))\n",
    "violinplot(control, chabc)\n",
    "plt.title(\"Mean rate of max field\")\n",
    "plt.ylabel(\"(spikes/s)\")\n",
    "plt.ylim(-0.5,25)\n",
    "plt.rcParams.update({'font.size': 12})\n",
    "\n",
    "plt.savefig(output_path / \"figures\" / \"max_field_mean_rate.svg\", bbox_inches=\"tight\")\n",
    "plt.savefig(output_path / \"figures\" / \"max_field_mean_rate.png\", dpi=600, bbox_inches=\"tight\")"
   ]
  },
  {
   "cell_type": "code",
   "execution_count": 40,
   "metadata": {},
   "outputs": [
    {
     "name": "stdout",
     "output_type": "stream",
     "text": [
      "U-test 4142.0 3.7015760343321924e-08\n"
     ]
    },
    {
     "data": {
      "image/png": "[encoded data removed]",
      "text/plain": [
       "<Figure size 255x450 with 1 Axes>"
      ]
     },
     "metadata": {
      "needs_background": "light"
     },
     "output_type": "display_data"
    }
   ],
   "source": [
    "control = familiar.query('not chabc')['bursty_spike_ratio'].to_numpy()\n",
    "chabc = familiar.query('chabc')['bursty_spike_ratio'].to_numpy()\n",
    "\n",
    "plt.figure(figsize=(1.7, 3))\n",
    "violinplot(control, chabc)\n",
    "plt.title(\"ratio of spikes per burst\")\n",
    "plt.ylabel(\"\")\n",
    "plt.ylim(-0.03,0.9)\n",
    "plt.rcParams.update({'font.size': 12})\n",
    "\n",
    "plt.savefig(output_path / \"figures\" / \"bursty_spike_ratio.svg\", bbox_inches=\"tight\")\n",
    "plt.savefig(output_path / \"figures\" / \"bursty_spike_ratio.png\", dpi=600, bbox_inches=\"tight\")"
   ]
  },
  {
   "cell_type": "code",
   "execution_count": 41,
   "metadata": {},
   "outputs": [
    {
     "name": "stdout",
     "output_type": "stream",
     "text": [
      "U-test 2812.0 0.6936793937070505\n"
     ]
    },
    {
     "data": {
      "image/png": "[encoded data removed]",
      "text/plain": [
       "<Figure size 255x450 with 1 Axes>"
      ]
     },
     "metadata": {
      "needs_background": "light"
     },
     "output_type": "display_data"
    }
   ],
   "source": [
    "control = familiar.query('not chabc and average_rate < 10')['gridness'].to_numpy()\n",
    "chabc = familiar.query('chabc and average_rate < 10')['gridness'].to_numpy()\n",
    "\n",
    "plt.figure(figsize=(1.7, 3))\n",
    "violinplot(control, chabc)\n",
    "plt.title(\"Gridness\")\n",
    "plt.ylabel(\"Gridness\")\n",
    "plt.ylim(-0.005, 1.5)\n",
    "plt.rcParams.update({'font.size': 12})\n",
    "\n",
    "plt.savefig(output_path / \"figures\" / \"gridness.svg\", bbox_inches=\"tight\")\n",
    "plt.savefig(output_path / \"figures\" / \"gridness.png\", dpi=600, bbox_inches=\"tight\")"
   ]
  },
  {
   "cell_type": "code",
   "execution_count": 42,
   "metadata": {},
   "outputs": [
    {
     "name": "stdout",
     "output_type": "stream",
     "text": [
      "U-test 3307.0 0.021678445114939115\n"
     ]
    },
    {
     "data": {
      "image/png": "[encoded data removed]",
      "text/plain": [
       "<Figure size 255x450 with 1 Axes>"
      ]
     },
     "metadata": {
      "needs_background": "light"
     },
     "output_type": "display_data"
    }
   ],
   "source": [
    "control = familiar.query('not chabc')['speed_score'].to_numpy()\n",
    "chabc = familiar.query('chabc')['speed_score'].to_numpy()\n",
    "\n",
    "plt.figure(figsize=(1.7, 3))\n",
    "violinplot(control, chabc)\n",
    "plt.title(\"Speed score\")\n",
    "plt.ylabel(\"Speed score\")\n",
    "plt.ylim(-0.1, 0.5)\n",
    "plt.rcParams.update({'font.size': 12})\n",
    "\n",
    "plt.savefig(output_path / \"figures\" / \"speed_score.svg\", bbox_inches=\"tight\")\n",
    "plt.savefig(output_path / \"figures\" / \"speed_score.png\", dpi=600, bbox_inches=\"tight\")"
   ]
  },
  {
   "cell_type": "markdown",
   "metadata": {},
   "source": [
    "# Register in Expipe"
   ]
  },
  {
   "cell_type": "code",
   "execution_count": 60,
   "metadata": {},
   "outputs": [],
   "source": [
    "action = project.require_action(\"familiar_comparisons\")"
   ]
  },
  {
   "cell_type": "code",
   "execution_count": 63,
   "metadata": {},
   "outputs": [],
   "source": [
    "outdata = {\n",
    "    \"figures\": \"figures\",\n",
    "    \"statistics\": \"statistics\"\n",
    "}\n",
    "\n",
    "for key, value in outdata.items():\n",
    "    action.data[key] = value\n",
    "    data_path = action.data_path(key)\n",
    "    data_path.parent.mkdir(exist_ok=True, parents=True)\n",
    "    source = output_path / value\n",
    "    if source.is_file():\n",
    "        shutil.copy(source, data_path)\n",
    "    else:\n",
    "        shutil.copytree(source, data_path)"
   ]
  },
  {
   "cell_type": "code",
   "execution_count": 67,
   "metadata": {},
   "outputs": [],
   "source": [
    "pnnmec.registration.store_notebook(action, \"20_spatial_correlation.ipynb\")"
   ]
  },
  {
   "cell_type": "code",
   "execution_count": 69,
   "metadata": {},
   "outputs": [],
   "source": [
    "action.modules[\"code_version\"] = vc.create_code_version_module()\n",
    "action.modules[\"data_version\"] = vc.create_data_version_module(project_path)"
   ]
  },
  {
   "cell_type": "code",
   "execution_count": null,
   "metadata": {},
   "outputs": [],
   "source": []
  }
 ],
 "metadata": {
  "kernelspec": {
   "display_name": "Python 3",
   "language": "python",
   "name": "python3"
  },
  "language_info": {
   "codemirror_mode": {
    "name": "ipython",
    "version": 3
   },
   "file_extension": ".py",
   "mimetype": "text/x-python",
   "name": "python",
   "nbconvert_exporter": "python",
   "pygments_lexer": "ipython3",
   "version": "3.6.8"
  }
 },
 "nbformat": 4,
 "nbformat_minor": 2
}
