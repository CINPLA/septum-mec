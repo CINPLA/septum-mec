{
 "cells": [
  {
   "cell_type": "code",
   "execution_count": 1,
   "metadata": {},
   "outputs": [],
   "source": [
    "%load_ext autoreload\n",
    "%autoreload 2"
   ]
  },
  {
   "cell_type": "code",
   "execution_count": 2,
   "metadata": {},
   "outputs": [
    {
     "name": "stderr",
     "output_type": "stream",
     "text": [
      "08:31:25 [I] klustakwik KlustaKwik2 version 0.2.6\n"
     ]
    }
   ],
   "source": [
    "import os\n",
    "import expipe\n",
    "import pathlib\n",
    "import numpy as np\n",
    "import spatial_maps.stats as stats\n",
    "import septum_mec\n",
    "import septum_mec.analysis.data_processing as dp\n",
    "import septum_mec.analysis.registration\n",
    "import head_direction.head as head\n",
    "import spatial_maps as sp\n",
    "import speed_cells.speed as spd\n",
    "import re\n",
    "import joblib\n",
    "import multiprocessing\n",
    "import shutil\n",
    "import psutil\n",
    "import pandas as pd\n",
    "import matplotlib.pyplot as plt\n",
    "from distutils.dir_util import copy_tree\n",
    "from neo import SpikeTrain\n",
    "import scipy\n",
    "\n",
    "from tqdm.notebook import tqdm_notebook as tqdm\n",
    "tqdm.pandas()\n",
    "\n",
    "from spike_statistics.core import permutation_resampling\n",
    "\n",
    "from spikewaveform.core import calculate_waveform_features_from_template, cluster_waveform_features\n",
    "\n",
    "from septum_mec.analysis.plotting import violinplot"
   ]
  },
  {
   "cell_type": "code",
   "execution_count": 3,
   "metadata": {},
   "outputs": [],
   "source": [
    "%matplotlib inline\n",
    "color_control = '#4393c3'\n",
    "color_stimulated = '#d6604d'\n",
    "\n",
    "color_bs = '#5aae61'\n",
    "color_ns = '#9970ab'\n",
    "\n",
    "figsize_violin = (1.7, 3)\n",
    "figsize_gen = (4, 3)\n",
    "\n",
    "output_path = pathlib.Path(\"output\") / \"waveform-analysis\"\n",
    "(output_path / \"statistics\").mkdir(exist_ok=True, parents=True)\n",
    "(output_path / \"figures\").mkdir(exist_ok=True, parents=True)\n",
    "output_path.mkdir(exist_ok=True)"
   ]
  },
  {
   "cell_type": "code",
   "execution_count": 4,
   "metadata": {},
   "outputs": [],
   "source": [
    "data_loader = dp.Data()\n",
    "actions = data_loader.actions\n",
    "project = data_loader.project"
   ]
  },
  {
   "cell_type": "code",
   "execution_count": 5,
   "metadata": {},
   "outputs": [
    {
     "name": "stdout",
     "output_type": "stream",
     "text": [
      "N cells: 1284\n"
     ]
    }
   ],
   "source": [
    "identify_neurons = actions['identify-neurons']\n",
    "sessions = pd.read_csv(identify_neurons.data_path('sessions'))\n",
    "units = pd.read_csv(identify_neurons.data_path('units'))\n",
    "session_units = pd.merge(sessions, units, on='action')\n",
    "#########################3\n",
    "# session_units = session_units.drop_duplicates('unit_id')\n",
    "#################################\n",
    "print('N cells:',session_units.shape[0])"
   ]
  },
  {
   "cell_type": "code",
   "execution_count": 6,
   "metadata": {},
   "outputs": [
    {
     "data": {
      "text/html": [
       "<div>\n",
       "<style scoped>\n",
       "    .dataframe tbody tr th:only-of-type {\n",
       "        vertical-align: middle;\n",
       "    }\n",
       "\n",
       "    .dataframe tbody tr th {\n",
       "        vertical-align: top;\n",
       "    }\n",
       "\n",
       "    .dataframe thead th {\n",
       "        text-align: right;\n",
       "    }\n",
       "</style>\n",
       "<table border=\"1\" class=\"dataframe\">\n",
       "  <thead>\n",
       "    <tr style=\"text-align: right;\">\n",
       "      <th></th>\n",
       "      <th>action</th>\n",
       "      <th>baseline</th>\n",
       "      <th>entity</th>\n",
       "      <th>frequency</th>\n",
       "      <th>i</th>\n",
       "      <th>ii</th>\n",
       "      <th>session</th>\n",
       "      <th>stim_location</th>\n",
       "      <th>stimulated</th>\n",
       "      <th>tag</th>\n",
       "      <th>date</th>\n",
       "      <th>entity_date</th>\n",
       "      <th>Hz11</th>\n",
       "      <th>Hz30</th>\n",
       "      <th>channel_group</th>\n",
       "      <th>max_depth_delta</th>\n",
       "      <th>max_dissimilarity</th>\n",
       "      <th>unit_id</th>\n",
       "      <th>unit_idnum</th>\n",
       "      <th>unit_name</th>\n",
       "    </tr>\n",
       "  </thead>\n",
       "  <tbody>\n",
       "    <tr>\n",
       "      <th>0</th>\n",
       "      <td>1849-060319-3</td>\n",
       "      <td>True</td>\n",
       "      <td>1849</td>\n",
       "      <td>NaN</td>\n",
       "      <td>False</td>\n",
       "      <td>True</td>\n",
       "      <td>3</td>\n",
       "      <td>NaN</td>\n",
       "      <td>False</td>\n",
       "      <td>baseline ii</td>\n",
       "      <td>60319</td>\n",
       "      <td>1849-060319</td>\n",
       "      <td>False</td>\n",
       "      <td>True</td>\n",
       "      <td>1</td>\n",
       "      <td>100</td>\n",
       "      <td>0.05</td>\n",
       "      <td>f129d848-ebee-4555-965f-420e402eb820</td>\n",
       "      <td>703</td>\n",
       "      <td>104</td>\n",
       "    </tr>\n",
       "    <tr>\n",
       "      <th>1</th>\n",
       "      <td>1849-060319-3</td>\n",
       "      <td>True</td>\n",
       "      <td>1849</td>\n",
       "      <td>NaN</td>\n",
       "      <td>False</td>\n",
       "      <td>True</td>\n",
       "      <td>3</td>\n",
       "      <td>NaN</td>\n",
       "      <td>False</td>\n",
       "      <td>baseline ii</td>\n",
       "      <td>60319</td>\n",
       "      <td>1849-060319</td>\n",
       "      <td>False</td>\n",
       "      <td>True</td>\n",
       "      <td>1</td>\n",
       "      <td>100</td>\n",
       "      <td>0.05</td>\n",
       "      <td>b50f3878-32aa-40e9-8753-9f401ef32a23</td>\n",
       "      <td>704</td>\n",
       "      <td>108</td>\n",
       "    </tr>\n",
       "    <tr>\n",
       "      <th>2</th>\n",
       "      <td>1849-060319-3</td>\n",
       "      <td>True</td>\n",
       "      <td>1849</td>\n",
       "      <td>NaN</td>\n",
       "      <td>False</td>\n",
       "      <td>True</td>\n",
       "      <td>3</td>\n",
       "      <td>NaN</td>\n",
       "      <td>False</td>\n",
       "      <td>baseline ii</td>\n",
       "      <td>60319</td>\n",
       "      <td>1849-060319</td>\n",
       "      <td>False</td>\n",
       "      <td>True</td>\n",
       "      <td>1</td>\n",
       "      <td>100</td>\n",
       "      <td>0.05</td>\n",
       "      <td>b1626e1a-0469-4ee0-a812-88ee18accd39</td>\n",
       "      <td>705</td>\n",
       "      <td>85</td>\n",
       "    </tr>\n",
       "    <tr>\n",
       "      <th>3</th>\n",
       "      <td>1849-060319-3</td>\n",
       "      <td>True</td>\n",
       "      <td>1849</td>\n",
       "      <td>NaN</td>\n",
       "      <td>False</td>\n",
       "      <td>True</td>\n",
       "      <td>3</td>\n",
       "      <td>NaN</td>\n",
       "      <td>False</td>\n",
       "      <td>baseline ii</td>\n",
       "      <td>60319</td>\n",
       "      <td>1849-060319</td>\n",
       "      <td>False</td>\n",
       "      <td>True</td>\n",
       "      <td>1</td>\n",
       "      <td>100</td>\n",
       "      <td>0.05</td>\n",
       "      <td>feb62d54-f173-4a3c-939c-8c1465e71b0f</td>\n",
       "      <td>706</td>\n",
       "      <td>94</td>\n",
       "    </tr>\n",
       "    <tr>\n",
       "      <th>4</th>\n",
       "      <td>1849-060319-3</td>\n",
       "      <td>True</td>\n",
       "      <td>1849</td>\n",
       "      <td>NaN</td>\n",
       "      <td>False</td>\n",
       "      <td>True</td>\n",
       "      <td>3</td>\n",
       "      <td>NaN</td>\n",
       "      <td>False</td>\n",
       "      <td>baseline ii</td>\n",
       "      <td>60319</td>\n",
       "      <td>1849-060319</td>\n",
       "      <td>False</td>\n",
       "      <td>True</td>\n",
       "      <td>1</td>\n",
       "      <td>100</td>\n",
       "      <td>0.05</td>\n",
       "      <td>3498a09b-b943-4917-866a-8910dbcfd0cd</td>\n",
       "      <td>707</td>\n",
       "      <td>98</td>\n",
       "    </tr>\n",
       "  </tbody>\n",
       "</table>\n",
       "</div>"
      ],
      "text/plain": [
       "          action  baseline  entity  frequency      i    ii  session  \\\n",
       "0  1849-060319-3      True    1849        NaN  False  True        3   \n",
       "1  1849-060319-3      True    1849        NaN  False  True        3   \n",
       "2  1849-060319-3      True    1849        NaN  False  True        3   \n",
       "3  1849-060319-3      True    1849        NaN  False  True        3   \n",
       "4  1849-060319-3      True    1849        NaN  False  True        3   \n",
       "\n",
       "  stim_location  stimulated          tag   date  entity_date   Hz11  Hz30  \\\n",
       "0           NaN       False  baseline ii  60319  1849-060319  False  True   \n",
       "1           NaN       False  baseline ii  60319  1849-060319  False  True   \n",
       "2           NaN       False  baseline ii  60319  1849-060319  False  True   \n",
       "3           NaN       False  baseline ii  60319  1849-060319  False  True   \n",
       "4           NaN       False  baseline ii  60319  1849-060319  False  True   \n",
       "\n",
       "   channel_group  max_depth_delta  max_dissimilarity  \\\n",
       "0              1              100               0.05   \n",
       "1              1              100               0.05   \n",
       "2              1              100               0.05   \n",
       "3              1              100               0.05   \n",
       "4              1              100               0.05   \n",
       "\n",
       "                                unit_id  unit_idnum  unit_name  \n",
       "0  f129d848-ebee-4555-965f-420e402eb820         703        104  \n",
       "1  b50f3878-32aa-40e9-8753-9f401ef32a23         704        108  \n",
       "2  b1626e1a-0469-4ee0-a812-88ee18accd39         705         85  \n",
       "3  feb62d54-f173-4a3c-939c-8c1465e71b0f         706         94  \n",
       "4  3498a09b-b943-4917-866a-8910dbcfd0cd         707         98  "
      ]
     },
     "execution_count": 6,
     "metadata": {},
     "output_type": "execute_result"
    }
   ],
   "source": [
    "session_units.head()"
   ]
  },
  {
   "cell_type": "code",
   "execution_count": 7,
   "metadata": {},
   "outputs": [
    {
     "data": {
      "text/plain": [
       "action\n",
       "1833-010719-2    33\n",
       "1833-010719-1    29\n",
       "1833-290519-1    28\n",
       "1833-020719-3    27\n",
       "1849-280219-1    26\n",
       "                 ..\n",
       "1849-110319-3     4\n",
       "1839-060619-4     4\n",
       "1839-060619-3     4\n",
       "1839-120619-1     3\n",
       "1839-060619-1     2\n",
       "Name: unit_name, Length: 87, dtype: int64"
      ]
     },
     "execution_count": 7,
     "metadata": {},
     "output_type": "execute_result"
    }
   ],
   "source": [
    "# session_units.groupby('action').count().unit_name.hist()\n",
    "session_units.groupby('action').count().sort_values('unit_name', ascending=False).unit_name"
   ]
  },
  {
   "cell_type": "markdown",
   "metadata": {},
   "source": [
    "# Process all data"
   ]
  },
  {
   "cell_type": "code",
   "execution_count": 8,
   "metadata": {},
   "outputs": [],
   "source": [
    "def features(row):\n",
    "    action_id = row['action']\n",
    "    channel_id = row['channel_group']\n",
    "    unit = row['unit_name']\n",
    "    template = data_loader.template(action_id, channel_id, unit)\n",
    "    spike_times = data_loader.spike_train(action_id, channel_id, unit)\n",
    "    half_widths, peak_to_troughs = calculate_waveform_features_from_template(\n",
    "        template.data, template.sampling_rate)\n",
    "    peak_amps = template.data.min(axis=1)\n",
    "    half_widths = half_widths * 1000 # to ms\n",
    "    peak_to_troughs = peak_to_troughs * 1000 # to ms\n",
    "    idxs = np.argsort(peak_amps)\n",
    "    peak_to_trough = np.nan\n",
    "    for p2t in peak_to_troughs[idxs]:\n",
    "        if np.isfinite(p2t) and p2t > .1:\n",
    "            peak_to_trough = p2t\n",
    "            break\n",
    "    half_width = np.nan\n",
    "    for hw in half_widths[idxs]:\n",
    "        if np.isfinite(hw):\n",
    "            half_width = hw\n",
    "            break\n",
    "    \n",
    "    return pd.Series({\n",
    "        'half_width': half_width,\n",
    "        'peak_to_trough': peak_to_trough,\n",
    "        'average_firing_rate': float(len(spike_times) / spike_times.t_stop),\n",
    "        'template': template.data[idxs[0]]\n",
    "    })"
   ]
  },
  {
   "cell_type": "code",
   "execution_count": 9,
   "metadata": {},
   "outputs": [
    {
     "data": {
      "application/vnd.jupyter.widget-view+json": {
       "model_id": "39294999a86e4f8ea477c5180a80e8c6",
       "version_major": 2,
       "version_minor": 0
      },
      "text/plain": [
       "HBox(children=(IntProgress(value=0, max=1284), HTML(value='')))"
      ]
     },
     "metadata": {},
     "output_type": "display_data"
    },
    {
     "name": "stdout",
     "output_type": "stream",
     "text": [
      "\n"
     ]
    }
   ],
   "source": [
    "results = session_units.merge(\n",
    "    session_units.progress_apply(features, axis=1), \n",
    "    left_index=True, right_index=True)"
   ]
  },
  {
   "cell_type": "code",
   "execution_count": null,
   "metadata": {},
   "outputs": [
    {
     "name": "stdout",
     "output_type": "stream",
     "text": [
      "> \u001b[0;32m/home/mikkel/apps/expipe-project/septum-mec/septum_mec/analysis/data_processing.py\u001b[0m(619)\u001b[0;36mtemplate\u001b[0;34m()\u001b[0m\n",
      "\u001b[0;32m    617 \u001b[0;31m                    lim=lim)\n",
      "\u001b[0m\u001b[0;32m    618 \u001b[0;31m            }\n",
      "\u001b[0m\u001b[0;32m--> 619 \u001b[0;31m        \u001b[0;32mreturn\u001b[0m \u001b[0mself\u001b[0m\u001b[0;34m.\u001b[0m\u001b[0m_templates\u001b[0m\u001b[0;34m[\u001b[0m\u001b[0maction_id\u001b[0m\u001b[0;34m]\u001b[0m\u001b[0;34m[\u001b[0m\u001b[0mchannel_group\u001b[0m\u001b[0;34m]\u001b[0m\u001b[0;34m[\u001b[0m\u001b[0munit_id\u001b[0m\u001b[0;34m]\u001b[0m\u001b[0;34m\u001b[0m\u001b[0;34m\u001b[0m\u001b[0m\n",
      "\u001b[0m\u001b[0;32m    620 \u001b[0;31m\u001b[0;34m\u001b[0m\u001b[0m\n",
      "\u001b[0m\u001b[0;32m    621 \u001b[0;31m    \u001b[0;32mdef\u001b[0m \u001b[0mspike_train\u001b[0m\u001b[0;34m(\u001b[0m\u001b[0mself\u001b[0m\u001b[0;34m,\u001b[0m \u001b[0maction_id\u001b[0m\u001b[0;34m,\u001b[0m \u001b[0mchannel_group\u001b[0m\u001b[0;34m,\u001b[0m \u001b[0munit_id\u001b[0m\u001b[0;34m)\u001b[0m\u001b[0;34m:\u001b[0m\u001b[0;34m\u001b[0m\u001b[0;34m\u001b[0m\u001b[0m\n",
      "\u001b[0m\n",
      "ipdb> action_id\n",
      "'1834-010319-3'\n",
      "ipdb> channel_group\n",
      "0\n",
      "ipdb> unit_id\n",
      "72\n"
     ]
    }
   ],
   "source": [
    "%debug"
   ]
  },
  {
   "cell_type": "code",
   "execution_count": 10,
   "metadata": {},
   "outputs": [],
   "source": [
    "df = results.loc[:, ['half_width', 'peak_to_trough']].dropna()\n",
    "\n",
    "idxs_df = cluster_waveform_features(df.half_width, df.peak_to_trough)\n",
    "\n",
    "results.loc[df.index, 'bs'] = idxs_df"
   ]
  },
  {
   "cell_type": "code",
   "execution_count": 11,
   "metadata": {},
   "outputs": [
    {
     "data": {
      "image/png": "[encoded data removed]",
      "text/plain": [
       "<Figure size 288x216 with 1 Axes>"
      ]
     },
     "metadata": {
      "needs_background": "light"
     },
     "output_type": "display_data"
    }
   ],
   "source": [
    "plt.figure(figsize=figsize_gen)\n",
    "size = 5\n",
    "mew = .5\n",
    "marker_bs = '.'\n",
    "marker_ns = '+'\n",
    "\n",
    "plt.scatter(\n",
    "    results.query('bs==0')['half_width'], \n",
    "    results.query('bs==0')['peak_to_trough'], \n",
    "    c=color_ns, s=size, marker=marker_ns, linewidth=mew, label='NS')\n",
    "\n",
    "plt.scatter(\n",
    "    results.query('bs==1')['half_width'], \n",
    "    results.query('bs==1')['peak_to_trough'], \n",
    "    c=color_bs, s=size, marker=marker_bs, linewidth=mew, label='BS')\n",
    "\n",
    "plt.xlabel('half width')\n",
    "plt.ylabel('peak to through')\n",
    "\n",
    "plt.legend(bbox_to_anchor=(0,1.02,1,0.2), loc=\"lower left\",\n",
    "                mode=\"expand\", borderaxespad=0, ncol=2)\n",
    "\n",
    "plt.savefig(output_path / \"figures\" / \"clusters.svg\", bbox_inches=\"tight\")\n",
    "plt.savefig(output_path / \"figures\" / \"clusters.png\", dpi=600, bbox_inches=\"tight\")"
   ]
  },
  {
   "cell_type": "code",
   "execution_count": 12,
   "metadata": {},
   "outputs": [
    {
     "data": {
      "image/png": "[encoded data removed]",
      "text/plain": [
       "<Figure size 288x216 with 1 Axes>"
      ]
     },
     "metadata": {
      "needs_background": "light"
     },
     "output_type": "display_data"
    }
   ],
   "source": [
    "plt.figure(figsize=figsize_gen)\n",
    "\n",
    "size = 5\n",
    "mew = .5\n",
    "marker_bs = '.'\n",
    "marker_ns = '+'\n",
    "\n",
    "plt.scatter(\n",
    "    results.query('bs==0')['half_width'], \n",
    "    results.query('bs==0')['peak_to_trough'], \n",
    "    c=color_ns, s=size, marker=marker_ns, linewidth=mew, label='NS')\n",
    "\n",
    "plt.scatter(\n",
    "    results.query('bs==1')['half_width'], \n",
    "    results.query('bs==1')['peak_to_trough'], \n",
    "    c=color_bs, s=size, marker=marker_bs, linewidth=mew, label='BS')\n",
    "\n",
    "plt.scatter(\n",
    "    results.query('bs==1 and average_firing_rate > 10')['half_width'], \n",
    "    results.query('bs==1 and average_firing_rate > 10')['peak_to_trough'], \n",
    "    c='red', s=size, marker=marker_bs, linewidth=mew, label='BS rate > 10 Hz')\n",
    "\n",
    "plt.xlabel('half width')\n",
    "plt.ylabel('peak to through')\n",
    "\n",
    "plt.legend(bbox_to_anchor=(0,1.02,1,0.2), loc=\"lower left\",\n",
    "                mode=\"expand\", borderaxespad=0, ncol=2)\n",
    "\n",
    "plt.savefig(output_path / \"figures\" / \"clusters_and_rate.svg\", bbox_inches=\"tight\")\n",
    "plt.savefig(output_path / \"figures\" / \"clusters_and_rate.png\", dpi=600, bbox_inches=\"tight\")"
   ]
  },
  {
   "cell_type": "code",
   "execution_count": 13,
   "metadata": {},
   "outputs": [],
   "source": [
    "stim = results.query('stimulated').loc[:, ['half_width', 'peak_to_trough']].dropna()\n",
    "\n",
    "idxs_stim = cluster_waveform_features(stim.half_width, stim.peak_to_trough)\n",
    "\n",
    "results.loc[stim.index, 'bs_stim'] = idxs_stim"
   ]
  },
  {
   "cell_type": "code",
   "execution_count": 14,
   "metadata": {},
   "outputs": [],
   "source": [
    "control = results.query('not stimulated').loc[:, ['half_width', 'peak_to_trough']].dropna()\n",
    "\n",
    "idxs_control = cluster_waveform_features(control.half_width, control.peak_to_trough)\n",
    "\n",
    "results.loc[control.index, 'bs_ctrl'] = idxs_control"
   ]
  },
  {
   "cell_type": "code",
   "execution_count": 15,
   "metadata": {},
   "outputs": [
    {
     "data": {
      "image/png": "[encoded data removed]",
      "text/plain": [
       "<Figure size 288x216 with 1 Axes>"
      ]
     },
     "metadata": {
      "needs_background": "light"
     },
     "output_type": "display_data"
    }
   ],
   "source": [
    "plt.figure(figsize=figsize_gen)\n",
    "size = 5\n",
    "mew = .5\n",
    "marker_bs = '.'\n",
    "marker_ns = '+'\n",
    "plt.scatter(\n",
    "    results.query('bs_stim==0')['half_width'], \n",
    "    results.query('bs_stim==0')['peak_to_trough'], \n",
    "    c=color_stimulated, s=size, marker=marker_ns, \n",
    "    linewidth=mew, label='Stimulated NS', alpha=.5)\n",
    "\n",
    "plt.scatter(\n",
    "    results.query('bs_stim==1')['half_width'], \n",
    "    results.query('bs_stim==1')['peak_to_trough'], \n",
    "    c=color_stimulated, s=size, marker=marker_bs, \n",
    "    linewidth=mew, label='Stimulated BS', alpha=.5)\n",
    "\n",
    "\n",
    "plt.scatter(\n",
    "    results.query('bs_ctrl==0')['half_width'], \n",
    "    results.query('bs_ctrl==0')['peak_to_trough'], \n",
    "    c=color_control, s=size, marker=marker_ns, \n",
    "    linewidth=mew, label='Control NS', alpha=.5)\n",
    "\n",
    "plt.scatter(\n",
    "    results.query('bs_ctrl==1')['half_width'], \n",
    "    results.query('bs_ctrl==1')['peak_to_trough'], \n",
    "    c=color_control, s=size, marker=marker_bs, \n",
    "    linewidth=mew, label='Control BS', alpha=.5)\n",
    "\n",
    "plt.xlabel('half width')\n",
    "plt.ylabel('peak to through')\n",
    "plt.legend(bbox_to_anchor=(0,1.02,1,0.2), loc=\"lower left\",\n",
    "                mode=\"expand\", borderaxespad=0, ncol=2)\n",
    "\n",
    "plt.savefig(output_path / \"figures\" / \"compare-clusters.svg\", bbox_inches=\"tight\")\n",
    "plt.savefig(output_path / \"figures\" / \"compare-clusters.png\", dpi=600, bbox_inches=\"tight\")"
   ]
  },
  {
   "cell_type": "code",
   "execution_count": 16,
   "metadata": {},
   "outputs": [],
   "source": [
    "results.average_firing_rate = results.apply(lambda x: float(x.average_firing_rate), axis=1)"
   ]
  },
  {
   "cell_type": "code",
   "execution_count": 17,
   "metadata": {},
   "outputs": [],
   "source": [
    "results.frequency = results.apply(\n",
    "    lambda x: \n",
    "        float(x.frequency.replace('Hz', '')) if isinstance(x.frequency, str) \n",
    "        else float(x.frequency), axis=1)"
   ]
  },
  {
   "cell_type": "code",
   "execution_count": 18,
   "metadata": {},
   "outputs": [
    {
     "data": {
      "image/png": "[encoded data removed]",
      "text/plain": [
       "<Figure size 288x216 with 1 Axes>"
      ]
     },
     "metadata": {
      "needs_background": "light"
     },
     "output_type": "display_data"
    }
   ],
   "source": [
    "bins=100\n",
    "density=True\n",
    "cumulative=True\n",
    "histtype='step'\n",
    "lw = 2\n",
    "\n",
    "plt.figure(figsize=figsize_gen)\n",
    "plt.title('Narrow spiking')\n",
    "_, bins, _ = plt.hist(\n",
    "    results.query('bs_ctrl==0')['average_firing_rate'], \n",
    "    bins=bins, density=density, cumulative=cumulative, \n",
    "    histtype=histtype, color=color_control, lw=lw, label='Control');\n",
    "\n",
    "_, bins, _ = plt.hist(\n",
    "    results.query('bs_stim==0')['average_firing_rate'], \n",
    "    bins=bins, density=density, cumulative=cumulative, \n",
    "    histtype=histtype, color=color_stimulated, lw=lw, label='Stimulated');\n",
    "\n",
    "plt.xlim(-.5, 56)\n",
    "# plt.legend(bbox_to_anchor=(0,1.02,1,0.2), loc=\"lower left\",\n",
    "#                 mode=\"expand\", borderaxespad=0, ncol=2)\n",
    "\n",
    "plt.savefig(output_path / \"figures\" / \"cumulative_ns.svg\", bbox_inches=\"tight\")\n",
    "plt.savefig(output_path / \"figures\" / \"cumulative_ns.png\", dpi=600, bbox_inches=\"tight\")"
   ]
  },
  {
   "cell_type": "code",
   "execution_count": 19,
   "metadata": {},
   "outputs": [
    {
     "data": {
      "image/png": "[encoded data removed]",
      "text/plain": [
       "<Figure size 288x216 with 1 Axes>"
      ]
     },
     "metadata": {
      "needs_background": "light"
     },
     "output_type": "display_data"
    }
   ],
   "source": [
    "bins=100\n",
    "density=True\n",
    "cumulative=True\n",
    "histtype='step'\n",
    "lw = 2\n",
    "\n",
    "plt.figure(figsize=figsize_gen)\n",
    "plt.title('Narrow spiking')\n",
    "_, bins, _ = plt.hist(\n",
    "    results.query('bs_ctrl==0')['average_firing_rate'], \n",
    "    bins=bins, density=density, cumulative=cumulative, \n",
    "    histtype=histtype, color=color_control, lw=lw, label='Control');\n",
    "\n",
    "_, bins, _ = plt.hist(\n",
    "    results.query('bs_stim==0 and frequency==30')['average_firing_rate'], \n",
    "    bins=bins, density=density, cumulative=cumulative, \n",
    "    histtype=histtype, color=color_stimulated, lw=lw, label='Stimulated');\n",
    "\n",
    "plt.xlim(-.5, 56)\n",
    "# plt.legend(bbox_to_anchor=(0,1.02,1,0.2), loc=\"lower left\",\n",
    "#                 mode=\"expand\", borderaxespad=0, ncol=2)\n",
    "\n",
    "plt.savefig(output_path / \"figures\" / \"cumulative_ns_30.svg\", bbox_inches=\"tight\")\n",
    "plt.savefig(output_path / \"figures\" / \"cumulative_ns_30.png\", dpi=600, bbox_inches=\"tight\")"
   ]
  },
  {
   "cell_type": "code",
   "execution_count": 20,
   "metadata": {},
   "outputs": [
    {
     "data": {
      "image/png": "[encoded data removed]",
      "text/plain": [
       "<Figure size 288x216 with 1 Axes>"
      ]
     },
     "metadata": {
      "needs_background": "light"
     },
     "output_type": "display_data"
    }
   ],
   "source": [
    "bins=100\n",
    "density=True\n",
    "cumulative=True\n",
    "histtype='step'\n",
    "lw = 2\n",
    "\n",
    "plt.figure(figsize=figsize_gen)\n",
    "plt.title('Narrow spiking')\n",
    "_, bins, _ = plt.hist(\n",
    "    results.query('bs_ctrl==0')['average_firing_rate'], \n",
    "    bins=bins, density=density, cumulative=cumulative, \n",
    "    histtype=histtype, color=color_control, lw=lw, label='Control');\n",
    "\n",
    "_, bins, _ = plt.hist(\n",
    "    results.query('bs_stim==0 and frequency==11')['average_firing_rate'], \n",
    "    bins=bins, density=density, cumulative=cumulative, \n",
    "    histtype=histtype, color=color_stimulated, lw=lw, label='Stimulated');\n",
    "\n",
    "plt.xlim(-.5, 56)\n",
    "# plt.legend(bbox_to_anchor=(0,1.02,1,0.2), loc=\"lower left\",\n",
    "#                 mode=\"expand\", borderaxespad=0, ncol=2)\n",
    "\n",
    "plt.savefig(output_path / \"figures\" / \"cumulative_ns_11.svg\", bbox_inches=\"tight\")\n",
    "plt.savefig(output_path / \"figures\" / \"cumulative_ns_11.png\", dpi=600, bbox_inches=\"tight\")"
   ]
  },
  {
   "cell_type": "code",
   "execution_count": 21,
   "metadata": {},
   "outputs": [
    {
     "data": {
      "image/png": "[encoded data removed]",
      "text/plain": [
       "<Figure size 288x216 with 1 Axes>"
      ]
     },
     "metadata": {
      "needs_background": "light"
     },
     "output_type": "display_data"
    }
   ],
   "source": [
    "bins = 100\n",
    "\n",
    "plt.figure(figsize=figsize_gen)\n",
    "plt.title('Broad spiking')\n",
    "_, bins, _ = plt.hist(\n",
    "    results.query('bs_ctrl==1')['average_firing_rate'], \n",
    "    bins=bins, density=density, cumulative=cumulative, \n",
    "    histtype=histtype, color=color_control, lw=lw);\n",
    "\n",
    "_, bins, _ = plt.hist(\n",
    "    results.query('bs_stim==1')['average_firing_rate'], \n",
    "    bins=bins, density=density, cumulative=cumulative, \n",
    "    histtype=histtype, color=color_stimulated, lw=lw);\n",
    "\n",
    "plt.xlim(-.5, 44)\n",
    "\n",
    "plt.savefig(output_path / \"figures\" / \"cumulative_bs.svg\", bbox_inches=\"tight\")\n",
    "plt.savefig(output_path / \"figures\" / \"cumulative_bs.png\", dpi=600, bbox_inches=\"tight\")"
   ]
  },
  {
   "cell_type": "code",
   "execution_count": 22,
   "metadata": {},
   "outputs": [
    {
     "data": {
      "image/png": "[encoded data removed]",
      "text/plain": [
       "<Figure size 288x216 with 1 Axes>"
      ]
     },
     "metadata": {
      "needs_background": "light"
     },
     "output_type": "display_data"
    }
   ],
   "source": [
    "bins = 100\n",
    "\n",
    "plt.figure(figsize=figsize_gen)\n",
    "plt.title('Broad spiking')\n",
    "_, bins, _ = plt.hist(\n",
    "    results.query('bs_ctrl==1')['average_firing_rate'], \n",
    "    bins=bins, density=density, cumulative=cumulative, \n",
    "    histtype=histtype, color=color_control, lw=lw);\n",
    "\n",
    "_, bins, _ = plt.hist(\n",
    "    results.query('bs_stim==1 and frequency==11')['average_firing_rate'], \n",
    "    bins=bins, density=density, cumulative=cumulative, \n",
    "    histtype=histtype, color=color_stimulated, lw=lw);\n",
    "\n",
    "plt.xlim(-.5, 44)\n",
    "\n",
    "plt.savefig(output_path / \"figures\" / \"cumulative_bs_11.svg\", bbox_inches=\"tight\")\n",
    "plt.savefig(output_path / \"figures\" / \"cumulative_bs_11.png\", dpi=600, bbox_inches=\"tight\")"
   ]
  },
  {
   "cell_type": "code",
   "execution_count": 23,
   "metadata": {},
   "outputs": [
    {
     "data": {
      "image/png": "[encoded data removed]",
      "text/plain": [
       "<Figure size 288x216 with 1 Axes>"
      ]
     },
     "metadata": {
      "needs_background": "light"
     },
     "output_type": "display_data"
    }
   ],
   "source": [
    "bins = 100\n",
    "\n",
    "plt.figure(figsize=figsize_gen)\n",
    "plt.title('Broad spiking')\n",
    "_, bins, _ = plt.hist(\n",
    "    results.query('bs_ctrl==1')['average_firing_rate'], \n",
    "    bins=bins, density=density, cumulative=cumulative, \n",
    "    histtype=histtype, color=color_control, lw=lw);\n",
    "\n",
    "_, bins, _ = plt.hist(\n",
    "    results.query('bs_stim==1 and frequency==30')['average_firing_rate'], \n",
    "    bins=bins, density=density, cumulative=cumulative, \n",
    "    histtype=histtype, color=color_stimulated, lw=lw);\n",
    "\n",
    "plt.xlim(-.5, 44)\n",
    "\n",
    "plt.savefig(output_path / \"figures\" / \"cumulative_bs_30.svg\", bbox_inches=\"tight\")\n",
    "plt.savefig(output_path / \"figures\" / \"cumulative_bs_30.png\", dpi=600, bbox_inches=\"tight\")"
   ]
  },
  {
   "cell_type": "code",
   "execution_count": 24,
   "metadata": {},
   "outputs": [
    {
     "name": "stdout",
     "output_type": "stream",
     "text": [
      "U-test: U value 135025.0 p value 0.11036062942886643\n",
      "U-test: U value 6176.0 p value 0.12484872783599776\n"
     ]
    },
    {
     "data": {
      "image/png": "[encoded data removed]",
      "text/plain": [
       "<Figure size 122.4x216 with 1 Axes>"
      ]
     },
     "metadata": {
      "needs_background": "light"
     },
     "output_type": "display_data"
    },
    {
     "data": {
      "image/png": "[encoded data removed]",
      "text/plain": [
       "<Figure size 122.4x216 with 1 Axes>"
      ]
     },
     "metadata": {
      "needs_background": "light"
     },
     "output_type": "display_data"
    }
   ],
   "source": [
    "plt.figure(figsize=figsize_violin)\n",
    "# test = 'permutation_resampling'\n",
    "test = 'mann_whitney'\n",
    "\n",
    "plt.title('Broad spiking')\n",
    "violinplot(\n",
    "    results.query('bs_ctrl==1')['average_firing_rate'].to_numpy(), \n",
    "    results.query('bs_stim==1')['average_firing_rate'].to_numpy(), \n",
    "    test=test)\n",
    "\n",
    "plt.savefig(output_path / \"figures\" / \"rates_bs.svg\", bbox_inches=\"tight\")\n",
    "plt.savefig(output_path / \"figures\" / \"rates_bs.png\", dpi=600, bbox_inches=\"tight\")\n",
    "\n",
    "plt.figure(figsize=figsize_violin)\n",
    "plt.title('Narrow spiking')\n",
    "violinplot(\n",
    "    results.query('bs_ctrl==0')['average_firing_rate'].to_numpy(), \n",
    "    results.query('bs_stim==0')['average_firing_rate'].to_numpy(), \n",
    "    test=test)\n",
    "\n",
    "plt.savefig(output_path / \"figures\" / \"rates_ns.svg\", bbox_inches=\"tight\")\n",
    "plt.savefig(output_path / \"figures\" / \"rates_ns.png\", dpi=600, bbox_inches=\"tight\")"
   ]
  },
  {
   "cell_type": "code",
   "execution_count": 25,
   "metadata": {},
   "outputs": [
    {
     "name": "stdout",
     "output_type": "stream",
     "text": [
      "U-test: U value 85419.0 p value 0.4550292852318226\n",
      "U-test: U value 3843.0 p value 0.06623560612855536\n"
     ]
    },
    {
     "data": {
      "image/png": "[encoded data removed]",
      "text/plain": [
       "<Figure size 122.4x216 with 1 Axes>"
      ]
     },
     "metadata": {
      "needs_background": "light"
     },
     "output_type": "display_data"
    },
    {
     "data": {
      "image/png": "[encoded data removed]",
      "text/plain": [
       "<Figure size 122.4x216 with 1 Axes>"
      ]
     },
     "metadata": {
      "needs_background": "light"
     },
     "output_type": "display_data"
    }
   ],
   "source": [
    "plt.figure(figsize=figsize_violin)\n",
    "# test = 'permutation_resampling'\n",
    "test = 'mann_whitney'\n",
    "\n",
    "plt.title('Broad spiking')\n",
    "violinplot(\n",
    "    results.query('bs_ctrl==1')['average_firing_rate'].to_numpy(), \n",
    "    results.query('bs_stim==1 and frequency==11')['average_firing_rate'].to_numpy(), \n",
    "    test=test)\n",
    "\n",
    "plt.savefig(output_path / \"figures\" / \"rates_bs_11.svg\", bbox_inches=\"tight\")\n",
    "plt.savefig(output_path / \"figures\" / \"rates_bs_11.png\", dpi=600, bbox_inches=\"tight\")\n",
    "\n",
    "plt.figure(figsize=figsize_violin)\n",
    "plt.title('Narrow spiking')\n",
    "violinplot(\n",
    "    results.query('bs_ctrl==0')['average_firing_rate'].to_numpy(), \n",
    "    results.query('bs_stim==0 and frequency==11')['average_firing_rate'].to_numpy(), \n",
    "    test=test)\n",
    "\n",
    "plt.savefig(output_path / \"figures\" / \"rates_ns_11.svg\", bbox_inches=\"tight\")\n",
    "plt.savefig(output_path / \"figures\" / \"rates_ns_11.png\", dpi=600, bbox_inches=\"tight\")"
   ]
  },
  {
   "cell_type": "code",
   "execution_count": 26,
   "metadata": {},
   "outputs": [
    {
     "name": "stdout",
     "output_type": "stream",
     "text": [
      "U-test: U value 49606.0 p value 0.03757091416858637\n",
      "U-test: U value 2333.0 p value 0.5891054506000802\n"
     ]
    },
    {
     "data": {
      "image/png": "[encoded data removed]",
      "text/plain": [
       "<Figure size 122.4x216 with 1 Axes>"
      ]
     },
     "metadata": {
      "needs_background": "light"
     },
     "output_type": "display_data"
    },
    {
     "data": {
      "image/png": "[encoded data removed]",
      "text/plain": [
       "<Figure size 122.4x216 with 1 Axes>"
      ]
     },
     "metadata": {
      "needs_background": "light"
     },
     "output_type": "display_data"
    }
   ],
   "source": [
    "plt.figure(figsize=figsize_violin)\n",
    "# test = 'permutation_resampling'\n",
    "test = 'mann_whitney'\n",
    "\n",
    "plt.title('Broad spiking')\n",
    "violinplot(\n",
    "    results.query('bs_ctrl==1')['average_firing_rate'].to_numpy(), \n",
    "    results.query('bs_stim==1 and frequency==30')['average_firing_rate'].to_numpy(), \n",
    "    test=test)\n",
    "\n",
    "plt.savefig(output_path / \"figures\" / \"rates_bs.svg\", bbox_inches=\"tight\")\n",
    "plt.savefig(output_path / \"figures\" / \"rates_bs.png\", dpi=600, bbox_inches=\"tight\")\n",
    "\n",
    "plt.figure(figsize=figsize_violin)\n",
    "plt.title('Narrow spiking')\n",
    "violinplot(\n",
    "    results.query('bs_ctrl==0')['average_firing_rate'].to_numpy(), \n",
    "    results.query('bs_stim==0 and frequency==30')['average_firing_rate'].to_numpy(), \n",
    "    test=test)\n",
    "\n",
    "plt.savefig(output_path / \"figures\" / \"rates_ns_30.svg\", bbox_inches=\"tight\")\n",
    "plt.savefig(output_path / \"figures\" / \"rates_ns_30.png\", dpi=600, bbox_inches=\"tight\")"
   ]
  },
  {
   "cell_type": "code",
   "execution_count": 27,
   "metadata": {},
   "outputs": [],
   "source": [
    "columns = [\n",
    "    'average_firing_rate',\n",
    "    'half_width',\n",
    "    'peak_to_trough'\n",
    "]\n",
    "\n",
    "\n",
    "def summarize(data):\n",
    "    return \"{:.2f} ± {:.2f} ({})\".format(data.mean(), data.sem(), sum(~np.isnan(data)))\n",
    "\n",
    "\n",
    "bs = pd.DataFrame()\n",
    "\n",
    "bs['Control'] = results.query('bs_ctrl==1')[columns].agg(summarize)\n",
    "bs['Stimulated'] = results.query('bs_stim==1')[columns].agg(summarize)\n",
    "\n",
    "ns = pd.DataFrame()\n",
    "\n",
    "ns['Control'] = results.query('bs_ctrl==0')[columns].agg(summarize)\n",
    "ns['Stimulated'] = results.query('bs_stim==0')[columns].agg(summarize)\n",
    "\n",
    "\n",
    "def MWU(column, df, cluster, extra):\n",
    "    '''\n",
    "    Mann Whitney U\n",
    "    '''\n",
    "    Uvalue, pvalue = scipy.stats.mannwhitneyu(\n",
    "        df.query('bs_ctrl=={} {}'.format(cluster, extra))[column].dropna(), \n",
    "        df.query('bs_stim=={} {}'.format(cluster, extra))[column].dropna(),\n",
    "        alternative='two-sided')\n",
    "\n",
    "    return \"{:.2f}, {:.3f}\".format(Uvalue, pvalue)\n",
    "\n",
    "\n",
    "def PRS(column, df, cluster, extra):\n",
    "    '''\n",
    "    Permutation ReSampling\n",
    "    '''\n",
    "    pvalue, observed_diff, diffs = permutation_resampling(\n",
    "        df.query('bs_ctrl=={} {}'.format(cluster, extra))[column].dropna(), \n",
    "        df.query('bs_stim=={} {}'.format(cluster, extra))[column].dropna())\n",
    "\n",
    "    return \"{:.2f}, {:.3f}\".format(observed_diff, pvalue)\n",
    "\n",
    "\n",
    "bs['MWU'] = list(map(lambda x: MWU(x, results, 1, ''), columns))\n",
    "bs['PRS'] = list(map(lambda x: PRS(x, results, 1, ''), columns))\n",
    "\n",
    "ns['MWU'] = list(map(lambda x: MWU(x, results, 0, ''), columns))\n",
    "ns['PRS'] = list(map(lambda x: PRS(x, results, 0, ''), columns))\n",
    "\n",
    "bs.to_latex(output_path / \"statistics\" / \"broad_spiking.tex\")\n",
    "bs.to_csv(output_path / \"statistics\" / \"broad_spiking.csv\")\n",
    "\n",
    "ns.to_latex(output_path / \"statistics\" / \"narrow_spiking.tex\")\n",
    "ns.to_csv(output_path / \"statistics\" / \"narrow_spiking.csv\")"
   ]
  },
  {
   "cell_type": "code",
   "execution_count": 28,
   "metadata": {},
   "outputs": [],
   "source": [
    "columns = [\n",
    "    'average_firing_rate',\n",
    "    'half_width',\n",
    "    'peak_to_trough'\n",
    "]\n",
    "\n",
    "\n",
    "def summarize(data):\n",
    "    return \"{:.2f} ± {:.2f} ({})\".format(data.mean(), data.sem(), sum(~np.isnan(data)))\n",
    "\n",
    "\n",
    "bs = pd.DataFrame()\n",
    "\n",
    "bs['Control'] = results.query('bs_ctrl==1')[columns].agg(summarize)\n",
    "bs['Stimulated'] = results.query('bs_stim==1 and frequency==11')[columns].agg(summarize)\n",
    "\n",
    "ns = pd.DataFrame()\n",
    "\n",
    "ns['Control'] = results.query('bs_ctrl==0')[columns].agg(summarize)\n",
    "ns['Stimulated'] = results.query('bs_stim==0 and frequency==11')[columns].agg(summarize)\n",
    "\n",
    "\n",
    "def MWU(column, df, cluster, extra):\n",
    "    '''\n",
    "    Mann Whitney U\n",
    "    '''\n",
    "    Uvalue, pvalue = scipy.stats.mannwhitneyu(\n",
    "        df.query('bs_ctrl=={} {}'.format(cluster, extra))[column].dropna(), \n",
    "        df.query('bs_stim=={} {} and frequency==11'.format(cluster, extra))[column].dropna(),\n",
    "        alternative='two-sided')\n",
    "\n",
    "    return \"{:.2f}, {:.3f}\".format(Uvalue, pvalue)\n",
    "\n",
    "\n",
    "def PRS(column, df, cluster, extra):\n",
    "    '''\n",
    "    Permutation ReSampling\n",
    "    '''\n",
    "    pvalue, observed_diff, diffs = permutation_resampling(\n",
    "        df.query('bs_ctrl=={} {}'.format(cluster, extra))[column].dropna(), \n",
    "        df.query('bs_stim=={} {} and frequency==11'.format(cluster, extra))[column].dropna())\n",
    "\n",
    "    return \"{:.2f}, {:.3f}\".format(observed_diff, pvalue)\n",
    "\n",
    "\n",
    "bs['MWU'] = list(map(lambda x: MWU(x, results, 1, ''), columns))\n",
    "bs['PRS'] = list(map(lambda x: PRS(x, results, 1, ''), columns))\n",
    "\n",
    "ns['MWU'] = list(map(lambda x: MWU(x, results, 0, ''), columns))\n",
    "ns['PRS'] = list(map(lambda x: PRS(x, results, 0, ''), columns))\n",
    "\n",
    "bs.to_latex(output_path / \"statistics\" / \"broad_spiking_11.tex\")\n",
    "bs.to_csv(output_path / \"statistics\" / \"broad_spiking_11.csv\")\n",
    "\n",
    "ns.to_latex(output_path / \"statistics\" / \"narrow_spiking_11.tex\")\n",
    "ns.to_csv(output_path / \"statistics\" / \"narrow_spiking_11.csv\")"
   ]
  },
  {
   "cell_type": "code",
   "execution_count": 29,
   "metadata": {},
   "outputs": [],
   "source": [
    "columns = [\n",
    "    'average_firing_rate',\n",
    "    'half_width',\n",
    "    'peak_to_trough'\n",
    "]\n",
    "\n",
    "\n",
    "def summarize(data):\n",
    "    return \"{:.2f} ± {:.2f} ({})\".format(data.mean(), data.sem(), sum(~np.isnan(data)))\n",
    "\n",
    "\n",
    "bs = pd.DataFrame()\n",
    "\n",
    "bs['Control'] = results.query('bs_ctrl==1')[columns].agg(summarize)\n",
    "bs['Stimulated'] = results.query('bs_stim==1 and frequency==30')[columns].agg(summarize)\n",
    "\n",
    "ns = pd.DataFrame()\n",
    "\n",
    "ns['Control'] = results.query('bs_ctrl==0')[columns].agg(summarize)\n",
    "ns['Stimulated'] = results.query('bs_stim==0 and frequency==30')[columns].agg(summarize)\n",
    "\n",
    "\n",
    "def MWU(column, df, cluster, extra):\n",
    "    '''\n",
    "    Mann Whitney U\n",
    "    '''\n",
    "    Uvalue, pvalue = scipy.stats.mannwhitneyu(\n",
    "        df.query('bs_ctrl=={} {}'.format(cluster, extra))[column].dropna(), \n",
    "        df.query('bs_stim=={} {} and frequency==30'.format(cluster, extra))[column].dropna(),\n",
    "        alternative='two-sided')\n",
    "\n",
    "    return \"{:.2f}, {:.3f}\".format(Uvalue, pvalue)\n",
    "\n",
    "\n",
    "def PRS(column, df, cluster, extra):\n",
    "    '''\n",
    "    Permutation ReSampling\n",
    "    '''\n",
    "    pvalue, observed_diff, diffs = permutation_resampling(\n",
    "        df.query('bs_ctrl=={} {}'.format(cluster, extra))[column].dropna(), \n",
    "        df.query('bs_stim=={} {} and frequency==30'.format(cluster, extra))[column].dropna())\n",
    "\n",
    "    return \"{:.2f}, {:.3f}\".format(observed_diff, pvalue)\n",
    "\n",
    "\n",
    "bs['MWU'] = list(map(lambda x: MWU(x, results, 1, ''), columns))\n",
    "bs['PRS'] = list(map(lambda x: PRS(x, results, 1, ''), columns))\n",
    "\n",
    "ns['MWU'] = list(map(lambda x: MWU(x, results, 0, ''), columns))\n",
    "ns['PRS'] = list(map(lambda x: PRS(x, results, 0, ''), columns))\n",
    "\n",
    "bs.to_latex(output_path / \"statistics\" / \"broad_spiking_30.tex\")\n",
    "bs.to_csv(output_path / \"statistics\" / \"broad_spiking_30.csv\")\n",
    "\n",
    "ns.to_latex(output_path / \"statistics\" / \"narrow_spiking_30.tex\")\n",
    "ns.to_csv(output_path / \"statistics\" / \"narrow_spiking_30.csv\")"
   ]
  },
  {
   "cell_type": "code",
   "execution_count": 30,
   "metadata": {},
   "outputs": [
    {
     "data": {
      "text/html": [
       "<div>\n",
       "<style scoped>\n",
       "    .dataframe tbody tr th:only-of-type {\n",
       "        vertical-align: middle;\n",
       "    }\n",
       "\n",
       "    .dataframe tbody tr th {\n",
       "        vertical-align: top;\n",
       "    }\n",
       "\n",
       "    .dataframe thead th {\n",
       "        text-align: right;\n",
       "    }\n",
       "</style>\n",
       "<table border=\"1\" class=\"dataframe\">\n",
       "  <thead>\n",
       "    <tr style=\"text-align: right;\">\n",
       "      <th></th>\n",
       "      <th>Control</th>\n",
       "      <th>Stimulated</th>\n",
       "      <th>MWU</th>\n",
       "      <th>PRS</th>\n",
       "    </tr>\n",
       "  </thead>\n",
       "  <tbody>\n",
       "    <tr>\n",
       "      <th>average_firing_rate</th>\n",
       "      <td>10.54 ± 0.37 (529)</td>\n",
       "      <td>11.86 ± 0.59 (208)</td>\n",
       "      <td>49606.00, 0.038</td>\n",
       "      <td>1.32, 0.053</td>\n",
       "    </tr>\n",
       "    <tr>\n",
       "      <th>half_width</th>\n",
       "      <td>0.29 ± 0.00 (529)</td>\n",
       "      <td>0.29 ± 0.00 (208)</td>\n",
       "      <td>55575.00, 0.830</td>\n",
       "      <td>0.00, 0.986</td>\n",
       "    </tr>\n",
       "    <tr>\n",
       "      <th>peak_to_trough</th>\n",
       "      <td>0.68 ± 0.01 (529)</td>\n",
       "      <td>0.68 ± 0.01 (208)</td>\n",
       "      <td>56924.50, 0.463</td>\n",
       "      <td>0.00, 0.777</td>\n",
       "    </tr>\n",
       "  </tbody>\n",
       "</table>\n",
       "</div>"
      ],
      "text/plain": [
       "                                Control          Stimulated              MWU  \\\n",
       "average_firing_rate  10.54 ± 0.37 (529)  11.86 ± 0.59 (208)  49606.00, 0.038   \n",
       "half_width            0.29 ± 0.00 (529)   0.29 ± 0.00 (208)  55575.00, 0.830   \n",
       "peak_to_trough        0.68 ± 0.01 (529)   0.68 ± 0.01 (208)  56924.50, 0.463   \n",
       "\n",
       "                             PRS  \n",
       "average_firing_rate  1.32, 0.053  \n",
       "half_width           0.00, 0.986  \n",
       "peak_to_trough       0.00, 0.777  "
      ]
     },
     "execution_count": 30,
     "metadata": {},
     "output_type": "execute_result"
    }
   ],
   "source": [
    "bs"
   ]
  },
  {
   "cell_type": "code",
   "execution_count": 31,
   "metadata": {},
   "outputs": [
    {
     "data": {
      "text/html": [
       "<div>\n",
       "<style scoped>\n",
       "    .dataframe tbody tr th:only-of-type {\n",
       "        vertical-align: middle;\n",
       "    }\n",
       "\n",
       "    .dataframe tbody tr th {\n",
       "        vertical-align: top;\n",
       "    }\n",
       "\n",
       "    .dataframe thead th {\n",
       "        text-align: right;\n",
       "    }\n",
       "</style>\n",
       "<table border=\"1\" class=\"dataframe\">\n",
       "  <thead>\n",
       "    <tr style=\"text-align: right;\">\n",
       "      <th></th>\n",
       "      <th>Control</th>\n",
       "      <th>Stimulated</th>\n",
       "      <th>MWU</th>\n",
       "      <th>PRS</th>\n",
       "    </tr>\n",
       "  </thead>\n",
       "  <tbody>\n",
       "    <tr>\n",
       "      <th>average_firing_rate</th>\n",
       "      <td>25.34 ± 1.50 (94)</td>\n",
       "      <td>24.10 ± 1.93 (47)</td>\n",
       "      <td>2333.00, 0.589</td>\n",
       "      <td>1.25, 0.622</td>\n",
       "    </tr>\n",
       "    <tr>\n",
       "      <th>half_width</th>\n",
       "      <td>0.22 ± 0.01 (94)</td>\n",
       "      <td>0.23 ± 0.01 (47)</td>\n",
       "      <td>2057.00, 0.508</td>\n",
       "      <td>0.01, 0.594</td>\n",
       "    </tr>\n",
       "    <tr>\n",
       "      <th>peak_to_trough</th>\n",
       "      <td>0.28 ± 0.00 (94)</td>\n",
       "      <td>0.28 ± 0.01 (47)</td>\n",
       "      <td>2212.00, 0.991</td>\n",
       "      <td>0.00, 0.831</td>\n",
       "    </tr>\n",
       "  </tbody>\n",
       "</table>\n",
       "</div>"
      ],
      "text/plain": [
       "                               Control         Stimulated             MWU  \\\n",
       "average_firing_rate  25.34 ± 1.50 (94)  24.10 ± 1.93 (47)  2333.00, 0.589   \n",
       "half_width            0.22 ± 0.01 (94)   0.23 ± 0.01 (47)  2057.00, 0.508   \n",
       "peak_to_trough        0.28 ± 0.00 (94)   0.28 ± 0.01 (47)  2212.00, 0.991   \n",
       "\n",
       "                             PRS  \n",
       "average_firing_rate  1.25, 0.622  \n",
       "half_width           0.01, 0.594  \n",
       "peak_to_trough       0.00, 0.831  "
      ]
     },
     "execution_count": 31,
     "metadata": {},
     "output_type": "execute_result"
    }
   ],
   "source": [
    "ns"
   ]
  },
  {
   "cell_type": "markdown",
   "metadata": {},
   "source": [
    "# example waveforms"
   ]
  },
  {
   "cell_type": "code",
   "execution_count": 32,
   "metadata": {},
   "outputs": [],
   "source": [
    "def normalize(a):\n",
    "    t = a - a.min()\n",
    "    return t / t.max()"
   ]
  },
  {
   "cell_type": "code",
   "execution_count": 33,
   "metadata": {},
   "outputs": [
    {
     "data": {
      "text/plain": [
       "('half_width', 'peak_to_trough')"
      ]
     },
     "execution_count": 33,
     "metadata": {},
     "output_type": "execute_result"
    }
   ],
   "source": [
    "'half_width','peak_to_trough'"
   ]
  },
  {
   "cell_type": "code",
   "execution_count": 34,
   "metadata": {},
   "outputs": [
    {
     "data": {
      "image/png": "[encoded data removed]",
      "text/plain": [
       "<Figure size 288x216 with 1 Axes>"
      ]
     },
     "metadata": {
      "needs_background": "light"
     },
     "output_type": "display_data"
    }
   ],
   "source": [
    "plt.figure(figsize=figsize_gen)\n",
    "\n",
    "\n",
    "lw = 3\n",
    "\n",
    "row = results.query('bs==1').sort_values('half_width', ascending=False).iloc[50]\n",
    "template = data_loader.template(\n",
    "    row.action, row.channel_group, row.unit_name)\n",
    "\n",
    "mean_wf = template.data\n",
    "peak_wf = mean_wf[np.argmin(mean_wf.min(1))]\n",
    "plt.plot(normalize(peak_wf.T), color=color_bs, lw=lw)\n",
    "\n",
    "\n",
    "row = results.query('bs==0').sort_values('half_width').iloc[10]\n",
    "template = data_loader.template(\n",
    "    row.action, row.channel_group, row.unit_name)\n",
    "\n",
    "mean_wf = template.data\n",
    "peak_wf = mean_wf[np.argmin(mean_wf.min(1))]\n",
    "plt.plot(normalize(peak_wf.T), color=color_ns, lw=lw)\n",
    "\n",
    "plt.savefig(output_path / \"figures\" / \"example_waveforms.svg\", bbox_inches=\"tight\")\n",
    "plt.savefig(output_path / \"figures\" / \"example_waveforms.png\", dpi=600, bbox_inches=\"tight\")"
   ]
  },
  {
   "cell_type": "markdown",
   "metadata": {},
   "source": [
    "# iverted grid cell"
   ]
  },
  {
   "cell_type": "code",
   "execution_count": 46,
   "metadata": {},
   "outputs": [],
   "source": [
    "row = results.query('action==\"1833-200619-1\" and unit_idnum==304').iloc[0]"
   ]
  },
  {
   "cell_type": "code",
   "execution_count": 49,
   "metadata": {},
   "outputs": [],
   "source": [
    "spikes = data_loader.spike_train(\n",
    "    row.action, row.channel_group, row.unit_name)"
   ]
  },
  {
   "cell_type": "code",
   "execution_count": 51,
   "metadata": {},
   "outputs": [
    {
     "data": {
      "text/plain": [
       "array(9.29906418) * 1/s"
      ]
     },
     "execution_count": 51,
     "metadata": {},
     "output_type": "execute_result"
    }
   ],
   "source": [
    "len(spikes) / data_loader.duration(row.action)"
   ]
  },
  {
   "cell_type": "code",
   "execution_count": 48,
   "metadata": {},
   "outputs": [
    {
     "data": {
      "text/plain": [
       "[<matplotlib.lines.Line2D at 0x7f960d754c88>]"
      ]
     },
     "execution_count": 48,
     "metadata": {},
     "output_type": "execute_result"
    },
    {
     "data": {
      "image/png": "[encoded data removed]",
      "text/plain": [
       "<Figure size 432x288 with 1 Axes>"
      ]
     },
     "metadata": {
      "needs_background": "light"
     },
     "output_type": "display_data"
    }
   ],
   "source": [
    "template = data_loader.template(\n",
    "    row.action, row.channel_group, row.unit_name)\n",
    "\n",
    "mean_wf = template.data\n",
    "peak_wf = mean_wf[np.argmin(mean_wf.min(1))]\n",
    "plt.plot(normalize(peak_wf.T), color=color_bs, lw=lw)"
   ]
  },
  {
   "cell_type": "markdown",
   "metadata": {},
   "source": [
    "# Store results in Expipe action"
   ]
  },
  {
   "cell_type": "code",
   "execution_count": 35,
   "metadata": {},
   "outputs": [],
   "source": [
    "action = project.require_action(\"waveform-analysis\")"
   ]
  },
  {
   "cell_type": "code",
   "execution_count": 36,
   "metadata": {},
   "outputs": [],
   "source": [
    "action.data['results'] = 'results.csv'\n",
    "results.to_csv(action.data_path('results'), index=False)"
   ]
  },
  {
   "cell_type": "code",
   "execution_count": 37,
   "metadata": {},
   "outputs": [],
   "source": [
    "stuff = {\n",
    "    \"figures\": \"figures\",\n",
    "    \"statistics\": \"statistics\"\n",
    "}\n",
    "\n",
    "for key, value in stuff.items():\n",
    "    action.data[key] = value\n",
    "    data_path = action.data_path(key)\n",
    "    data_path.parent.mkdir(exist_ok=True, parents=True)\n",
    "    source = output_path / value\n",
    "    if source.is_file():\n",
    "        shutil.copy(source, data_path)\n",
    "    else:\n",
    "        copy_tree(str(source), str(data_path))"
   ]
  },
  {
   "cell_type": "code",
   "execution_count": 38,
   "metadata": {},
   "outputs": [],
   "source": [
    "septum_mec.analysis.registration.store_notebook(action, \"10_waveform_analysis.ipynb\")"
   ]
  },
  {
   "cell_type": "code",
   "execution_count": null,
   "metadata": {},
   "outputs": [],
   "source": []
  }
 ],
 "metadata": {
  "kernelspec": {
   "display_name": "Python 3",
   "language": "python",
   "name": "python3"
  },
  "language_info": {
   "codemirror_mode": {
    "name": "ipython",
    "version": 3
   },
   "file_extension": ".py",
   "mimetype": "text/x-python",
   "name": "python",
   "nbconvert_exporter": "python",
   "pygments_lexer": "ipython3",
   "version": "3.6.8"
  }
 },
 "nbformat": 4,
 "nbformat_minor": 2
}
