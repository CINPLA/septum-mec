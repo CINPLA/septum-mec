{
 "cells": [
  {
   "cell_type": "code",
   "execution_count": 3,
   "metadata": {},
   "outputs": [],
   "source": [
    "%load_ext autoreload\n",
    "%autoreload 2"
   ]
  },
  {
   "cell_type": "code",
   "execution_count": 4,
   "metadata": {},
   "outputs": [
    {
     "name": "stderr",
     "output_type": "stream",
     "text": [
      "14:42:39 [I] klustakwik KlustaKwik2 version 0.2.6\n"
     ]
    }
   ],
   "source": [
    "import matplotlib.pyplot as plt\n",
    "%matplotlib inline\n",
    "import spatial_maps as sp\n",
    "import septum_mec.analysis.data_processing as dp\n",
    "import septum_mec.analysis.registration\n",
    "import expipe\n",
    "import os\n",
    "import pathlib\n",
    "import numpy as np\n",
    "import exdir\n",
    "import pandas as pd\n",
    "import optogenetics as og\n",
    "import quantities as pq\n",
    "import shutil\n",
    "from distutils.dir_util import copy_tree\n",
    "\n",
    "from scipy.signal import find_peaks\n",
    "from scipy.interpolate import interp1d\n",
    "\n",
    "from tqdm import tqdm_notebook as tqdm\n",
    "from tqdm._tqdm_notebook import tqdm_notebook\n",
    "tqdm_notebook.pandas()"
   ]
  },
  {
   "cell_type": "code",
   "execution_count": 5,
   "metadata": {},
   "outputs": [],
   "source": [
    "data_loader = dp.Data()\n",
    "actions = data_loader.actions\n",
    "project = data_loader.project"
   ]
  },
  {
   "cell_type": "code",
   "execution_count": 6,
   "metadata": {},
   "outputs": [],
   "source": [
    "# output = pathlib.Path('output/stimulus-lfp-response')\n",
    "# (output / 'figures').mkdir(parents=True, exist_ok=True)"
   ]
  },
  {
   "cell_type": "code",
   "execution_count": 7,
   "metadata": {},
   "outputs": [],
   "source": [
    "identify_neurons = actions['identify-neurons']\n",
    "sessions = pd.read_csv(identify_neurons.data_path('sessions'))"
   ]
  },
  {
   "cell_type": "code",
   "execution_count": 8,
   "metadata": {},
   "outputs": [],
   "source": [
    "a = sessions.iloc[0]"
   ]
  },
  {
   "cell_type": "code",
   "execution_count": 9,
   "metadata": {},
   "outputs": [
    {
     "data": {
      "text/plain": [
       "{'action': '1849-060319-3',\n",
       " 'baseline': True,\n",
       " 'entity': 1849,\n",
       " 'frequency': nan,\n",
       " 'i': False,\n",
       " 'ii': True,\n",
       " 'session': 3,\n",
       " 'stim_location': nan,\n",
       " 'stimulated': False,\n",
       " 'tag': 'baseline ii'}"
      ]
     },
     "execution_count": 9,
     "metadata": {},
     "output_type": "execute_result"
    }
   ],
   "source": [
    "a.to_dict()"
   ]
  },
  {
   "cell_type": "code",
   "execution_count": 10,
   "metadata": {},
   "outputs": [],
   "source": [
    "channel_groups = []\n",
    "for i, row in sessions.iterrows():\n",
    "    for ch in range(8):\n",
    "        row['channel_group'] = ch\n",
    "        channel_groups.append(row.to_dict())"
   ]
  },
  {
   "cell_type": "code",
   "execution_count": 11,
   "metadata": {},
   "outputs": [],
   "source": [
    "channel_groups = pd.DataFrame(channel_groups)"
   ]
  },
  {
   "cell_type": "code",
   "execution_count": 12,
   "metadata": {},
   "outputs": [],
   "source": [
    "def get_lim(action_id):\n",
    "    stim_times = data_loader.stim_times(action_id)\n",
    "    stim_times = np.array(stim_times)\n",
    "    return [stim_times.min(), stim_times.max()]\n",
    "\n",
    "def get_mask(lfp, lim):\n",
    "    return (lfp.times >= lim[0]) & (lfp.times <= lim[1])\n",
    "\n",
    "def zscore(a):\n",
    "    return (a - a.mean()) / a.std()\n",
    "\n",
    "def stim_freq(action_id):\n",
    "    stim_times = np.array(data_loader.stim_times(action_id))\n",
    "    return 1 / np.mean(np.diff(stim_times))"
   ]
  },
  {
   "cell_type": "code",
   "execution_count": 13,
   "metadata": {},
   "outputs": [],
   "source": [
    "def signaltonoise(a, axis=0, ddof=0):\n",
    "    a = np.asanyarray(a)\n",
    "    m = a.mean(axis)\n",
    "    sd = a.std(axis=axis, ddof=ddof)\n",
    "    return np.where(sd == 0, 0, m / sd)\n",
    "\n",
    "\n",
    "def select_and_clean(anas, width=500, threshold=2):\n",
    "    anas = np.array(anas)\n",
    "\n",
    "    for ch in range(anas.shape[1]):\n",
    "        idxs, = np.where(abs(anas[:, ch]) > threshold)\n",
    "        for idx in idxs:\n",
    "            anas[idx-width:idx+width, ch] = 0 # TODO AR model prediction\n",
    "    return anas"
   ]
  },
  {
   "cell_type": "code",
   "execution_count": 14,
   "metadata": {},
   "outputs": [],
   "source": [
    "def energy(p, f, f_c, f_w):\n",
    "    mask = (f > f_c - f_w) & (f < f_c + f_w)\n",
    "    df = f[1] - f[0]\n",
    "    return np.sum(p[mask]) * df"
   ]
  },
  {
   "cell_type": "code",
   "execution_count": 106,
   "metadata": {},
   "outputs": [],
   "source": [
    "def theta_peak(p, f):\n",
    "    mask = (f > 6) & (f < 10)\n",
    "    p_m = p[mask]\n",
    "    f_m = f[mask]\n",
    "    peaks, _ = find_peaks(p_m)\n",
    "    idx = np.argmax(p_m[peaks])\n",
    "    return f_m[peaks[idx]], p_m[peaks[idx]]"
   ]
  },
  {
   "cell_type": "code",
   "execution_count": 107,
   "metadata": {},
   "outputs": [],
   "source": [
    "def half_width(p, f, m_p, m_f):\n",
    "    m_p_half = m_p / 2\n",
    "    half_p = p - m_p_half\n",
    "    idx_f = np.where(f <= m_f)[0].max()\n",
    "    idxs_p1, = np.where(np.diff(half_p[:idx_f + 1] > 0) == 1)\n",
    "    m1 = idxs_p1.max()\n",
    "    idxs_p2, = np.where(np.diff(half_p[idx_f:] > 0) == 1)\n",
    "    m2 = idxs_p2.min() + idx_f    \n",
    "#     plt.plot(f, p)\n",
    "#     plt.plot(m_f, m_p, marker='o', ls='none', markersize=10)\n",
    "#     plt.plot(f[m1], p[m1], marker='x', ls='none', markersize=10, c='r')\n",
    "#     plt.plot(f[m1+1], p[m1+1], marker='+', ls='none', markersize=10, c='r')\n",
    "    \n",
    "#     plt.plot(f[m2], p[m2], marker='x', ls='none', markersize=10, c='k')\n",
    "#     plt.plot(f[m2+1], p[m2+1], marker='+', ls='none', markersize=10, c='k')\n",
    "    \n",
    "#     plt.xlim(4,12)\n",
    "    assert p[m1] < m_p_half < p[m1+1], (p[m1], m_p_half, p[m1+1])\n",
    "    assert p[m2] > m_p_half > p[m2+1], (p[m2], m_p_half, p[m2+1])\n",
    "    \n",
    "    f1 = interp1d([half_p[m1], half_p[m1 + 1]], [f[m1], f[m1 + 1]])(0)\n",
    "    f2 = interp1d([half_p[m2], half_p[m2 + 1]], [f[m2], f[m2 + 1]])(0)\n",
    "    return f1, f2"
   ]
  },
  {
   "cell_type": "code",
   "execution_count": 108,
   "metadata": {},
   "outputs": [],
   "source": [
    "def stim_peak(p, f, s_f):\n",
    "    return interp1d(f, p)(s_f)"
   ]
  },
  {
   "cell_type": "code",
   "execution_count": 109,
   "metadata": {},
   "outputs": [],
   "source": [
    "def process(row):\n",
    "    action_id = row['action']\n",
    "    channel_group = row['channel_group']\n",
    "    lfp = data_loader.lfp(action_id, channel_group)\n",
    "    \n",
    "    "
   ]
  },
  {
   "cell_type": "code",
   "execution_count": 110,
   "metadata": {},
   "outputs": [],
   "source": [
    "action_id_0 = '1839-060619-1'\n",
    "action_id_1 = '1833-260619-2'"
   ]
  },
  {
   "cell_type": "code",
   "execution_count": 128,
   "metadata": {},
   "outputs": [],
   "source": [
    "lfp_0 = data_loader.lfp(action_id_0, 3)\n",
    "lfp_1 = data_loader.lfp(action_id_1, 2)"
   ]
  },
  {
   "cell_type": "code",
   "execution_count": 129,
   "metadata": {},
   "outputs": [
    {
     "name": "stdout",
     "output_type": "stream",
     "text": [
      "[ 0.00116826 -0.00226905  0.00884092  0.00689327]\n",
      "[0.00286196 0.00965367 0.00540679 0.00102636]\n"
     ]
    }
   ],
   "source": [
    "lfp3_ = data_loader.lfp(action_id_1, 3)\n",
    "lfp6_ = data_loader.lfp(action_id_1, 6)\n",
    "lfp3 = select_and_clean(lfp3_)\n",
    "lfp6 = select_and_clean(lfp6_)\n",
    "s3 = signaltonoise(lfp3)\n",
    "s6 = signaltonoise(lfp6)\n",
    "\n",
    "print(s3)\n",
    "print(s6)"
   ]
  },
  {
   "cell_type": "code",
   "execution_count": 130,
   "metadata": {},
   "outputs": [
    {
     "data": {
      "text/plain": [
       "(856781, 4)"
      ]
     },
     "execution_count": 130,
     "metadata": {},
     "output_type": "execute_result"
    }
   ],
   "source": [
    "lfp3.shape"
   ]
  },
  {
   "cell_type": "code",
   "execution_count": 131,
   "metadata": {},
   "outputs": [
    {
     "data": {
      "text/plain": [
       "(6, 12)"
      ]
     },
     "execution_count": 131,
     "metadata": {},
     "output_type": "execute_result"
    },
    {
     "data": {
      "image/png": "[encoded data removed]",
      "text/plain": [
       "<Figure size 432x288 with 1 Axes>"
      ]
     },
     "metadata": {
      "needs_background": "light"
     },
     "output_type": "display_data"
    }
   ],
   "source": [
    "plt.psd(lfp3[:, 2].ravel(), Fs=lfp3_.sampling_rate.magnitude, NFFT=10000)\n",
    "plt.psd(lfp6[:, 1].ravel(), Fs=lfp6_.sampling_rate.magnitude, NFFT=10000)\n",
    "plt.xlim(6,12)"
   ]
  },
  {
   "cell_type": "code",
   "execution_count": 132,
   "metadata": {},
   "outputs": [],
   "source": [
    "clean_lfp_0 = select_and_clean(lfp_0)\n",
    "clean_lfp_1 = select_and_clean(lfp_1)"
   ]
  },
  {
   "cell_type": "code",
   "execution_count": 133,
   "metadata": {},
   "outputs": [],
   "source": [
    "best_channel_0 = np.argmax(signaltonoise(clean_lfp_0))\n",
    "best_channel_1 = np.argmax(signaltonoise(clean_lfp_1))"
   ]
  },
  {
   "cell_type": "code",
   "execution_count": 134,
   "metadata": {},
   "outputs": [],
   "source": [
    "lim_1 = get_lim(action_id_1)"
   ]
  },
  {
   "cell_type": "code",
   "execution_count": 135,
   "metadata": {},
   "outputs": [
    {
     "data": {
      "text/plain": [
       "(59.32180000000001, 659.2845666666667)"
      ]
     },
     "execution_count": 135,
     "metadata": {},
     "output_type": "execute_result"
    },
    {
     "data": {
      "image/png": "[encoded data removed]",
      "text/plain": [
       "<Figure size 432x288 with 1 Axes>"
      ]
     },
     "metadata": {
      "needs_background": "light"
     },
     "output_type": "display_data"
    }
   ],
   "source": [
    "plt.plot(lfp_0.times, clean_lfp_0[:,best_channel_0])\n",
    "plt.plot(lfp_1.times, clean_lfp_1[:,best_channel_1])\n",
    "plt.xlim(lim_1)"
   ]
  },
  {
   "cell_type": "code",
   "execution_count": 136,
   "metadata": {},
   "outputs": [
    {
     "data": {
      "text/plain": [
       "True"
      ]
     },
     "execution_count": 136,
     "metadata": {},
     "output_type": "execute_result"
    }
   ],
   "source": [
    "any(mask_1)"
   ]
  },
  {
   "cell_type": "code",
   "execution_count": 137,
   "metadata": {},
   "outputs": [
    {
     "data": {
      "text/plain": [
       "(0, 20)"
      ]
     },
     "execution_count": 137,
     "metadata": {},
     "output_type": "execute_result"
    },
    {
     "data": {
      "image/png": "[encoded data removed]",
      "text/plain": [
       "<Figure size 432x288 with 1 Axes>"
      ]
     },
     "metadata": {
      "needs_background": "light"
     },
     "output_type": "display_data"
    }
   ],
   "source": [
    "signal_0 = zscore(clean_lfp_0[:, best_channel_0].ravel())\n",
    "p_xx_0, freq_0 = plt.psd(signal_0, Fs=lfp_0.sampling_rate.magnitude, NFFT=10000)\n",
    "\n",
    "mask_1 = get_mask(lfp_1, lim_1)\n",
    "signal_1 = zscore(clean_lfp_1[mask_1, best_channel_1].ravel())\n",
    "p_xx_1, freq_1 = plt.psd(signal_1, Fs=lfp_1.sampling_rate.magnitude, NFFT=10000)\n",
    "plt.xlim(0,20)"
   ]
  },
  {
   "cell_type": "code",
   "execution_count": 138,
   "metadata": {},
   "outputs": [],
   "source": [
    "f_max_0, p_max_0 = theta_peak(p_xx_0, freq_0)"
   ]
  },
  {
   "cell_type": "code",
   "execution_count": 139,
   "metadata": {},
   "outputs": [
    {
     "data": {
      "text/plain": [
       "(9.600000000000001, 0.2214935569189184)"
      ]
     },
     "execution_count": 139,
     "metadata": {},
     "output_type": "execute_result"
    }
   ],
   "source": [
    "theta_peak(p_xx_1, freq_1)"
   ]
  },
  {
   "cell_type": "code",
   "execution_count": 140,
   "metadata": {},
   "outputs": [
    {
     "data": {
      "text/plain": [
       "0.04301376000519899"
      ]
     },
     "execution_count": 140,
     "metadata": {},
     "output_type": "execute_result"
    }
   ],
   "source": [
    "energy(p_xx_0, freq_0, f_max_0, .5)"
   ]
  },
  {
   "cell_type": "code",
   "execution_count": 141,
   "metadata": {},
   "outputs": [
    {
     "data": {
      "text/plain": [
       "0.13457752994772074"
      ]
     },
     "execution_count": 141,
     "metadata": {},
     "output_type": "execute_result"
    }
   ],
   "source": [
    "energy(p_xx_1, freq_1, f_max_0, 1)"
   ]
  },
  {
   "cell_type": "code",
   "execution_count": 142,
   "metadata": {},
   "outputs": [],
   "source": [
    "stim_freq_1 = stim_freq(action_id_1)"
   ]
  },
  {
   "cell_type": "code",
   "execution_count": 143,
   "metadata": {},
   "outputs": [],
   "source": [
    "p_max_1 = stim_peak(p_xx_1, freq_1, stim_freq_1)"
   ]
  },
  {
   "cell_type": "code",
   "execution_count": 144,
   "metadata": {},
   "outputs": [
    {
     "data": {
      "text/plain": [
       "(0.0685831695307859, array(0.09971924))"
      ]
     },
     "execution_count": 144,
     "metadata": {},
     "output_type": "execute_result"
    }
   ],
   "source": [
    "p_max_0, p_max_1"
   ]
  },
  {
   "cell_type": "code",
   "execution_count": 145,
   "metadata": {},
   "outputs": [
    {
     "data": {
      "text/plain": [
       "0.07856072798300642"
      ]
     },
     "execution_count": 145,
     "metadata": {},
     "output_type": "execute_result"
    }
   ],
   "source": [
    "energy(p_xx_1, freq_1, stim_freq_1, .5)"
   ]
  },
  {
   "cell_type": "code",
   "execution_count": 146,
   "metadata": {},
   "outputs": [
    {
     "data": {
      "text/plain": [
       "(1.513483253361768, 0.9170797402905564)"
      ]
     },
     "execution_count": 146,
     "metadata": {},
     "output_type": "execute_result"
    }
   ],
   "source": [
    "energy(p_xx_1, freq_1, 150, 150), energy(p_xx_0, freq_0, 150, 150)"
   ]
  },
  {
   "cell_type": "code",
   "execution_count": 291,
   "metadata": {},
   "outputs": [
    {
     "data": {
      "text/plain": [
       "(array(7.16863111), array(8.04187682))"
      ]
     },
     "execution_count": 291,
     "metadata": {},
     "output_type": "execute_result"
    },
    {
     "data": {
      "image/png": "[encoded data removed]",
      "text/plain": [
       "<Figure size 432x288 with 1 Axes>"
      ]
     },
     "metadata": {
      "needs_background": "light"
     },
     "output_type": "display_data"
    }
   ],
   "source": [
    "half_width(p_xx_1, freq_1, p_max_1, stim_freq_1)\n",
    "\n",
    "half_width(p_xx_0, freq_0, p_max_0, f_max_0)"
   ]
  },
  {
   "cell_type": "code",
   "execution_count": 111,
   "metadata": {},
   "outputs": [
    {
     "data": {
      "text/plain": [
       "<matplotlib.patches.Polygon at 0x7f3b5c89b630>"
      ]
     },
     "execution_count": 111,
     "metadata": {},
     "output_type": "execute_result"
    },
    {
     "data": {
      "image/png": "[encoded data removed]",
      "text/plain": [
       "<Figure size 432x288 with 1 Axes>"
      ]
     },
     "metadata": {
      "needs_background": "light"
     },
     "output_type": "display_data"
    }
   ],
   "source": [
    "\n",
    "plt.psd(signal_0, Fs=lfp_0.sampling_rate.magnitude, NFFT=3000)\n",
    "\n",
    "plt.psd(signal_1, Fs=lfp_1.sampling_rate.magnitude, NFFT=3000)\n",
    "plt.xlim(0,20)\n",
    "window = .5\n",
    "plt.axvspan(f_max_0 - window, f_max_0 + window, alpha=.3)\n",
    "plt.axvspan(stim_freq_1 - window, stim_freq_1 + window, alpha=.3)"
   ]
  },
  {
   "cell_type": "markdown",
   "metadata": {},
   "source": [
    "# Save to expipe"
   ]
  },
  {
   "cell_type": "code",
   "execution_count": 10,
   "metadata": {},
   "outputs": [],
   "source": [
    "action = project.require_action(\"stimulus-lfp-response\")"
   ]
  },
  {
   "cell_type": "code",
   "execution_count": 11,
   "metadata": {},
   "outputs": [],
   "source": [
    "# action.modules['parameters'] = {\n",
    "#     'window_size': window_size,\n",
    "#     'std_gaussian_kde': std_gaussian_kde\n",
    "# }"
   ]
  },
  {
   "cell_type": "code",
   "execution_count": 12,
   "metadata": {},
   "outputs": [],
   "source": [
    "action.data['results'] = 'results.csv'\n",
    "results.to_csv(action.data_path('results'), index=False)"
   ]
  },
  {
   "cell_type": "code",
   "execution_count": 13,
   "metadata": {},
   "outputs": [
    {
     "data": {
      "text/plain": [
       "['/media/storage/expipe/septum-mec/actions/stimulus-response/data/figures/summary_histogram.png']"
      ]
     },
     "execution_count": 13,
     "metadata": {},
     "output_type": "execute_result"
    }
   ],
   "source": [
    "copy_tree(output, str(action.data_path()))"
   ]
  },
  {
   "cell_type": "code",
   "execution_count": 14,
   "metadata": {},
   "outputs": [],
   "source": [
    "septum_mec.analysis.registration.store_notebook(action, \"10-calculate-stimulus-lfp-response.ipynb\")"
   ]
  },
  {
   "cell_type": "code",
   "execution_count": null,
   "metadata": {},
   "outputs": [],
   "source": []
  }
 ],
 "metadata": {
  "kernelspec": {
   "display_name": "Python 3",
   "language": "python",
   "name": "python3"
  },
  "language_info": {
   "codemirror_mode": {
    "name": "ipython",
    "version": 3
   },
   "file_extension": ".py",
   "mimetype": "text/x-python",
   "name": "python",
   "nbconvert_exporter": "python",
   "pygments_lexer": "ipython3",
   "version": "3.6.8"
  }
 },
 "nbformat": 4,
 "nbformat_minor": 2
}
