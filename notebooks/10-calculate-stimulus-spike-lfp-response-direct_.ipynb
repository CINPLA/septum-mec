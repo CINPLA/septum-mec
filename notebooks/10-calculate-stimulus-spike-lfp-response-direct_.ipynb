{
 "cells": [
  {
   "cell_type": "code",
   "execution_count": 1,
   "metadata": {},
   "outputs": [],
   "source": [
    "%load_ext autoreload\n",
    "%autoreload 2"
   ]
  },
  {
   "cell_type": "code",
   "execution_count": 2,
   "metadata": {},
   "outputs": [
    {
     "name": "stderr",
     "output_type": "stream",
     "text": [
      "08:57:38 [I] klustakwik KlustaKwik2 version 0.2.6\n",
      "/home/mikkel/.virtualenvs/expipe/lib/python3.6/site-packages/ipykernel_launcher.py:26: TqdmDeprecationWarning: This function will be removed in tqdm==5.0.0\n",
      "Please use `tqdm.notebook.*` instead of `tqdm._tqdm_notebook.*`\n"
     ]
    }
   ],
   "source": [
    "import matplotlib.pyplot as plt\n",
    "%matplotlib inline\n",
    "import spatial_maps as sp\n",
    "import septum_mec.analysis.data_processing as dp\n",
    "import septum_mec.analysis.registration\n",
    "import expipe\n",
    "import os\n",
    "import pathlib\n",
    "import scipy\n",
    "import scipy.signal\n",
    "import numpy as np\n",
    "import exdir\n",
    "import pandas as pd\n",
    "import optogenetics as og\n",
    "import quantities as pq\n",
    "import shutil\n",
    "from distutils.dir_util import copy_tree\n",
    "import elephant as el\n",
    "import neo\n",
    "from scipy.signal import find_peaks\n",
    "from scipy.interpolate import interp1d\n",
    "from matplotlib import mlab\n",
    "import pycircstat as pc\n",
    "\n",
    "from tqdm import tqdm_notebook as tqdm\n",
    "from tqdm._tqdm_notebook import tqdm_notebook\n",
    "tqdm_notebook.pandas()"
   ]
  },
  {
   "cell_type": "code",
   "execution_count": 3,
   "metadata": {},
   "outputs": [],
   "source": [
    "data_loader = dp.Data()\n",
    "actions = data_loader.actions\n",
    "project = data_loader.project"
   ]
  },
  {
   "cell_type": "code",
   "execution_count": 4,
   "metadata": {},
   "outputs": [],
   "source": [
    "output = pathlib.Path('output/stimulus-spike-lfp-response-direct')\n",
    "(output / 'data').mkdir(parents=True, exist_ok=True)"
   ]
  },
  {
   "cell_type": "code",
   "execution_count": 5,
   "metadata": {},
   "outputs": [],
   "source": [
    "identify_neurons = actions['identify-neurons']\n",
    "# sessions = pd.read_csv(identify_neurons.data_path('sessions'))\n",
    "units = pd.read_csv(identify_neurons.data_path('units'))"
   ]
  },
  {
   "cell_type": "code",
   "execution_count": 6,
   "metadata": {},
   "outputs": [],
   "source": [
    "def get_lim(action_id):\n",
    "    stim_times = data_loader.stim_times(action_id)\n",
    "    if stim_times is None:\n",
    "        return [0, np.inf]\n",
    "    stim_times = np.array(stim_times)\n",
    "    return [stim_times.min(), stim_times.max()]\n",
    "\n",
    "def get_mask(lfp, lim):\n",
    "    return (lfp.times >= lim[0]) & (lfp.times <= lim[1])\n",
    "\n",
    "def zscore(a):\n",
    "    return (a - a.mean(0)) / a.std(0)\n",
    "\n",
    "def compute_stim_freq(action_id):\n",
    "    stim_times = data_loader.stim_times(action_id)\n",
    "    if stim_times is None:\n",
    "        return np.nan\n",
    "    stim_times = np.array(stim_times)\n",
    "    return 1 / np.mean(np.diff(stim_times))"
   ]
  },
  {
   "cell_type": "code",
   "execution_count": 7,
   "metadata": {},
   "outputs": [],
   "source": [
    "def signaltonoise(a, axis=0, ddof=0):\n",
    "    a = np.asanyarray(a)\n",
    "    m = a.mean(axis)\n",
    "    sd = a.std(axis=axis, ddof=ddof)\n",
    "    return np.where(sd == 0, 0, m / sd)"
   ]
  },
  {
   "cell_type": "code",
   "execution_count": 15,
   "metadata": {},
   "outputs": [],
   "source": [
    "def butter_bandpass(lowcut, highcut, fs, order=5):\n",
    "    nyq = 0.5 * fs\n",
    "    low = lowcut / nyq\n",
    "    high = highcut / nyq\n",
    "    b, a = scipy.signal.butter(order, [low, high], btype='band')\n",
    "    return b, a\n",
    "\n",
    "\n",
    "def butter_bandpass_filter(data, lowcut, highcut, fs, order=5):\n",
    "    b, a = butter_bandpass(lowcut, highcut, fs, order=order)\n",
    "    y = scipy.signal.filtfilt(b, a, data)\n",
    "    return y"
   ]
  },
  {
   "cell_type": "code",
   "execution_count": 16,
   "metadata": {},
   "outputs": [],
   "source": [
    "def compute_clean_lfp(anas, width=500, threshold=2):\n",
    "    anas = np.array(anas)\n",
    "    idxs, = np.where(abs(anas) > threshold)\n",
    "    for idx in idxs:\n",
    "        anas[idx-width:idx+width] = 0 # TODO AR model prediction\n",
    "    return anas, idxs\n",
    "\n",
    "\n",
    "def compute_clean_spikes(spikes, idxs, times, width=500):\n",
    "\n",
    "    for idx in idxs:\n",
    "        t0 = times[idx-width]\n",
    "        stop = idx + width\n",
    "        if stop > len(times) - 1:\n",
    "            stop = len(times) - 1 \n",
    "        t1 = times[stop]\n",
    "        mask = (spikes > t0) & (spikes < t1)\n",
    "        spikes = spikes[~mask]\n",
    "    spikes = spikes[spikes <= times[-1]]\n",
    "    return spikes\n",
    "\n",
    "\n",
    "def prepare_spike_lfp(anas, sptr, t_start, t_stop):\n",
    "\n",
    "    t_start = t_start * pq.s if t_start is not None else 0 * pq.s\n",
    "    sampling_rate = anas.sampling_rate\n",
    "    units = anas.units\n",
    "    times = anas.times\n",
    "    if t_start is not None and t_stop is not None:\n",
    "        t_stop = t_stop * pq.s\n",
    "        mask = (times > t_start) & (times < t_stop)\n",
    "        anas = np.array(anas)[mask,:]\n",
    "        times = times[mask]\n",
    "    \n",
    "    # take best channel from other drive\n",
    "    best_channel = np.argmax(signaltonoise(anas))\n",
    "#     best_channel = np.random.choice(anas.shape[1])\n",
    "    \n",
    "    cleaned_anas, idxs = compute_clean_lfp(anas[:, best_channel])\n",
    "    \n",
    "    cleaned_anas = neo.AnalogSignal(\n",
    "        signal=cleaned_anas * units, sampling_rate=sampling_rate, t_start=t_start\n",
    "    )\n",
    "    \n",
    "    spike_units = sptr.units\n",
    "    spike_times = sptr.times\n",
    "    spike_times = compute_clean_spikes(spike_times, idxs, times)\n",
    "\n",
    "    sptr = neo.SpikeTrain(\n",
    "        spike_times[(spike_times > t_start) & (spike_times < times[-1])], units=spike_units,\n",
    "        t_start=t_start, t_stop=times[-1]\n",
    "    )\n",
    "\n",
    "    return cleaned_anas, sptr, best_channel"
   ]
  },
  {
   "cell_type": "code",
   "execution_count": 17,
   "metadata": {},
   "outputs": [],
   "source": [
    "def compute_spike_phase_func(lfp, times, return_degrees=False):\n",
    "    from scipy.fftpack import next_fast_len\n",
    "    x_a = scipy.signal.hilbert(\n",
    "        lfp, next_fast_len(len(lfp)))[:len(lfp)]\n",
    "#     x_a = hilbert(lfp)\n",
    "    x_phase = np.angle(x_a, deg=return_degrees)\n",
    "    return interp1d(times, x_phase)\n",
    "\n",
    "\n",
    "def compute_spike_phase(lfp, spikes, flim=[6,10]):\n",
    "    \n",
    "    sample_rate = lfp.sampling_rate.magnitude\n",
    "    \n",
    "    # sometimes the position is recorded after LFP recording is ended\n",
    "    times = np.arange(lfp.shape[0]) / sample_rate\n",
    "     \n",
    "    spikes = np.array(spikes)\n",
    "    spikes = spikes[(spikes > times.min()) & (spikes < times.max())]\n",
    "    \n",
    "    filtered_lfp = butter_bandpass_filter(\n",
    "        lfp.magnitude.ravel(), *flim, fs=sample_rate, order=3)\n",
    "\n",
    "    spike_phase_func = compute_spike_phase_func(filtered_lfp, times)\n",
    "    \n",
    "    return spike_phase_func(spikes), filtered_lfp"
   ]
  },
  {
   "cell_type": "code",
   "execution_count": 18,
   "metadata": {},
   "outputs": [],
   "source": [
    "NFFT = 8192\n",
    "theta_band_f1, theta_band_f2 = 6, 10 "
   ]
  },
  {
   "cell_type": "code",
   "execution_count": 21,
   "metadata": {},
   "outputs": [],
   "source": [
    "coherence_data, freqency_data = {}, {}\n",
    "theta_kde_data, theta_bins_data = {}, {}\n",
    "stim_kde_data, stim_bins_data = {}, {}\n",
    "\n",
    "def process(row):\n",
    "    action_id = row['action']\n",
    "    channel_group = row['channel_group']\n",
    "    unit_name = row['unit_name']\n",
    "    \n",
    "    name = f'{action_id}_{channel_group}_{unit_name}'\n",
    "    \n",
    "    # select \n",
    "    lfp = data_loader.lfp(action_id, channel_group) # TODO consider choosing strongest stim response\n",
    "    \n",
    "    sptr = data_loader.spike_train(action_id, channel_group, unit_name)\n",
    "       \n",
    "    lim = get_lim(action_id)\n",
    "    \n",
    "    cleaned_lfp, sptr, best_channel = prepare_spike_lfp(lfp, sptr, *lim)\n",
    "    \n",
    "    theta_spike_phase, _ = compute_spike_phase(cleaned_lfp, sptr, flim=[theta_band_f1, theta_band_f2])\n",
    "    theta_ang, theta_vec_len =  pc.mean(theta_spike_phase), pc.resultant_vector_length(theta_spike_phase)\n",
    "\n",
    "    # stim\n",
    "    \n",
    "    stim_freq = compute_stim_freq(action_id)\n",
    "       \n",
    "    if np.isnan(stim_freq):\n",
    "        stim_ang, stim_vec_len = [np.nan] * 2\n",
    "    else:\n",
    "        stim_spike_phase, _ = compute_spike_phase(cleaned_lfp, sptr, flim=[stim_freq - .5, stim_freq + .5])\n",
    "        stim_ang, stim_vec_len = pc.mean(stim_spike_phase), pc.resultant_vector_length(stim_spike_phase)\n",
    "\n",
    "    \n",
    "    result = pd.Series({\n",
    "        'best_channel': best_channel,\n",
    "        'theta_ang': theta_ang, \n",
    "        'theta_vec_len': theta_vec_len,\n",
    "        'stim_freq': stim_freq,\n",
    "        'stim_ang': stim_ang, \n",
    "        'stim_vec_len': stim_vec_len\n",
    "    })\n",
    "    return result"
   ]
  },
  {
   "cell_type": "code",
   "execution_count": 22,
   "metadata": {},
   "outputs": [
    {
     "data": {
      "application/vnd.jupyter.widget-view+json": {
       "model_id": "57c669a0d89947e780982a59409ded4b",
       "version_major": 2,
       "version_minor": 0
      },
      "text/plain": [
       "HBox(children=(IntProgress(value=0, max=1284), HTML(value='')))"
      ]
     },
     "metadata": {},
     "output_type": "display_data"
    },
    {
     "name": "stderr",
     "output_type": "stream",
     "text": [
      "/home/mikkel/apps/expipe-project/cinpla-base/src/pycircstat/pycircstat/descriptive.py:343: RuntimeWarning: invalid value encountered in cdouble_scalars\n",
      "  np.sum(w, axis=axis))\n"
     ]
    },
    {
     "name": "stdout",
     "output_type": "stream",
     "text": [
      "\n"
     ]
    }
   ],
   "source": [
    "results = units.merge(\n",
    "    units.progress_apply(process, axis=1), \n",
    "    left_index=True, right_index=True)"
   ]
  },
  {
   "cell_type": "markdown",
   "metadata": {},
   "source": [
    "# Save to expipe"
   ]
  },
  {
   "cell_type": "code",
   "execution_count": 23,
   "metadata": {},
   "outputs": [],
   "source": [
    "action = project.require_action(\"stimulus-spike-lfp-response-direct\")"
   ]
  },
  {
   "cell_type": "code",
   "execution_count": 24,
   "metadata": {},
   "outputs": [],
   "source": [
    "action.modules['parameters'] = {\n",
    "    'theta_band_f1': theta_band_f1,\n",
    "    'theta_band_f2': theta_band_f2\n",
    "}"
   ]
  },
  {
   "cell_type": "code",
   "execution_count": 25,
   "metadata": {},
   "outputs": [],
   "source": [
    "action.data['results'] = 'results.csv'\n",
    "results.to_csv(action.data_path('results'), index=False)"
   ]
  },
  {
   "cell_type": "code",
   "execution_count": 26,
   "metadata": {},
   "outputs": [
    {
     "data": {
      "text/plain": [
       "[]"
      ]
     },
     "execution_count": 26,
     "metadata": {},
     "output_type": "execute_result"
    }
   ],
   "source": [
    "copy_tree(output, str(action.data_path()))"
   ]
  },
  {
   "cell_type": "code",
   "execution_count": 27,
   "metadata": {},
   "outputs": [
    {
     "ename": "FileNotFoundError",
     "evalue": "[Errno 2] No such file or directory: '10-calculate-stimulus-spike-lfp-response-direct.ipynb'",
     "output_type": "error",
     "traceback": [
      "\u001b[0;31m---------------------------------------------------------------------------\u001b[0m",
      "\u001b[0;31mFileNotFoundError\u001b[0m                         Traceback (most recent call last)",
      "\u001b[0;32m<ipython-input-27-91b5bacaa930>\u001b[0m in \u001b[0;36m<module>\u001b[0;34m\u001b[0m\n\u001b[0;32m----> 1\u001b[0;31m \u001b[0mseptum_mec\u001b[0m\u001b[0;34m.\u001b[0m\u001b[0manalysis\u001b[0m\u001b[0;34m.\u001b[0m\u001b[0mregistration\u001b[0m\u001b[0;34m.\u001b[0m\u001b[0mstore_notebook\u001b[0m\u001b[0;34m(\u001b[0m\u001b[0maction\u001b[0m\u001b[0;34m,\u001b[0m \u001b[0;34m\"10-calculate-stimulus-spike-lfp-response-direct.ipynb\"\u001b[0m\u001b[0;34m)\u001b[0m\u001b[0;34m\u001b[0m\u001b[0;34m\u001b[0m\u001b[0m\n\u001b[0m",
      "\u001b[0;32m~/apps/expipe-project/septum-mec/septum_mec/analysis/registration.py\u001b[0m in \u001b[0;36mstore_notebook\u001b[0;34m(action, notebook_path)\u001b[0m\n\u001b[1;32m      7\u001b[0m     \u001b[0maction\u001b[0m\u001b[0;34m.\u001b[0m\u001b[0mdata\u001b[0m\u001b[0;34m[\u001b[0m\u001b[0;34m\"notebook\"\u001b[0m\u001b[0;34m]\u001b[0m \u001b[0;34m=\u001b[0m \u001b[0mnotebook_path\u001b[0m\u001b[0;34m.\u001b[0m\u001b[0mname\u001b[0m\u001b[0;34m\u001b[0m\u001b[0;34m\u001b[0m\u001b[0m\n\u001b[1;32m      8\u001b[0m     \u001b[0mnotebook_output_path\u001b[0m \u001b[0;34m=\u001b[0m \u001b[0maction\u001b[0m\u001b[0;34m.\u001b[0m\u001b[0mdata_path\u001b[0m\u001b[0;34m(\u001b[0m\u001b[0;34m'notebook'\u001b[0m\u001b[0;34m)\u001b[0m\u001b[0;34m\u001b[0m\u001b[0;34m\u001b[0m\u001b[0m\n\u001b[0;32m----> 9\u001b[0;31m     \u001b[0mshutil\u001b[0m\u001b[0;34m.\u001b[0m\u001b[0mcopy\u001b[0m\u001b[0;34m(\u001b[0m\u001b[0mnotebook_path\u001b[0m\u001b[0;34m,\u001b[0m \u001b[0mnotebook_output_path\u001b[0m\u001b[0;34m)\u001b[0m\u001b[0;34m\u001b[0m\u001b[0;34m\u001b[0m\u001b[0m\n\u001b[0m\u001b[1;32m     10\u001b[0m     \u001b[0;31m# As HTML\u001b[0m\u001b[0;34m\u001b[0m\u001b[0;34m\u001b[0m\u001b[0;34m\u001b[0m\u001b[0m\n\u001b[1;32m     11\u001b[0m     \u001b[0mos\u001b[0m\u001b[0;34m.\u001b[0m\u001b[0msystem\u001b[0m\u001b[0;34m(\u001b[0m\u001b[0;34m'jupyter nbconvert --to html {}'\u001b[0m\u001b[0;34m.\u001b[0m\u001b[0mformat\u001b[0m\u001b[0;34m(\u001b[0m\u001b[0mnotebook_path\u001b[0m\u001b[0;34m)\u001b[0m\u001b[0;34m)\u001b[0m\u001b[0;34m\u001b[0m\u001b[0;34m\u001b[0m\u001b[0m\n",
      "\u001b[0;32m~/.virtualenvs/expipe/lib/python3.6/shutil.py\u001b[0m in \u001b[0;36mcopy\u001b[0;34m(src, dst, follow_symlinks)\u001b[0m\n\u001b[1;32m    243\u001b[0m     \u001b[0;32mif\u001b[0m \u001b[0mos\u001b[0m\u001b[0;34m.\u001b[0m\u001b[0mpath\u001b[0m\u001b[0;34m.\u001b[0m\u001b[0misdir\u001b[0m\u001b[0;34m(\u001b[0m\u001b[0mdst\u001b[0m\u001b[0;34m)\u001b[0m\u001b[0;34m:\u001b[0m\u001b[0;34m\u001b[0m\u001b[0;34m\u001b[0m\u001b[0m\n\u001b[1;32m    244\u001b[0m         \u001b[0mdst\u001b[0m \u001b[0;34m=\u001b[0m \u001b[0mos\u001b[0m\u001b[0;34m.\u001b[0m\u001b[0mpath\u001b[0m\u001b[0;34m.\u001b[0m\u001b[0mjoin\u001b[0m\u001b[0;34m(\u001b[0m\u001b[0mdst\u001b[0m\u001b[0;34m,\u001b[0m \u001b[0mos\u001b[0m\u001b[0;34m.\u001b[0m\u001b[0mpath\u001b[0m\u001b[0;34m.\u001b[0m\u001b[0mbasename\u001b[0m\u001b[0;34m(\u001b[0m\u001b[0msrc\u001b[0m\u001b[0;34m)\u001b[0m\u001b[0;34m)\u001b[0m\u001b[0;34m\u001b[0m\u001b[0;34m\u001b[0m\u001b[0m\n\u001b[0;32m--> 245\u001b[0;31m     \u001b[0mcopyfile\u001b[0m\u001b[0;34m(\u001b[0m\u001b[0msrc\u001b[0m\u001b[0;34m,\u001b[0m \u001b[0mdst\u001b[0m\u001b[0;34m,\u001b[0m \u001b[0mfollow_symlinks\u001b[0m\u001b[0;34m=\u001b[0m\u001b[0mfollow_symlinks\u001b[0m\u001b[0;34m)\u001b[0m\u001b[0;34m\u001b[0m\u001b[0;34m\u001b[0m\u001b[0m\n\u001b[0m\u001b[1;32m    246\u001b[0m     \u001b[0mcopymode\u001b[0m\u001b[0;34m(\u001b[0m\u001b[0msrc\u001b[0m\u001b[0;34m,\u001b[0m \u001b[0mdst\u001b[0m\u001b[0;34m,\u001b[0m \u001b[0mfollow_symlinks\u001b[0m\u001b[0;34m=\u001b[0m\u001b[0mfollow_symlinks\u001b[0m\u001b[0;34m)\u001b[0m\u001b[0;34m\u001b[0m\u001b[0;34m\u001b[0m\u001b[0m\n\u001b[1;32m    247\u001b[0m     \u001b[0;32mreturn\u001b[0m \u001b[0mdst\u001b[0m\u001b[0;34m\u001b[0m\u001b[0;34m\u001b[0m\u001b[0m\n",
      "\u001b[0;32m~/.virtualenvs/expipe/lib/python3.6/shutil.py\u001b[0m in \u001b[0;36mcopyfile\u001b[0;34m(src, dst, follow_symlinks)\u001b[0m\n\u001b[1;32m    118\u001b[0m         \u001b[0mos\u001b[0m\u001b[0;34m.\u001b[0m\u001b[0msymlink\u001b[0m\u001b[0;34m(\u001b[0m\u001b[0mos\u001b[0m\u001b[0;34m.\u001b[0m\u001b[0mreadlink\u001b[0m\u001b[0;34m(\u001b[0m\u001b[0msrc\u001b[0m\u001b[0;34m)\u001b[0m\u001b[0;34m,\u001b[0m \u001b[0mdst\u001b[0m\u001b[0;34m)\u001b[0m\u001b[0;34m\u001b[0m\u001b[0;34m\u001b[0m\u001b[0m\n\u001b[1;32m    119\u001b[0m     \u001b[0;32melse\u001b[0m\u001b[0;34m:\u001b[0m\u001b[0;34m\u001b[0m\u001b[0;34m\u001b[0m\u001b[0m\n\u001b[0;32m--> 120\u001b[0;31m         \u001b[0;32mwith\u001b[0m \u001b[0mopen\u001b[0m\u001b[0;34m(\u001b[0m\u001b[0msrc\u001b[0m\u001b[0;34m,\u001b[0m \u001b[0;34m'rb'\u001b[0m\u001b[0;34m)\u001b[0m \u001b[0;32mas\u001b[0m \u001b[0mfsrc\u001b[0m\u001b[0;34m:\u001b[0m\u001b[0;34m\u001b[0m\u001b[0;34m\u001b[0m\u001b[0m\n\u001b[0m\u001b[1;32m    121\u001b[0m             \u001b[0;32mwith\u001b[0m \u001b[0mopen\u001b[0m\u001b[0;34m(\u001b[0m\u001b[0mdst\u001b[0m\u001b[0;34m,\u001b[0m \u001b[0;34m'wb'\u001b[0m\u001b[0;34m)\u001b[0m \u001b[0;32mas\u001b[0m \u001b[0mfdst\u001b[0m\u001b[0;34m:\u001b[0m\u001b[0;34m\u001b[0m\u001b[0;34m\u001b[0m\u001b[0m\n\u001b[1;32m    122\u001b[0m                 \u001b[0mcopyfileobj\u001b[0m\u001b[0;34m(\u001b[0m\u001b[0mfsrc\u001b[0m\u001b[0;34m,\u001b[0m \u001b[0mfdst\u001b[0m\u001b[0;34m)\u001b[0m\u001b[0;34m\u001b[0m\u001b[0;34m\u001b[0m\u001b[0m\n",
      "\u001b[0;31mFileNotFoundError\u001b[0m: [Errno 2] No such file or directory: '10-calculate-stimulus-spike-lfp-response-direct.ipynb'"
     ]
    }
   ],
   "source": [
    "septum_mec.analysis.registration.store_notebook(action, \"10-calculate-stimulus-spike-lfp-response-direct.ipynb\")"
   ]
  },
  {
   "cell_type": "code",
   "execution_count": null,
   "metadata": {},
   "outputs": [],
   "source": []
  }
 ],
 "metadata": {
  "kernelspec": {
   "display_name": "Python 3",
   "language": "python",
   "name": "python3"
  },
  "language_info": {
   "codemirror_mode": {
    "name": "ipython",
    "version": 3
   },
   "file_extension": ".py",
   "mimetype": "text/x-python",
   "name": "python",
   "nbconvert_exporter": "python",
   "pygments_lexer": "ipython3",
   "version": "3.6.8"
  }
 },
 "nbformat": 4,
 "nbformat_minor": 4
}
