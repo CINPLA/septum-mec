{
 "cells": [
  {
   "cell_type": "code",
   "execution_count": 1,
   "metadata": {},
   "outputs": [],
   "source": [
    "%load_ext autoreload\n",
    "%autoreload 2"
   ]
  },
  {
   "cell_type": "code",
   "execution_count": 2,
   "metadata": {},
   "outputs": [
    {
     "name": "stderr",
     "output_type": "stream",
     "text": [
      "12:38:12 [I] klustakwik KlustaKwik2 version 0.2.6\n"
     ]
    }
   ],
   "source": [
    "import os\n",
    "import expipe\n",
    "import pathlib\n",
    "import numpy as np\n",
    "import spatial_maps.stats as stats\n",
    "import septum_mec\n",
    "import septum_mec.analysis.data_processing as dp\n",
    "import septum_mec.analysis.registration\n",
    "import head_direction.head as head\n",
    "import spatial_maps as sp\n",
    "import speed_cells.speed as spd\n",
    "import re\n",
    "import joblib\n",
    "import multiprocessing\n",
    "import shutil\n",
    "import psutil\n",
    "import pandas as pd\n",
    "import matplotlib.pyplot as plt\n",
    "from distutils.dir_util import copy_tree\n",
    "from neo import SpikeTrain\n",
    "import scipy\n",
    "\n",
    "from tqdm import tqdm_notebook as tqdm\n",
    "from tqdm._tqdm_notebook import tqdm_notebook\n",
    "tqdm_notebook.pandas()\n",
    "\n",
    "from spike_statistics.core import permutation_resampling\n",
    "\n",
    "from spikewaveform.core import calculate_waveform_features_from_template, cluster_waveform_features\n",
    "\n",
    "from septum_mec.analysis.plotting import violinplot"
   ]
  },
  {
   "cell_type": "code",
   "execution_count": 3,
   "metadata": {},
   "outputs": [],
   "source": [
    "%matplotlib inline\n",
    "color_control = '#4393c3'\n",
    "color_stimulated = '#d6604d'\n",
    "\n",
    "color_bs = '#5aae61'\n",
    "color_ns = '#9970ab'\n",
    "\n",
    "figsize_violin = (1.7, 3)\n",
    "figsize_gen = (4, 3)\n",
    "\n",
    "output_path = pathlib.Path(\"output\") / \"some-analysis\"\n",
    "(output_path / \"statistics\").mkdir(exist_ok=True, parents=True)\n",
    "(output_path / \"figures\").mkdir(exist_ok=True, parents=True)\n",
    "output_path.mkdir(exist_ok=True)"
   ]
  },
  {
   "cell_type": "code",
   "execution_count": 4,
   "metadata": {},
   "outputs": [],
   "source": [
    "data_loader = dp.Data()\n",
    "actions = data_loader.actions\n",
    "project = data_loader.project"
   ]
  },
  {
   "cell_type": "code",
   "execution_count": 8,
   "metadata": {},
   "outputs": [],
   "source": [
    "identify_neurons = actions['identify-neurons']\n",
    "sessions = pd.read_csv(identify_neurons.data_path('sessions'))\n",
    "units = pd.read_csv(identify_neurons.data_path('units'))\n",
    "session_units = pd.merge(sessions, units, on='action')"
   ]
  },
  {
   "cell_type": "code",
   "execution_count": 6,
   "metadata": {},
   "outputs": [],
   "source": [
    "identify_neurons = actions['waveform-analysis']\n",
    "waveform_results = pd.read_csv(identify_neurons.data_path('results'))"
   ]
  },
  {
   "cell_type": "code",
   "execution_count": 7,
   "metadata": {},
   "outputs": [],
   "source": [
    "identify_neurons = actions['stimulus-response']\n",
    "stimulus_results = pd.read_csv(identify_neurons.data_path('results'))"
   ]
  },
  {
   "cell_type": "code",
   "execution_count": 19,
   "metadata": {},
   "outputs": [],
   "source": [
    "all_results = session_units.merge(\n",
    "    waveform_results.merge(stimulus_results), how='left')"
   ]
  },
  {
   "cell_type": "code",
   "execution_count": 25,
   "metadata": {},
   "outputs": [
    {
     "data": {
      "text/plain": [
       "Text(0.5, 0.98, 'NS')"
      ]
     },
     "execution_count": 25,
     "metadata": {},
     "output_type": "execute_result"
    },
    {
     "data": {
      "image/png": "[encoded data removed]",
      "text/plain": [
       "<Figure size 432x288 with 4 Axes>"
      ]
     },
     "metadata": {
      "needs_background": "light"
     },
     "output_type": "display_data"
    },
    {
     "data": {
      "image/png": "[encoded data removed]",
      "text/plain": [
       "<Figure size 432x288 with 4 Axes>"
      ]
     },
     "metadata": {
      "needs_background": "light"
     },
     "output_type": "display_data"
    }
   ],
   "source": [
    "all_results.query('bs==0').loc[:,['t_i_peak', 't_e_peak', 'p_i_peak', 'p_e_peak']].hist()\n",
    "plt.gcf().suptitle('BS')\n",
    "all_results.query('bs==1').loc[:,['t_i_peak', 't_e_peak', 'p_i_peak', 'p_e_peak']].hist()\n",
    "plt.gcf().suptitle('NS')"
   ]
  },
  {
   "cell_type": "markdown",
   "metadata": {},
   "source": [
    "# Store results in Expipe action"
   ]
  },
  {
   "cell_type": "code",
   "execution_count": 144,
   "metadata": {},
   "outputs": [],
   "source": [
    "action = project.require_action(\"some-analysis\")"
   ]
  },
  {
   "cell_type": "code",
   "execution_count": 145,
   "metadata": {},
   "outputs": [],
   "source": [
    "stuff = {\n",
    "    \"figures\": \"figures\",\n",
    "    \"statistics\": \"statistics\"\n",
    "}\n",
    "\n",
    "for key, value in stuff.items():\n",
    "    action.data[key] = value\n",
    "    data_path = action.data_path(key)\n",
    "    data_path.parent.mkdir(exist_ok=True, parents=True)\n",
    "    source = output_path / value\n",
    "    if source.is_file():\n",
    "        shutil.copy(source, data_path)\n",
    "    else:\n",
    "        copy_tree(str(source), str(data_path))"
   ]
  },
  {
   "cell_type": "code",
   "execution_count": 146,
   "metadata": {},
   "outputs": [],
   "source": [
    "septum_mec.analysis.registration.store_notebook(action, \"20_some_analysis.ipynb\")"
   ]
  }
 ],
 "metadata": {
  "kernelspec": {
   "display_name": "Python 3",
   "language": "python",
   "name": "python3"
  },
  "language_info": {
   "codemirror_mode": {
    "name": "ipython",
    "version": 3
   },
   "file_extension": ".py",
   "mimetype": "text/x-python",
   "name": "python",
   "nbconvert_exporter": "python",
   "pygments_lexer": "ipython3",
   "version": "3.6.8"
  }
 },
 "nbformat": 4,
 "nbformat_minor": 2
}
