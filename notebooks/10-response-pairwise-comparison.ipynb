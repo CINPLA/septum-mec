{
 "cells": [
  {
   "cell_type": "code",
   "execution_count": 8,
   "metadata": {},
   "outputs": [
    {
     "name": "stdout",
     "output_type": "stream",
     "text": [
      "The autoreload extension is already loaded. To reload it, use:\n",
      "  %reload_ext autoreload\n"
     ]
    }
   ],
   "source": [
    "%load_ext autoreload\n",
    "%autoreload 2"
   ]
  },
  {
   "cell_type": "code",
   "execution_count": 9,
   "metadata": {},
   "outputs": [],
   "source": [
    "import matplotlib.pyplot as plt\n",
    "import spatial_maps as sp\n",
    "import septum_mec.analysis.data_processing as dp\n",
    "import septum_mec.analysis.registration\n",
    "import expipe\n",
    "import os\n",
    "import pathlib\n",
    "import numpy as np\n",
    "import exdir\n",
    "import pandas as pd\n",
    "import optogenetics as og\n",
    "import quantities as pq\n",
    "import shutil\n",
    "from distutils.dir_util import copy_tree\n",
    "import seaborn as sns\n",
    "import pycwt\n",
    "from septum_mec.analysis.stimulus_response import stimulus_response_latency, compute_response\n",
    "from septum_mec.analysis.plotting import despine\n",
    "from tqdm import tqdm_notebook as tqdm\n",
    "from tqdm._tqdm_notebook import tqdm_notebook\n",
    "from septum_mec.analysis.statistics import load_data_frames\n",
    "\n",
    "tqdm_notebook.pandas()"
   ]
  },
  {
   "cell_type": "code",
   "execution_count": 3,
   "metadata": {},
   "outputs": [],
   "source": [
    "%matplotlib inline\n",
    "plt.rc('axes', titlesize=12)\n",
    "plt.rcParams.update({\n",
    "    'font.size': 12, \n",
    "    'figure.figsize': (2.5, 2), \n",
    "    'figure.dpi': 150\n",
    "})"
   ]
  },
  {
   "cell_type": "code",
   "execution_count": 21,
   "metadata": {},
   "outputs": [
    {
     "name": "stdout",
     "output_type": "stream",
     "text": [
      "Number of sessions above threshold 194\n",
      "Number of animals 4\n",
      "Number of individual gridcells 139\n",
      "Number of gridcell recordings 230\n"
     ]
    }
   ],
   "source": [
    "df = load_data_frames()\n",
    "gc_ns_df = df.query(\"ns_inhibited or gridcell\")\n",
    "# remove sampeles which are both GC and NSi using xor\n",
    "gc_ns_df = gc_ns_df.query(\"not (ns_inhibited and gridcell)\")"
   ]
  },
  {
   "cell_type": "markdown",
   "metadata": {},
   "source": [
    "### Compute pairs and make new dataframe"
   ]
  },
  {
   "cell_type": "code",
   "execution_count": 49,
   "metadata": {},
   "outputs": [],
   "source": [
    "# add drive\n",
    "drives = []\n",
    "for i, row in gc_ns_df.iterrows():\n",
    "    if row.channel_group < 4:\n",
    "        drives.append(0)\n",
    "    else:\n",
    "        drives.append(1)\n",
    "gc_ns_df[\"drive\"] = drives"
   ]
  },
  {
   "cell_type": "code",
   "execution_count": 59,
   "metadata": {},
   "outputs": [],
   "source": [
    "# groupby action and channel groups\n",
    "actions = []\n",
    "channel_groups_gc = []\n",
    "channel_groups_ns = []\n",
    "drives = []\n",
    "pairs = []\n",
    "t_e_minus_t_is = []\n",
    "for gp, df in gc_ns_df.groupby([\"action\", \"drive\"]):\n",
    "    gridcells = df.query(\"gridcell\")\n",
    "    narrows = df.query(\"ns_inhibited\")\n",
    "#     print(f\"Action: {gp[0]} - group: {gp[1]} - n GCs: {len(gridcells)} - n NSi: {len(narrows)}\")\n",
    "    if len(gridcells) > 0 and len(narrows) > 0:\n",
    "        for i, gc in gridcells.iterrows():\n",
    "            for j, ns in narrows.iterrows():\n",
    "                pair = [gc.unit_id, ns.unit_id]\n",
    "                pairs.append(pair)\n",
    "                drives.append(gc.drive)\n",
    "                actions.append(gp[0])\n",
    "                channel_groups_gc.append(gc.channel_group)\n",
    "                channel_groups_ns.append(ns.channel_group)\n",
    "                t_e_minus_t_is.append(gc.t_e_peak - ns.t_i_peak)\n",
    "pair_df = pd.DataFrame(data={\"action\": actions, \"drive\": drives, \"channel_groups_gc\": channel_groups_gc, \"channel_groups_ns\": channel_groups_ns, \"pair\": pairs, \"peak_diff\": t_e_minus_t_is})"
   ]
  },
  {
   "cell_type": "code",
   "execution_count": 60,
   "metadata": {},
   "outputs": [],
   "source": [
    "pair_df = pair_df.dropna()"
   ]
  },
  {
   "cell_type": "code",
   "execution_count": 62,
   "metadata": {},
   "outputs": [
    {
     "data": {
      "text/plain": [
       "112"
      ]
     },
     "execution_count": 62,
     "metadata": {},
     "output_type": "execute_result"
    }
   ],
   "source": [
    "len(pair_df)"
   ]
  },
  {
   "cell_type": "code",
   "execution_count": 63,
   "metadata": {},
   "outputs": [
    {
     "data": {
      "text/plain": [
       "(array([19., 37., 35., 16.,  3.,  0.,  0.,  0.,  0.,  0.,  0.,  0.,  0.,\n",
       "         0.,  0.,  0.,  0.,  0.,  1.,  1.]),\n",
       " array([0.002  , 0.00298, 0.00396, 0.00494, 0.00592, 0.0069 , 0.00788,\n",
       "        0.00886, 0.00984, 0.01082, 0.0118 , 0.01278, 0.01376, 0.01474,\n",
       "        0.01572, 0.0167 , 0.01768, 0.01866, 0.01964, 0.02062, 0.0216 ]),\n",
       " <a list of 20 Patch objects>)"
      ]
     },
     "execution_count": 63,
     "metadata": {},
     "output_type": "execute_result"
    },
    {
     "data": {
      "image/png": "[encoded data removed]",
      "text/plain": [
       "<Figure size 375x300 with 1 Axes>"
      ]
     },
     "metadata": {
      "needs_background": "light"
     },
     "output_type": "display_data"
    }
   ],
   "source": [
    "plt.hist(pair_df.peak_diff, bins=20)"
   ]
  },
  {
   "cell_type": "code",
   "execution_count": 5,
   "metadata": {},
   "outputs": [],
   "source": [
    "output = pathlib.Path('output/response-pairwise-comparison')\n",
    "(output / 'figures').mkdir(parents=True, exist_ok=True)"
   ]
  },
  {
   "cell_type": "code",
   "execution_count": null,
   "metadata": {},
   "outputs": [],
   "source": []
  },
  {
   "cell_type": "markdown",
   "metadata": {},
   "source": [
    "# Save to expipe"
   ]
  },
  {
   "cell_type": "code",
   "execution_count": 24,
   "metadata": {},
   "outputs": [],
   "source": [
    "action = project.require_action(\"stimulus-response\")"
   ]
  },
  {
   "cell_type": "code",
   "execution_count": 25,
   "metadata": {},
   "outputs": [
    {
     "data": {
      "text/plain": [
       "['/media/storage/expipe/septum-mec/actions/stimulus-response/data/figures/tfr-1833-120619-4_30.svg',\n",
       " '/media/storage/expipe/septum-mec/actions/stimulus-response/data/figures/tfr-1834-110319-5_11_r.svg',\n",
       " '/media/storage/expipe/septum-mec/actions/stimulus-response/data/figures/raster-1834-110319-5-1849-010319-5-local.png',\n",
       " '/media/storage/expipe/septum-mec/actions/stimulus-response/data/figures/raster-1833-120619-2-1833-120619-4_30.svg',\n",
       " '/media/storage/expipe/septum-mec/actions/stimulus-response/data/figures/raster-1834-110319-5-1849-010319-5-local.svg',\n",
       " '/media/storage/expipe/septum-mec/actions/stimulus-response/data/figures/tfr-1833-120619-2_11.png',\n",
       " '/media/storage/expipe/septum-mec/actions/stimulus-response/data/figures/raster-1833-120619-2-1833-120619-4_30.png',\n",
       " '/media/storage/expipe/septum-mec/actions/stimulus-response/data/figures/raster-1833-260619-2_11.png',\n",
       " '/media/storage/expipe/septum-mec/actions/stimulus-response/data/figures/raster-1833-120619-4_30.svg',\n",
       " '/media/storage/expipe/septum-mec/actions/stimulus-response/data/figures/tfr-1833-260619-4_30.png',\n",
       " '/media/storage/expipe/septum-mec/actions/stimulus-response/data/figures/raster-1833-120619-2-1833-120619-4_11.svg',\n",
       " '/media/storage/expipe/septum-mec/actions/stimulus-response/data/figures/tfr-1834-110319-5_11_l.svg',\n",
       " '/media/storage/expipe/septum-mec/actions/stimulus-response/data/figures/raster-1833-120619-4_30.png',\n",
       " '/media/storage/expipe/septum-mec/actions/stimulus-response/data/figures/raster-1833-260619-4_30.png',\n",
       " '/media/storage/expipe/septum-mec/actions/stimulus-response/data/figures/raster-1833-120619-2_11.png',\n",
       " '/media/storage/expipe/septum-mec/actions/stimulus-response/data/figures/tfr-1834-010319-3_11.png',\n",
       " '/media/storage/expipe/septum-mec/actions/stimulus-response/data/figures/tfr-1833-120619-2_11.svg',\n",
       " '/media/storage/expipe/septum-mec/actions/stimulus-response/data/figures/raster-1833-120619-2-1833-120619-4.svg',\n",
       " '/media/storage/expipe/septum-mec/actions/stimulus-response/data/figures/tfr-1834-110319-5_11_r.png',\n",
       " '/media/storage/expipe/septum-mec/actions/stimulus-response/data/figures/tfr-1834-110319-5_11_l.png',\n",
       " '/media/storage/expipe/septum-mec/actions/stimulus-response/data/figures/raster-1833-260619-2_11.svg',\n",
       " '/media/storage/expipe/septum-mec/actions/stimulus-response/data/figures/raster-1833-120619-2-1833-120619-4.png',\n",
       " '/media/storage/expipe/septum-mec/actions/stimulus-response/data/figures/tfr-1834-010319-3_11.svg',\n",
       " '/media/storage/expipe/septum-mec/actions/stimulus-response/data/figures/tfr-1833-120619-4_30.png',\n",
       " '/media/storage/expipe/septum-mec/actions/stimulus-response/data/figures/tfr-1833-260619-4_30.svg',\n",
       " '/media/storage/expipe/septum-mec/actions/stimulus-response/data/figures/raster-1833-260619-4_30.svg',\n",
       " '/media/storage/expipe/septum-mec/actions/stimulus-response/data/figures/raster-1833-120619-2_11.svg',\n",
       " '/media/storage/expipe/septum-mec/actions/stimulus-response/data/figures/raster-1833-120619-2-1833-120619-4_11.png']"
      ]
     },
     "execution_count": 25,
     "metadata": {},
     "output_type": "execute_result"
    }
   ],
   "source": [
    "copy_tree(output, str(action.data_path()))"
   ]
  },
  {
   "cell_type": "code",
   "execution_count": 26,
   "metadata": {},
   "outputs": [],
   "source": [
    "septum_mec.analysis.registration.store_notebook(action, \"10-calculate-stimulus-response.ipynb\")"
   ]
  },
  {
   "cell_type": "code",
   "execution_count": null,
   "metadata": {},
   "outputs": [],
   "source": []
  }
 ],
 "metadata": {
  "kernelspec": {
   "display_name": "Python 3",
   "language": "python",
   "name": "python3"
  },
  "language_info": {
   "codemirror_mode": {
    "name": "ipython",
    "version": 3
   },
   "file_extension": ".py",
   "mimetype": "text/x-python",
   "name": "python",
   "nbconvert_exporter": "python",
   "pygments_lexer": "ipython3",
   "version": "3.6.8"
  }
 },
 "nbformat": 4,
 "nbformat_minor": 4
}
