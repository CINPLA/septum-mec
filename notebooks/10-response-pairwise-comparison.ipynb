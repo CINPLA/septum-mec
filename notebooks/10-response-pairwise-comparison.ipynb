{
 "cells": [
  {
   "cell_type": "code",
   "execution_count": 1,
   "metadata": {},
   "outputs": [],
   "source": [
    "%load_ext autoreload\n",
    "%autoreload 2"
   ]
  },
  {
   "cell_type": "code",
   "execution_count": 2,
   "metadata": {},
   "outputs": [
    {
     "name": "stderr",
     "output_type": "stream",
     "text": [
      "/home/mikkel/.virtualenvs/expipe/lib/python3.6/site-packages/ipykernel_launcher.py:20: TqdmDeprecationWarning: This function will be removed in tqdm==5.0.0\n",
      "Please use `tqdm.notebook.*` instead of `tqdm._tqdm_notebook.*`\n"
     ]
    }
   ],
   "source": [
    "import matplotlib.pyplot as plt\n",
    "import spatial_maps as sp\n",
    "import septum_mec.analysis.data_processing as dp\n",
    "import septum_mec.analysis.registration\n",
    "import expipe\n",
    "import os\n",
    "import pathlib\n",
    "import numpy as np\n",
    "import exdir\n",
    "import pandas as pd\n",
    "import optogenetics as og\n",
    "import quantities as pq\n",
    "import shutil\n",
    "from distutils.dir_util import copy_tree\n",
    "import seaborn as sns\n",
    "import pycwt\n",
    "from septum_mec.analysis.stimulus_response import stimulus_response_latency, compute_response\n",
    "from septum_mec.analysis.plotting import despine\n",
    "from tqdm import tqdm_notebook as tqdm\n",
    "from tqdm._tqdm_notebook import tqdm_notebook\n",
    "from septum_mec.analysis.statistics import load_data_frames\n",
    "\n",
    "tqdm_notebook.pandas()"
   ]
  },
  {
   "cell_type": "code",
   "execution_count": 3,
   "metadata": {},
   "outputs": [],
   "source": [
    "%matplotlib inline\n",
    "plt.rc('axes', titlesize=12)\n",
    "plt.rcParams.update({\n",
    "    'font.size': 12, \n",
    "    'figure.figsize': (2.5, 2), \n",
    "    'figure.dpi': 150\n",
    "})"
   ]
  },
  {
   "cell_type": "code",
   "execution_count": 4,
   "metadata": {},
   "outputs": [
    {
     "name": "stdout",
     "output_type": "stream",
     "text": [
      "Number of sessions above threshold 194\n",
      "Number of animals 4\n",
      "Number of individual gridcells 139\n",
      "Number of gridcell recordings 230\n"
     ]
    }
   ],
   "source": [
    "df, labels, colors, queries = load_data_frames()\n",
    "gc_ns_df = df.query(\"ns_inhibited or gridcell\")\n",
    "# remove sampeles which are both GC and NSi using xor\n",
    "gc_ns_df = gc_ns_df.query(\"not (ns_inhibited and gridcell)\")"
   ]
  },
  {
   "cell_type": "markdown",
   "metadata": {},
   "source": [
    "### Compute pairs and make new dataframe"
   ]
  },
  {
   "cell_type": "code",
   "execution_count": 5,
   "metadata": {},
   "outputs": [],
   "source": [
    "# add drive\n",
    "drives = []\n",
    "for i, row in gc_ns_df.iterrows():\n",
    "    if row.channel_group < 4:\n",
    "        drives.append(0)\n",
    "    else:\n",
    "        drives.append(1)\n",
    "gc_ns_df[\"drive\"] = drives"
   ]
  },
  {
   "cell_type": "code",
   "execution_count": 6,
   "metadata": {},
   "outputs": [],
   "source": [
    "# groupby action and channel groups\n",
    "actions = []\n",
    "channel_groups_gc = []\n",
    "channel_groups_ns = []\n",
    "drives = []\n",
    "pairs = []\n",
    "t_e_minus_t_is = []\n",
    "for gp, df in gc_ns_df.groupby([\"action\", \"drive\"]):\n",
    "    gridcells = df.query(\"gridcell\")\n",
    "    narrows = df.query(\"ns_inhibited\")\n",
    "#     print(f\"Action: {gp[0]} - group: {gp[1]} - n GCs: {len(gridcells)} - n NSi: {len(narrows)}\")\n",
    "    if len(gridcells) > 0 and len(narrows) > 0:\n",
    "        for i, gc in gridcells.iterrows():\n",
    "            for j, ns in narrows.iterrows():\n",
    "                pair = [gc.unit_id, ns.unit_id]\n",
    "                pairs.append(pair)\n",
    "                drives.append(gc.drive)\n",
    "                actions.append(gp[0])\n",
    "                channel_groups_gc.append(gc.channel_group)\n",
    "                channel_groups_ns.append(ns.channel_group)\n",
    "                t_e_minus_t_is.append(gc.t_e_peak - ns.t_i_peak)\n",
    "pair_df = pd.DataFrame(data={\"action\": actions, \"drive\": drives, \"channel_groups_gc\": channel_groups_gc, \"channel_groups_ns\": channel_groups_ns, \"pair\": pairs, \"peak_diff\": t_e_minus_t_is})"
   ]
  },
  {
   "cell_type": "code",
   "execution_count": 7,
   "metadata": {},
   "outputs": [],
   "source": [
    "pair_df = pair_df.dropna()"
   ]
  },
  {
   "cell_type": "code",
   "execution_count": 8,
   "metadata": {},
   "outputs": [
    {
     "data": {
      "text/html": [
       "<div>\n",
       "<style scoped>\n",
       "    .dataframe tbody tr th:only-of-type {\n",
       "        vertical-align: middle;\n",
       "    }\n",
       "\n",
       "    .dataframe tbody tr th {\n",
       "        vertical-align: top;\n",
       "    }\n",
       "\n",
       "    .dataframe thead th {\n",
       "        text-align: right;\n",
       "    }\n",
       "</style>\n",
       "<table border=\"1\" class=\"dataframe\">\n",
       "  <thead>\n",
       "    <tr style=\"text-align: right;\">\n",
       "      <th></th>\n",
       "      <th>action</th>\n",
       "      <th>drive</th>\n",
       "      <th>channel_groups_gc</th>\n",
       "      <th>channel_groups_ns</th>\n",
       "      <th>pair</th>\n",
       "      <th>peak_diff</th>\n",
       "    </tr>\n",
       "  </thead>\n",
       "  <tbody>\n",
       "    <tr>\n",
       "      <th>9</th>\n",
       "      <td>1833-010719-2</td>\n",
       "      <td>0</td>\n",
       "      <td>1</td>\n",
       "      <td>3</td>\n",
       "      <td>[a10ac2a1-89f9-4cb5-9f76-4a230cf99324, 9141d07...</td>\n",
       "      <td>0.0042</td>\n",
       "    </tr>\n",
       "    <tr>\n",
       "      <th>10</th>\n",
       "      <td>1833-010719-2</td>\n",
       "      <td>0</td>\n",
       "      <td>1</td>\n",
       "      <td>3</td>\n",
       "      <td>[69198e70-febc-474a-9bc0-7d8c6ca2a427, 9141d07...</td>\n",
       "      <td>0.0045</td>\n",
       "    </tr>\n",
       "    <tr>\n",
       "      <th>11</th>\n",
       "      <td>1833-010719-2</td>\n",
       "      <td>0</td>\n",
       "      <td>1</td>\n",
       "      <td>3</td>\n",
       "      <td>[66301701-ec31-4aa0-ba74-141388040dbf, 9141d07...</td>\n",
       "      <td>0.0031</td>\n",
       "    </tr>\n",
       "    <tr>\n",
       "      <th>12</th>\n",
       "      <td>1833-010719-2</td>\n",
       "      <td>0</td>\n",
       "      <td>2</td>\n",
       "      <td>3</td>\n",
       "      <td>[9fde0cc8-463f-4910-a35a-a0f86ff67180, 9141d07...</td>\n",
       "      <td>0.0042</td>\n",
       "    </tr>\n",
       "    <tr>\n",
       "      <th>13</th>\n",
       "      <td>1833-010719-2</td>\n",
       "      <td>0</td>\n",
       "      <td>3</td>\n",
       "      <td>3</td>\n",
       "      <td>[504abe70-271e-408d-bd31-4da23abf47e8, 9141d07...</td>\n",
       "      <td>0.0029</td>\n",
       "    </tr>\n",
       "    <tr>\n",
       "      <th>...</th>\n",
       "      <td>...</td>\n",
       "      <td>...</td>\n",
       "      <td>...</td>\n",
       "      <td>...</td>\n",
       "      <td>...</td>\n",
       "      <td>...</td>\n",
       "    </tr>\n",
       "    <tr>\n",
       "      <th>202</th>\n",
       "      <td>1839-200619-2</td>\n",
       "      <td>1</td>\n",
       "      <td>6</td>\n",
       "      <td>6</td>\n",
       "      <td>[c84ea3a1-54dd-4b77-b8f3-d3786a55aa75, 7f37a0c...</td>\n",
       "      <td>0.0025</td>\n",
       "    </tr>\n",
       "    <tr>\n",
       "      <th>204</th>\n",
       "      <td>1849-150319-4</td>\n",
       "      <td>1</td>\n",
       "      <td>4</td>\n",
       "      <td>4</td>\n",
       "      <td>[790e90ac-d9fc-4195-be35-996837305024, 804cf23...</td>\n",
       "      <td>0.0068</td>\n",
       "    </tr>\n",
       "    <tr>\n",
       "      <th>205</th>\n",
       "      <td>1849-220319-3</td>\n",
       "      <td>0</td>\n",
       "      <td>0</td>\n",
       "      <td>1</td>\n",
       "      <td>[3f821594-6d3b-4d3e-b07c-e0b44adfd8eb, c78635a...</td>\n",
       "      <td>0.0042</td>\n",
       "    </tr>\n",
       "    <tr>\n",
       "      <th>206</th>\n",
       "      <td>1849-280219-2</td>\n",
       "      <td>1</td>\n",
       "      <td>7</td>\n",
       "      <td>4</td>\n",
       "      <td>[2923d2c9-f50e-44d0-8ee9-1ce8777c2c05, 18e8a58...</td>\n",
       "      <td>0.0064</td>\n",
       "    </tr>\n",
       "    <tr>\n",
       "      <th>209</th>\n",
       "      <td>1849-280219-4</td>\n",
       "      <td>0</td>\n",
       "      <td>1</td>\n",
       "      <td>2</td>\n",
       "      <td>[8567b6de-f734-4f40-b8c0-f85b68930c9c, 59533d3...</td>\n",
       "      <td>0.0036</td>\n",
       "    </tr>\n",
       "  </tbody>\n",
       "</table>\n",
       "<p>112 rows × 6 columns</p>\n",
       "</div>"
      ],
      "text/plain": [
       "            action  drive  channel_groups_gc  channel_groups_ns  \\\n",
       "9    1833-010719-2      0                  1                  3   \n",
       "10   1833-010719-2      0                  1                  3   \n",
       "11   1833-010719-2      0                  1                  3   \n",
       "12   1833-010719-2      0                  2                  3   \n",
       "13   1833-010719-2      0                  3                  3   \n",
       "..             ...    ...                ...                ...   \n",
       "202  1839-200619-2      1                  6                  6   \n",
       "204  1849-150319-4      1                  4                  4   \n",
       "205  1849-220319-3      0                  0                  1   \n",
       "206  1849-280219-2      1                  7                  4   \n",
       "209  1849-280219-4      0                  1                  2   \n",
       "\n",
       "                                                  pair  peak_diff  \n",
       "9    [a10ac2a1-89f9-4cb5-9f76-4a230cf99324, 9141d07...     0.0042  \n",
       "10   [69198e70-febc-474a-9bc0-7d8c6ca2a427, 9141d07...     0.0045  \n",
       "11   [66301701-ec31-4aa0-ba74-141388040dbf, 9141d07...     0.0031  \n",
       "12   [9fde0cc8-463f-4910-a35a-a0f86ff67180, 9141d07...     0.0042  \n",
       "13   [504abe70-271e-408d-bd31-4da23abf47e8, 9141d07...     0.0029  \n",
       "..                                                 ...        ...  \n",
       "202  [c84ea3a1-54dd-4b77-b8f3-d3786a55aa75, 7f37a0c...     0.0025  \n",
       "204  [790e90ac-d9fc-4195-be35-996837305024, 804cf23...     0.0068  \n",
       "205  [3f821594-6d3b-4d3e-b07c-e0b44adfd8eb, c78635a...     0.0042  \n",
       "206  [2923d2c9-f50e-44d0-8ee9-1ce8777c2c05, 18e8a58...     0.0064  \n",
       "209  [8567b6de-f734-4f40-b8c0-f85b68930c9c, 59533d3...     0.0036  \n",
       "\n",
       "[112 rows x 6 columns]"
      ]
     },
     "execution_count": 8,
     "metadata": {},
     "output_type": "execute_result"
    }
   ],
   "source": [
    "pair_df"
   ]
  },
  {
   "cell_type": "code",
   "execution_count": 9,
   "metadata": {},
   "outputs": [
    {
     "data": {
      "text/plain": [
       "(array([19., 37., 35., 16.,  3.,  0.,  0.,  0.,  0.,  0.,  0.,  0.,  0.,\n",
       "         0.,  0.,  0.,  0.,  0.,  1.,  1.]),\n",
       " array([0.002  , 0.00298, 0.00396, 0.00494, 0.00592, 0.0069 , 0.00788,\n",
       "        0.00886, 0.00984, 0.01082, 0.0118 , 0.01278, 0.01376, 0.01474,\n",
       "        0.01572, 0.0167 , 0.01768, 0.01866, 0.01964, 0.02062, 0.0216 ]),\n",
       " <a list of 20 Patch objects>)"
      ]
     },
     "execution_count": 9,
     "metadata": {},
     "output_type": "execute_result"
    },
    {
     "data": {
      "image/png": "[encoded data removed]",
      "text/plain": [
       "<Figure size 375x300 with 1 Axes>"
      ]
     },
     "metadata": {
      "needs_background": "light"
     },
     "output_type": "display_data"
    }
   ],
   "source": [
    "plt.hist(pair_df.peak_diff, bins=20)"
   ]
  },
  {
   "cell_type": "code",
   "execution_count": 13,
   "metadata": {},
   "outputs": [
    {
     "data": {
      "text/plain": [
       "(0.004249107142857143, 0.0002307902723951557)"
      ]
     },
     "execution_count": 13,
     "metadata": {},
     "output_type": "execute_result"
    }
   ],
   "source": [
    "pair_df.peak_diff.mean(), pair_df.peak_diff.sem()"
   ]
  },
  {
   "cell_type": "code",
   "execution_count": 10,
   "metadata": {},
   "outputs": [],
   "source": [
    "output = pathlib.Path('output/response-pairwise-comparison')\n",
    "(output / 'figures').mkdir(parents=True, exist_ok=True)"
   ]
  },
  {
   "cell_type": "code",
   "execution_count": null,
   "metadata": {},
   "outputs": [],
   "source": []
  },
  {
   "cell_type": "markdown",
   "metadata": {},
   "source": [
    "# Save to expipe"
   ]
  },
  {
   "cell_type": "code",
   "execution_count": 11,
   "metadata": {},
   "outputs": [
    {
     "ename": "NameError",
     "evalue": "name 'project' is not defined",
     "output_type": "error",
     "traceback": [
      "\u001b[0;31m---------------------------------------------------------------------------\u001b[0m",
      "\u001b[0;31mNameError\u001b[0m                                 Traceback (most recent call last)",
      "\u001b[0;32m<ipython-input-11-c7944309f58d>\u001b[0m in \u001b[0;36m<module>\u001b[0;34m\u001b[0m\n\u001b[0;32m----> 1\u001b[0;31m \u001b[0maction\u001b[0m \u001b[0;34m=\u001b[0m \u001b[0mproject\u001b[0m\u001b[0;34m.\u001b[0m\u001b[0mrequire_action\u001b[0m\u001b[0;34m(\u001b[0m\u001b[0;34m\"stimulus-response\"\u001b[0m\u001b[0;34m)\u001b[0m\u001b[0;34m\u001b[0m\u001b[0;34m\u001b[0m\u001b[0m\n\u001b[0m",
      "\u001b[0;31mNameError\u001b[0m: name 'project' is not defined"
     ]
    }
   ],
   "source": [
    "action = project.require_action(\"stimulus-response\")"
   ]
  },
  {
   "cell_type": "code",
   "execution_count": null,
   "metadata": {},
   "outputs": [],
   "source": [
    "copy_tree(output, str(action.data_path()))"
   ]
  },
  {
   "cell_type": "code",
   "execution_count": null,
   "metadata": {},
   "outputs": [],
   "source": [
    "septum_mec.analysis.registration.store_notebook(action, \"10-calculate-stimulus-response.ipynb\")"
   ]
  },
  {
   "cell_type": "code",
   "execution_count": null,
   "metadata": {},
   "outputs": [],
   "source": []
  }
 ],
 "metadata": {
  "kernelspec": {
   "display_name": "Python 3",
   "language": "python",
   "name": "python3"
  },
  "language_info": {
   "codemirror_mode": {
    "name": "ipython",
    "version": 3
   },
   "file_extension": ".py",
   "mimetype": "text/x-python",
   "name": "python",
   "nbconvert_exporter": "python",
   "pygments_lexer": "ipython3",
   "version": "3.6.8"
  }
 },
 "nbformat": 4,
 "nbformat_minor": 4
}
