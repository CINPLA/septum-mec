{
 "cells": [
  {
   "cell_type": "code",
   "execution_count": 1,
   "metadata": {},
   "outputs": [
    {
     "name": "stderr",
     "output_type": "stream",
     "text": [
      "11:40:34 [I] klustakwik KlustaKwik2 version 0.2.6\n"
     ]
    }
   ],
   "source": [
    "import matplotlib.pyplot as plt\n",
    "%matplotlib inline\n",
    "import spatialmaps as sp\n",
    "import septum_mec.analysis.data_processing as dp\n",
    "import expipe\n",
    "import os\n",
    "import pathlib\n",
    "import numpy as np\n",
    "import exdir\n",
    "from scipy.interpolate import interp1d\n",
    "import pandas as pd"
   ]
  },
  {
   "cell_type": "code",
   "execution_count": 2,
   "metadata": {},
   "outputs": [],
   "source": [
    "from expipe_io_neuro.openephys.openephys import generate_tracking, generate_events"
   ]
  },
  {
   "cell_type": "code",
   "execution_count": 3,
   "metadata": {},
   "outputs": [],
   "source": [
    "import pyopenephys"
   ]
  },
  {
   "cell_type": "code",
   "execution_count": 4,
   "metadata": {},
   "outputs": [],
   "source": [
    "exdir_path = '/home/mikkel/expipe/septum-mec/actions/1849-280219-4/data/main.exdir'\n",
    "openephys_path = exdir_path + '/acquisition/4'"
   ]
  },
  {
   "cell_type": "code",
   "execution_count": 5,
   "metadata": {},
   "outputs": [
    {
     "name": "stdout",
     "output_type": "stream",
     "text": [
      "Loading Open-Ephys: reading settings.xml...\n",
      "Decoding data from  binary  format\n"
     ]
    }
   ],
   "source": [
    "oe_recording = pyopenephys.File(str(openephys_path)).experiments[0].recordings[0]"
   ]
  },
  {
   "cell_type": "code",
   "execution_count": 6,
   "metadata": {},
   "outputs": [
    {
     "name": "stdout",
     "output_type": "stream",
     "text": [
      "Saving  2  Open Ephys tracking sources\n",
      ".dat:  continuous.dat\n",
      "Estimated samples:  27163006  Numchan:  32\n",
      "Saving  1  Open Ephys event sources\n"
     ]
    }
   ],
   "source": [
    "if len(oe_recording.tracking) > 0:\n",
    "    print('Saving ', len(oe_recording.tracking), ' Open Ephys tracking sources')\n",
    "    generate_tracking(exdir_path, oe_recording)\n",
    "\n",
    "if len(oe_recording.events) > 0:\n",
    "    print('Saving ', len(oe_recording.events), ' Open Ephys event sources')\n",
    "    generate_events(exdir_path, oe_recording)"
   ]
  },
  {
   "cell_type": "code",
   "execution_count": null,
   "metadata": {},
   "outputs": [],
   "source": []
  }
 ],
 "metadata": {
  "kernelspec": {
   "display_name": "Python 3",
   "language": "python",
   "name": "python3"
  },
  "language_info": {
   "codemirror_mode": {
    "name": "ipython",
    "version": 3
   },
   "file_extension": ".py",
   "mimetype": "text/x-python",
   "name": "python",
   "nbconvert_exporter": "python",
   "pygments_lexer": "ipython3",
   "version": "3.6.8"
  }
 },
 "nbformat": 4,
 "nbformat_minor": 2
}
