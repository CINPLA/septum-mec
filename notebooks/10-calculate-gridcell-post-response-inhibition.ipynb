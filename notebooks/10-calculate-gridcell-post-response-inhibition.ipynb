{
 "cells": [
  {
   "cell_type": "markdown",
   "metadata": {},
   "source": [
    "# Compute post response inhibition for gridcells"
   ]
  },
  {
   "cell_type": "code",
   "execution_count": 80,
   "metadata": {},
   "outputs": [
    {
     "name": "stdout",
     "output_type": "stream",
     "text": [
      "The autoreload extension is already loaded. To reload it, use:\n",
      "  %reload_ext autoreload\n"
     ]
    }
   ],
   "source": [
    "%load_ext autoreload\n",
    "%autoreload 2"
   ]
  },
  {
   "cell_type": "code",
   "execution_count": 110,
   "metadata": {},
   "outputs": [],
   "source": [
    "import matplotlib.pyplot as plt\n",
    "%matplotlib inline\n",
    "import spatial_maps as sp\n",
    "import septum_mec.analysis.data_processing as dp\n",
    "import septum_mec.analysis.registration\n",
    "import expipe\n",
    "import os\n",
    "import pathlib\n",
    "import numpy as np\n",
    "import exdir\n",
    "import pandas as pd\n",
    "import optogenetics as og\n",
    "import quantities as pq\n",
    "import shutil\n",
    "from distutils.dir_util import copy_tree\n",
    "import seaborn as sns\n",
    "from functools import reduce\n",
    "from septum_mec.analysis.stimulus_response import stimulus_response_latency, compute_response\n",
    "import scipy.stats\n",
    "from tqdm import tqdm_notebook as tqdm\n",
    "from tqdm._tqdm_notebook import tqdm_notebook\n",
    "from septum_mec.analysis.statistics import load_data_frames, make_paired_tables, make_statistics_table \n",
    "tqdm_notebook.pandas()\n",
    "\n",
    "%matplotlib inline"
   ]
  },
  {
   "cell_type": "code",
   "execution_count": 82,
   "metadata": {},
   "outputs": [],
   "source": [
    "std_gaussian_kde = 0.04\n",
    "window_size = 0.05\n",
    "tmin = 0. # delay to compute FWHM after stimulus onset"
   ]
  },
  {
   "cell_type": "code",
   "execution_count": 83,
   "metadata": {},
   "outputs": [],
   "source": [
    "data_loader = dp.Data()\n",
    "actions = data_loader.actions\n",
    "project = data_loader.project"
   ]
  },
  {
   "cell_type": "code",
   "execution_count": 84,
   "metadata": {},
   "outputs": [],
   "source": [
    "output = pathlib.Path('output/stimulus-post-response-gridcell-inhibition')\n",
    "(output / 'data').mkdir(parents=True, exist_ok=True)\n",
    "(output / 'figures').mkdir(parents=True, exist_ok=True)\n",
    "(output / 'statistics').mkdir(parents=True, exist_ok=True)"
   ]
  },
  {
   "cell_type": "code",
   "execution_count": 85,
   "metadata": {},
   "outputs": [
    {
     "name": "stdout",
     "output_type": "stream",
     "text": [
      "Number of sessions above threshold 194\n",
      "Number of animals 4\n",
      "Number of individual gridcells 139\n",
      "Number of gridcell recordings 230\n"
     ]
    }
   ],
   "source": [
    "df = load_data_frames()[0]"
   ]
  },
  {
   "cell_type": "code",
   "execution_count": 88,
   "metadata": {},
   "outputs": [
    {
     "name": "stdout",
     "output_type": "stream",
     "text": [
      "102\n"
     ]
    }
   ],
   "source": [
    "stim_df = df.query('p_e_peak == p_e_peak and gridcell')\n",
    "print(len(stim_df))"
   ]
  },
  {
   "cell_type": "code",
   "execution_count": 89,
   "metadata": {},
   "outputs": [
    {
     "data": {
      "application/vnd.jupyter.widget-view+json": {
       "model_id": "d27b3ca5419b448bb7090c62f944f739",
       "version_major": 2,
       "version_minor": 0
      },
      "text/plain": [
       "HBox(children=(IntProgress(value=0, max=102), HTML(value='')))"
      ]
     },
     "metadata": {},
     "output_type": "display_data"
    },
    {
     "name": "stdout",
     "output_type": "stream",
     "text": [
      "\n"
     ]
    }
   ],
   "source": [
    "psth_start = -0.01\n",
    "window_size = 0.05\n",
    "times = np.arange(psth_start, window_size, 1e-4)\n",
    "tmin = 0.005\n",
    "psths = []\n",
    "fwhms = []\n",
    "for i, row in tqdm(stim_df.iterrows(), total=len(stim_df)):\n",
    "    action_id = row['action']\n",
    "    channel_group = row['channel_group']\n",
    "    unit_name = row['unit_name']\n",
    "    name = f'{action_id}_{channel_group}_{unit_name}'\n",
    "    spike_times = data_loader.spike_train(action_id, channel_group, unit_name)\n",
    "    \n",
    "    spike_times = np.array(spike_times)\n",
    "    \n",
    "    stim_times = data_loader.stim_times(action_id)\n",
    "    \n",
    "    if stim_times is None:\n",
    "        continue\n",
    "    \n",
    "    stim_times = np.array(stim_times)\n",
    "    \n",
    "    _, spikes, kernel, p_e, p_i = stimulus_response_latency(\n",
    "        spike_times, stim_times, window_size, std_gaussian_kde)\n",
    "    \n",
    "    if all(np.isnan([p_e, p_i])):\n",
    "        continue\n",
    "    \n",
    "    psths.append(kernel(times))"
   ]
  },
  {
   "cell_type": "code",
   "execution_count": 90,
   "metadata": {},
   "outputs": [],
   "source": [
    "stim_df[\"psth\"] = psths"
   ]
  },
  {
   "cell_type": "code",
   "execution_count": 199,
   "metadata": {},
   "outputs": [],
   "source": [
    "baseline_interval = [-0.005, 0.005]\n",
    "post_interval_11 = [0.015, 0.025]\n",
    "post_interval_30 = [0.015, 0.025]\n",
    "post_post_interval_30 = [0.025, 0.04]\n",
    "\n",
    "bl_avgs = []\n",
    "post_avgs = []\n",
    "post_post_avgs = []\n",
    "for i, row in stim_df.iterrows():\n",
    "    bl_idxs = np.searchsorted(times, baseline_interval, side=\"right\")\n",
    "    avg_bl = np.mean(row.psth[bl_idxs])\n",
    "    if row.frequency == 11:\n",
    "        post_idxs = np.searchsorted(times, post_interval_11, side=\"right\")\n",
    "    else:\n",
    "        post_idxs = np.searchsorted(times, post_interval_30, side=\"right\")\n",
    "        post_post_idxs = np.searchsorted(times, post_post_interval_30, side=\"right\")\n",
    "        \n",
    "    avg_post = np.mean(row.psth[post_idxs])\n",
    "    avg_post_post = np.mean(row.psth[post_idxs])\n",
    "    bl_avgs.append(avg_bl)\n",
    "    post_avgs.append(avg_post)\n",
    "    post_post_avgs.append(avg_post_post)"
   ]
  },
  {
   "cell_type": "code",
   "execution_count": 200,
   "metadata": {},
   "outputs": [],
   "source": [
    "stim_df[\"psth_avg_baseline\"] = bl_avgs\n",
    "stim_df[\"psth_avg_post\"] = post_avgs\n",
    "stim_df[\"psth_avg_post_post\"] = post_post_avgs"
   ]
  },
  {
   "cell_type": "code",
   "execution_count": 201,
   "metadata": {},
   "outputs": [],
   "source": [
    "columns = [\"psth_avg_baseline\", \"psth_avg_post\", \"psth_avg_post_post\"]\n",
    "results, labels = make_paired_tables(stim_df, columns)"
   ]
  },
  {
   "cell_type": "code",
   "execution_count": 202,
   "metadata": {},
   "outputs": [
    {
     "data": {
      "text/html": [
       "<div>\n",
       "<style scoped>\n",
       "    .dataframe tbody tr th:only-of-type {\n",
       "        vertical-align: middle;\n",
       "    }\n",
       "\n",
       "    .dataframe tbody tr th {\n",
       "        vertical-align: top;\n",
       "    }\n",
       "\n",
       "    .dataframe thead th {\n",
       "        text-align: right;\n",
       "    }\n",
       "</style>\n",
       "<table border=\"1\" class=\"dataframe\">\n",
       "  <thead>\n",
       "    <tr style=\"text-align: right;\">\n",
       "      <th></th>\n",
       "      <th>Baseline I</th>\n",
       "      <th>entity</th>\n",
       "      <th>unit_idnum</th>\n",
       "      <th>channel_group</th>\n",
       "      <th>date</th>\n",
       "      <th>11 Hz</th>\n",
       "      <th>Baseline II</th>\n",
       "      <th>30 Hz</th>\n",
       "    </tr>\n",
       "  </thead>\n",
       "  <tbody>\n",
       "    <tr>\n",
       "      <th>34</th>\n",
       "      <td>NaN</td>\n",
       "      <td>1833</td>\n",
       "      <td>13</td>\n",
       "      <td>0</td>\n",
       "      <td>20719</td>\n",
       "      <td>10.312848</td>\n",
       "      <td>NaN</td>\n",
       "      <td>13.729710</td>\n",
       "    </tr>\n",
       "    <tr>\n",
       "      <th>35</th>\n",
       "      <td>NaN</td>\n",
       "      <td>1833</td>\n",
       "      <td>14</td>\n",
       "      <td>0</td>\n",
       "      <td>20719</td>\n",
       "      <td>18.413102</td>\n",
       "      <td>NaN</td>\n",
       "      <td>NaN</td>\n",
       "    </tr>\n",
       "    <tr>\n",
       "      <th>68</th>\n",
       "      <td>NaN</td>\n",
       "      <td>1833</td>\n",
       "      <td>26</td>\n",
       "      <td>0</td>\n",
       "      <td>200619</td>\n",
       "      <td>NaN</td>\n",
       "      <td>NaN</td>\n",
       "      <td>11.650629</td>\n",
       "    </tr>\n",
       "    <tr>\n",
       "      <th>74</th>\n",
       "      <td>NaN</td>\n",
       "      <td>1833</td>\n",
       "      <td>31</td>\n",
       "      <td>0</td>\n",
       "      <td>260619</td>\n",
       "      <td>NaN</td>\n",
       "      <td>NaN</td>\n",
       "      <td>7.264127</td>\n",
       "    </tr>\n",
       "    <tr>\n",
       "      <th>5</th>\n",
       "      <td>NaN</td>\n",
       "      <td>1833</td>\n",
       "      <td>32</td>\n",
       "      <td>0</td>\n",
       "      <td>260619</td>\n",
       "      <td>21.395772</td>\n",
       "      <td>NaN</td>\n",
       "      <td>6.694115</td>\n",
       "    </tr>\n",
       "    <tr>\n",
       "      <th>...</th>\n",
       "      <td>...</td>\n",
       "      <td>...</td>\n",
       "      <td>...</td>\n",
       "      <td>...</td>\n",
       "      <td>...</td>\n",
       "      <td>...</td>\n",
       "      <td>...</td>\n",
       "      <td>...</td>\n",
       "    </tr>\n",
       "    <tr>\n",
       "      <th>11</th>\n",
       "      <td>NaN</td>\n",
       "      <td>1849</td>\n",
       "      <td>684</td>\n",
       "      <td>0</td>\n",
       "      <td>220319</td>\n",
       "      <td>15.949919</td>\n",
       "      <td>NaN</td>\n",
       "      <td>NaN</td>\n",
       "    </tr>\n",
       "    <tr>\n",
       "      <th>1</th>\n",
       "      <td>NaN</td>\n",
       "      <td>1849</td>\n",
       "      <td>715</td>\n",
       "      <td>1</td>\n",
       "      <td>110319</td>\n",
       "      <td>8.124076</td>\n",
       "      <td>NaN</td>\n",
       "      <td>NaN</td>\n",
       "    </tr>\n",
       "    <tr>\n",
       "      <th>15</th>\n",
       "      <td>NaN</td>\n",
       "      <td>1849</td>\n",
       "      <td>724</td>\n",
       "      <td>1</td>\n",
       "      <td>280219</td>\n",
       "      <td>20.009519</td>\n",
       "      <td>NaN</td>\n",
       "      <td>10.822535</td>\n",
       "    </tr>\n",
       "    <tr>\n",
       "      <th>72</th>\n",
       "      <td>NaN</td>\n",
       "      <td>1849</td>\n",
       "      <td>835</td>\n",
       "      <td>4</td>\n",
       "      <td>150319</td>\n",
       "      <td>NaN</td>\n",
       "      <td>NaN</td>\n",
       "      <td>8.010018</td>\n",
       "    </tr>\n",
       "    <tr>\n",
       "      <th>16</th>\n",
       "      <td>NaN</td>\n",
       "      <td>1849</td>\n",
       "      <td>937</td>\n",
       "      <td>7</td>\n",
       "      <td>280219</td>\n",
       "      <td>21.894436</td>\n",
       "      <td>NaN</td>\n",
       "      <td>NaN</td>\n",
       "    </tr>\n",
       "  </tbody>\n",
       "</table>\n",
       "<p>81 rows × 8 columns</p>\n",
       "</div>"
      ],
      "text/plain": [
       "    Baseline I  entity  unit_idnum  channel_group    date      11 Hz  \\\n",
       "34         NaN    1833          13              0   20719  10.312848   \n",
       "35         NaN    1833          14              0   20719  18.413102   \n",
       "68         NaN    1833          26              0  200619        NaN   \n",
       "74         NaN    1833          31              0  260619        NaN   \n",
       "5          NaN    1833          32              0  260619  21.395772   \n",
       "..         ...     ...         ...            ...     ...        ...   \n",
       "11         NaN    1849         684              0  220319  15.949919   \n",
       "1          NaN    1849         715              1  110319   8.124076   \n",
       "15         NaN    1849         724              1  280219  20.009519   \n",
       "72         NaN    1849         835              4  150319        NaN   \n",
       "16         NaN    1849         937              7  280219  21.894436   \n",
       "\n",
       "    Baseline II      30 Hz  \n",
       "34          NaN  13.729710  \n",
       "35          NaN        NaN  \n",
       "68          NaN  11.650629  \n",
       "74          NaN   7.264127  \n",
       "5           NaN   6.694115  \n",
       "..          ...        ...  \n",
       "11          NaN        NaN  \n",
       "1           NaN        NaN  \n",
       "15          NaN  10.822535  \n",
       "72          NaN   8.010018  \n",
       "16          NaN        NaN  \n",
       "\n",
       "[81 rows x 8 columns]"
      ]
     },
     "execution_count": 202,
     "metadata": {},
     "output_type": "execute_result"
    }
   ],
   "source": [
    "results['gridcell']['psth_avg_baseline']"
   ]
  },
  {
   "cell_type": "code",
   "execution_count": 203,
   "metadata": {},
   "outputs": [],
   "source": [
    "results_11_and_30 = {}\n",
    "for label in ['11 Hz', '30 Hz']:\n",
    "    values = pd.DataFrame()\n",
    "    for i, row in results['gridcell']['psth_avg_baseline'].iterrows():\n",
    "        values.loc[i, 'psth_avg_baseline'] = results['gridcell']['psth_avg_baseline'].loc[i, label]\n",
    "        values.loc[i, 'psth_avg_post'] = results['gridcell']['psth_avg_post'].loc[i, label]\n",
    "        values.loc[i, 'psth_avg_post_post'] = results['gridcell']['psth_avg_post_post'].loc[i, label]\n",
    "        values.loc[i, 'entity'] = results['gridcell']['psth_avg_post'].loc[i, 'entity']\n",
    "        values.loc[i, 'unit_idnum'] = results['gridcell']['psth_avg_post'].loc[i, 'unit_idnum']\n",
    "    values.unit_idnum = values.unit_idnum.values.astype(int)\n",
    "    values.entity = values.entity.values.astype(int).astype(str)\n",
    "    results_11_and_30[label] = values"
   ]
  },
  {
   "cell_type": "code",
   "execution_count": 204,
   "metadata": {},
   "outputs": [
    {
     "data": {
      "text/html": [
       "<div>\n",
       "<style scoped>\n",
       "    .dataframe tbody tr th:only-of-type {\n",
       "        vertical-align: middle;\n",
       "    }\n",
       "\n",
       "    .dataframe tbody tr th {\n",
       "        vertical-align: top;\n",
       "    }\n",
       "\n",
       "    .dataframe thead th {\n",
       "        text-align: right;\n",
       "    }\n",
       "</style>\n",
       "<table border=\"1\" class=\"dataframe\">\n",
       "  <thead>\n",
       "    <tr style=\"text-align: right;\">\n",
       "      <th></th>\n",
       "      <th>psth_avg_baseline</th>\n",
       "      <th>psth_avg_post</th>\n",
       "      <th>psth_avg_post_post</th>\n",
       "      <th>entity</th>\n",
       "      <th>unit_idnum</th>\n",
       "    </tr>\n",
       "  </thead>\n",
       "  <tbody>\n",
       "    <tr>\n",
       "      <th>34</th>\n",
       "      <td>10.312848</td>\n",
       "      <td>11.094699</td>\n",
       "      <td>11.094699</td>\n",
       "      <td>1833</td>\n",
       "      <td>13</td>\n",
       "    </tr>\n",
       "    <tr>\n",
       "      <th>35</th>\n",
       "      <td>18.413102</td>\n",
       "      <td>7.556779</td>\n",
       "      <td>7.556779</td>\n",
       "      <td>1833</td>\n",
       "      <td>14</td>\n",
       "    </tr>\n",
       "    <tr>\n",
       "      <th>68</th>\n",
       "      <td>NaN</td>\n",
       "      <td>NaN</td>\n",
       "      <td>NaN</td>\n",
       "      <td>1833</td>\n",
       "      <td>26</td>\n",
       "    </tr>\n",
       "    <tr>\n",
       "      <th>74</th>\n",
       "      <td>NaN</td>\n",
       "      <td>NaN</td>\n",
       "      <td>NaN</td>\n",
       "      <td>1833</td>\n",
       "      <td>31</td>\n",
       "    </tr>\n",
       "    <tr>\n",
       "      <th>5</th>\n",
       "      <td>21.395772</td>\n",
       "      <td>7.981111</td>\n",
       "      <td>7.981111</td>\n",
       "      <td>1833</td>\n",
       "      <td>32</td>\n",
       "    </tr>\n",
       "    <tr>\n",
       "      <th>...</th>\n",
       "      <td>...</td>\n",
       "      <td>...</td>\n",
       "      <td>...</td>\n",
       "      <td>...</td>\n",
       "      <td>...</td>\n",
       "    </tr>\n",
       "    <tr>\n",
       "      <th>11</th>\n",
       "      <td>15.949919</td>\n",
       "      <td>12.452287</td>\n",
       "      <td>12.452287</td>\n",
       "      <td>1849</td>\n",
       "      <td>684</td>\n",
       "    </tr>\n",
       "    <tr>\n",
       "      <th>1</th>\n",
       "      <td>8.124076</td>\n",
       "      <td>37.357218</td>\n",
       "      <td>37.357218</td>\n",
       "      <td>1849</td>\n",
       "      <td>715</td>\n",
       "    </tr>\n",
       "    <tr>\n",
       "      <th>15</th>\n",
       "      <td>20.009519</td>\n",
       "      <td>3.743189</td>\n",
       "      <td>3.743189</td>\n",
       "      <td>1849</td>\n",
       "      <td>724</td>\n",
       "    </tr>\n",
       "    <tr>\n",
       "      <th>72</th>\n",
       "      <td>NaN</td>\n",
       "      <td>NaN</td>\n",
       "      <td>NaN</td>\n",
       "      <td>1849</td>\n",
       "      <td>835</td>\n",
       "    </tr>\n",
       "    <tr>\n",
       "      <th>16</th>\n",
       "      <td>21.894436</td>\n",
       "      <td>4.901085</td>\n",
       "      <td>4.901085</td>\n",
       "      <td>1849</td>\n",
       "      <td>937</td>\n",
       "    </tr>\n",
       "  </tbody>\n",
       "</table>\n",
       "<p>81 rows × 5 columns</p>\n",
       "</div>"
      ],
      "text/plain": [
       "    psth_avg_baseline  psth_avg_post  psth_avg_post_post entity  unit_idnum\n",
       "34          10.312848      11.094699           11.094699   1833          13\n",
       "35          18.413102       7.556779            7.556779   1833          14\n",
       "68                NaN            NaN                 NaN   1833          26\n",
       "74                NaN            NaN                 NaN   1833          31\n",
       "5           21.395772       7.981111            7.981111   1833          32\n",
       "..                ...            ...                 ...    ...         ...\n",
       "11          15.949919      12.452287           12.452287   1849         684\n",
       "1            8.124076      37.357218           37.357218   1849         715\n",
       "15          20.009519       3.743189            3.743189   1849         724\n",
       "72                NaN            NaN                 NaN   1849         835\n",
       "16          21.894436       4.901085            4.901085   1849         937\n",
       "\n",
       "[81 rows x 5 columns]"
      ]
     },
     "execution_count": 204,
     "metadata": {},
     "output_type": "execute_result"
    }
   ],
   "source": [
    "results_11_and_30['11 Hz']"
   ]
  },
  {
   "cell_type": "code",
   "execution_count": 205,
   "metadata": {},
   "outputs": [],
   "source": [
    "stat, _ = make_statistics_table(results_11_and_30, columns)"
   ]
  },
  {
   "cell_type": "code",
   "execution_count": 206,
   "metadata": {},
   "outputs": [
    {
     "data": {
      "text/html": [
       "<div>\n",
       "<style scoped>\n",
       "    .dataframe tbody tr th:only-of-type {\n",
       "        vertical-align: middle;\n",
       "    }\n",
       "\n",
       "    .dataframe tbody tr th {\n",
       "        vertical-align: top;\n",
       "    }\n",
       "\n",
       "    .dataframe thead th {\n",
       "        text-align: right;\n",
       "    }\n",
       "</style>\n",
       "<table border=\"1\" class=\"dataframe\">\n",
       "  <thead>\n",
       "    <tr style=\"text-align: right;\">\n",
       "      <th></th>\n",
       "      <th>11 hz</th>\n",
       "      <th>30 hz</th>\n",
       "    </tr>\n",
       "  </thead>\n",
       "  <tbody>\n",
       "    <tr>\n",
       "      <th>psth_avg_baseline</th>\n",
       "      <td>1.8e+01 ± 6.5e-01 (58)</td>\n",
       "      <td>8.3e+00 ± 3.8e-01 (33)</td>\n",
       "    </tr>\n",
       "    <tr>\n",
       "      <th>psth_avg_post</th>\n",
       "      <td>8.3e+00 ± 1.0e+00 (58)</td>\n",
       "      <td>9.2e+00 ± 5.3e-01 (33)</td>\n",
       "    </tr>\n",
       "    <tr>\n",
       "      <th>psth_avg_post_post</th>\n",
       "      <td>8.3e+00 ± 1.0e+00 (58)</td>\n",
       "      <td>9.2e+00 ± 5.3e-01 (33)</td>\n",
       "    </tr>\n",
       "    <tr>\n",
       "      <th>LMM psth_avg_baseline - psth_avg_post</th>\n",
       "      <td>$\\rho$=-1.0e+01, p=4.5e-05</td>\n",
       "      <td>$\\rho$=9.1e-01, p=6.3e-01</td>\n",
       "    </tr>\n",
       "    <tr>\n",
       "      <th>LMM psth_avg_baseline - psth_avg_post_post</th>\n",
       "      <td>$\\rho$=-1.0e+01, p=4.5e-05</td>\n",
       "      <td>$\\rho$=9.1e-01, p=6.3e-01</td>\n",
       "    </tr>\n",
       "    <tr>\n",
       "      <th>LMM psth_avg_post - psth_avg_post_post</th>\n",
       "      <td>$\\rho$=-3.8e-13, p=1.0e+00</td>\n",
       "      <td>$\\rho$=-5.0e-14, p=1.0e+00</td>\n",
       "    </tr>\n",
       "  </tbody>\n",
       "</table>\n",
       "</div>"
      ],
      "text/plain": [
       "                                                                 11 hz  \\\n",
       "psth_avg_baseline                               1.8e+01 ± 6.5e-01 (58)   \n",
       "psth_avg_post                                   8.3e+00 ± 1.0e+00 (58)   \n",
       "psth_avg_post_post                              8.3e+00 ± 1.0e+00 (58)   \n",
       "LMM psth_avg_baseline - psth_avg_post       $\\rho$=-1.0e+01, p=4.5e-05   \n",
       "LMM psth_avg_baseline - psth_avg_post_post  $\\rho$=-1.0e+01, p=4.5e-05   \n",
       "LMM psth_avg_post - psth_avg_post_post      $\\rho$=-3.8e-13, p=1.0e+00   \n",
       "\n",
       "                                                                 30 hz  \n",
       "psth_avg_baseline                               8.3e+00 ± 3.8e-01 (33)  \n",
       "psth_avg_post                                   9.2e+00 ± 5.3e-01 (33)  \n",
       "psth_avg_post_post                              9.2e+00 ± 5.3e-01 (33)  \n",
       "LMM psth_avg_baseline - psth_avg_post        $\\rho$=9.1e-01, p=6.3e-01  \n",
       "LMM psth_avg_baseline - psth_avg_post_post   $\\rho$=9.1e-01, p=6.3e-01  \n",
       "LMM psth_avg_post - psth_avg_post_post      $\\rho$=-5.0e-14, p=1.0e+00  "
      ]
     },
     "execution_count": 206,
     "metadata": {},
     "output_type": "execute_result"
    }
   ],
   "source": [
    "stat"
   ]
  },
  {
   "cell_type": "code",
   "execution_count": 207,
   "metadata": {},
   "outputs": [],
   "source": [
    "plt.rc('axes', titlesize=12)\n",
    "plt.rcParams.update({\n",
    "    'font.size': 12, \n",
    "    'figure.figsize': (1.7, 3), \n",
    "    'figure.dpi': 150\n",
    "})"
   ]
  },
  {
   "cell_type": "code",
   "execution_count": 208,
   "metadata": {},
   "outputs": [],
   "source": [
    "def violinplot2(data, xticks, colors):\n",
    "    pos = [i * 0.6 for i in range(len(data))]\n",
    "    print(pos)\n",
    "    violins = plt.violinplot(data, pos, showmeans=True, showextrema=False)\n",
    "    \n",
    "    for i, b in enumerate(violins['bodies']):\n",
    "        b.set_color(colors[i])\n",
    "        b.set_alpha (0.8)\n",
    "\n",
    " \n",
    "\n",
    "    # for i, body in enumerate(violins['cbars']):\n",
    "    #     body.set_color('C{}'.format(i))\n",
    "\n",
    " \n",
    "\n",
    "    for category in ['cbars', 'cmins', 'cmaxes', 'cmedians', 'cmeans']:\n",
    "        if category in violins:\n",
    "            violins[category].set_color(['k', 'k'])\n",
    "            violins[category].set_linewidth(2.0)\n",
    "    plt.xticks(pos, xticks, rotation=45)\n",
    "    plt.gca().spines['top'].set_visible(False)\n",
    "    plt.gca().spines['right'].set_visible(False)"
   ]
  },
  {
   "cell_type": "code",
   "execution_count": 209,
   "metadata": {},
   "outputs": [
    {
     "name": "stdout",
     "output_type": "stream",
     "text": [
      "[0.0, 0.6]\n",
      "[0.0, 0.6]\n",
      "[0.0, 0.6]\n"
     ]
    },
    {
     "data": {
      "text/plain": [
       "Text(0.5, 1.0, '30Hz')"
      ]
     },
     "execution_count": 209,
     "metadata": {},
     "output_type": "execute_result"
    },
    {
     "data": {
      "image/png": "[encoded data removed]",
      "text/plain": [
       "<Figure size 255x450 with 1 Axes>"
      ]
     },
     "metadata": {
      "needs_background": "light"
     },
     "output_type": "display_data"
    },
    {
     "data": {
      "image/png": "[encoded data removed]",
      "text/plain": [
       "<Figure size 255x450 with 1 Axes>"
      ]
     },
     "metadata": {
      "needs_background": "light"
     },
     "output_type": "display_data"
    },
    {
     "data": {
      "image/png": "[encoded data removed]",
      "text/plain": [
       "<Figure size 255x450 with 1 Axes>"
      ]
     },
     "metadata": {
      "needs_background": "light"
     },
     "output_type": "display_data"
    }
   ],
   "source": [
    "stim11 = stim_df.query(\"frequency == 11\")\n",
    "stim30 = stim_df.query(\"frequency == 30\")\n",
    "\n",
    "fig = plt.figure()\n",
    "violinplot2(\n",
    "    [stim11.psth_avg_baseline, stim11.psth_avg_post], \n",
    "    colors=['#1b9e77', \"C0\"],\n",
    "    xticks=[\"baseline\", \"post\"],\n",
    ")\n",
    "plt.title(\"11Hz\")\n",
    "# savefig()\n",
    "\n",
    "fig = plt.figure()\n",
    "violinplot2(\n",
    "    [stim30.psth_avg_baseline, stim30.psth_avg_post], \n",
    "    colors=['#7570b3', \"C0\"],\n",
    "    xticks=[\"baseline\", \"post\"],\n",
    ")\n",
    "plt.title(\"30Hz\")\n",
    "\n",
    "fig = plt.figure()\n",
    "violinplot2(\n",
    "    [stim30.psth_avg_baseline, stim30.psth_avg_post_post], \n",
    "    colors=['#7570b3', \"C0\"],\n",
    "    xticks=[\"baseline\", \"post_post\"],\n",
    ")\n",
    "plt.title(\"30Hz\")"
   ]
  },
  {
   "cell_type": "markdown",
   "metadata": {},
   "source": [
    "# Save to expipe"
   ]
  },
  {
   "cell_type": "code",
   "execution_count": null,
   "metadata": {},
   "outputs": [],
   "source": [
    "action = project.require_action(\"stimulus-response-post-response-inhibition\")"
   ]
  },
  {
   "cell_type": "code",
   "execution_count": null,
   "metadata": {},
   "outputs": [],
   "source": [
    "action.modules['parameters'] = {\n",
    "    'window_size': window_size,\n",
    "    'std_gaussian_kde': std_gaussian_kde,\n",
    "    'tmin': tmin\n",
    "}"
   ]
  },
  {
   "cell_type": "code",
   "execution_count": null,
   "metadata": {},
   "outputs": [],
   "source": [
    "action.data['results'] = 'results.csv'\n",
    "session_units_sig.to_csv(action.data_path('results'), index=False)"
   ]
  },
  {
   "cell_type": "code",
   "execution_count": null,
   "metadata": {},
   "outputs": [],
   "source": [
    "copy_tree(output_path, str(action.data_path()))"
   ]
  },
  {
   "cell_type": "code",
   "execution_count": null,
   "metadata": {},
   "outputs": [],
   "source": [
    "septum_mec.analysis.registration.store_notebook(action, \"10-calculate-stimulus-response-fwhm.ipynb\")"
   ]
  },
  {
   "cell_type": "code",
   "execution_count": null,
   "metadata": {},
   "outputs": [],
   "source": []
  }
 ],
 "metadata": {
  "kernelspec": {
   "display_name": "Python 3",
   "language": "python",
   "name": "python3"
  },
  "language_info": {
   "codemirror_mode": {
    "name": "ipython",
    "version": 3
   },
   "file_extension": ".py",
   "mimetype": "text/x-python",
   "name": "python",
   "nbconvert_exporter": "python",
   "pygments_lexer": "ipython3",
   "version": "3.6.8"
  }
 },
 "nbformat": 4,
 "nbformat_minor": 4
}
